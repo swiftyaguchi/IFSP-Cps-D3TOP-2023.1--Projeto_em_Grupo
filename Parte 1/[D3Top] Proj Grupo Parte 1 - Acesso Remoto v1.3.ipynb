{
 "cells": [
  {
   "cell_type": "markdown",
   "id": "78ffbd83-345d-4502-a4ae-7d094f92c96f",
   "metadata": {
    "tags": []
   },
   "source": [
    "**IFSP - Campus Campinas** <br>\n",
    "**Pós-graduação em Ciência de Dados** <br>\n",
    "**Disciplina D3TOP – Tópicos em Ciência de Dados** <br>\n",
    "\n",
    "Projeto em Grupo - Parte 1\n",
    "\n",
    "v 1.3 - Entrada de PLO pela iter e teste com endpoint do modelo\n",
    "\n",
    "Professor: Samuel Martins (samuel.martins@ifsp.edu.br)<br>\n",
    "Aluno: Swift Motoo Yaguchi - CP301665X"
   ]
  },
  {
   "cell_type": "markdown",
   "id": "29e47f9a-d68f-4484-aaf3-68077dbd0463",
   "metadata": {},
   "source": [
    "------"
   ]
  },
  {
   "cell_type": "markdown",
   "id": "c2b8fd38-806d-46bf-b65c-8eb6e319b296",
   "metadata": {},
   "source": [
    "**Instalando bibliotecas**"
   ]
  },
  {
   "cell_type": "code",
   "execution_count": 1,
   "id": "b7b5c3bf-1a95-4c9d-bf87-a2baddf23965",
   "metadata": {
    "tags": []
   },
   "outputs": [],
   "source": [
    "#Upgrade dependencies\n",
    "#!pip install --upgrade pip\n",
    "#!pip install --upgrade scikit-learn\n",
    "#!pip install --upgrade sagemaker"
   ]
  },
  {
   "cell_type": "code",
   "execution_count": 2,
   "id": "912308e6-91f9-4170-be93-aa3c55d9ed41",
   "metadata": {
    "tags": []
   },
   "outputs": [],
   "source": [
    "import pandas as pd\n",
    "import numpy as np"
   ]
  },
  {
   "cell_type": "markdown",
   "id": "bbe8c6ce-6f3a-49cf-81f0-4ac77ec3e154",
   "metadata": {},
   "source": [
    "# Etapa de entrada de dados do PLO"
   ]
  },
  {
   "cell_type": "code",
   "execution_count": 3,
   "id": "a9c2049b-5ccd-4197-9af2-12e84501f7a2",
   "metadata": {},
   "outputs": [],
   "source": [
    "# recuperando dados transformados\n",
    "\n",
    "X_test = np.load('X_test_transformado.npy')"
   ]
  },
  {
   "cell_type": "code",
   "execution_count": 4,
   "id": "7a6c27a0-eadb-49fc-9567-947e2a5225fe",
   "metadata": {},
   "outputs": [
    {
     "data": {
      "text/plain": [
       "(6, 302)"
      ]
     },
     "execution_count": 4,
     "metadata": {},
     "output_type": "execute_result"
    }
   ],
   "source": [
    "X_test.shape"
   ]
  },
  {
   "cell_type": "markdown",
   "id": "21077928-71b4-4d09-aa17-352a79160685",
   "metadata": {},
   "source": [
    "Vamos selecionar um dos PLOs de X_test"
   ]
  },
  {
   "cell_type": "code",
   "execution_count": 12,
   "id": "9dfd6f65-9da7-4fdf-a5df-d7df5ee740c7",
   "metadata": {},
   "outputs": [
    {
     "name": "stdout",
     "output_type": "stream",
     "text": [
      "[0.06666667 0.46153846 0.         0.         0.         0.\n",
      " 0.         0.         0.         0.         0.         0.\n",
      " 0.         0.         0.         0.         0.         0.\n",
      " 0.         0.         0.         0.         0.         1.\n",
      " 1.         0.         0.         0.         0.         0.\n",
      " 0.         0.         0.         1.         0.         1.\n",
      " 0.         1.         0.         0.         0.         0.\n",
      " 0.         0.         0.         0.         0.         1.\n",
      " 0.         0.         0.         0.         0.         1.\n",
      " 0.         0.         0.         0.         0.         0.\n",
      " 0.         1.         0.         1.         0.         0.\n",
      " 0.         0.         0.         0.         0.         0.\n",
      " 1.         1.         0.         1.         0.         0.\n",
      " 0.         0.         0.         1.         0.         0.\n",
      " 1.         0.         0.         0.         0.         0.\n",
      " 1.         1.         0.         0.         0.         0.\n",
      " 0.         0.         0.         0.         0.         0.\n",
      " 1.         0.         0.         0.         0.         0.\n",
      " 0.         0.         0.         0.         0.         0.\n",
      " 0.         0.         0.         1.         0.         0.\n",
      " 0.         0.         0.         0.         0.         0.\n",
      " 0.         1.         1.         0.         0.         0.\n",
      " 0.         0.         0.         0.         0.         0.\n",
      " 1.         0.         0.         0.         0.         0.\n",
      " 0.         0.         0.         0.         1.         0.\n",
      " 0.         1.         0.         0.         0.         0.\n",
      " 0.         0.         0.         0.         1.         0.\n",
      " 0.         0.         0.         0.         0.         0.\n",
      " 0.         0.         0.         0.         0.         1.\n",
      " 0.         0.         0.         0.         0.         0.\n",
      " 0.         0.         0.         0.         0.         0.\n",
      " 0.         0.         0.         0.         0.         0.\n",
      " 0.         0.         0.         0.         0.         0.\n",
      " 1.         0.         1.         1.         0.         0.\n",
      " 0.         0.         0.         0.         0.         0.\n",
      " 0.         0.         0.         0.         0.         0.\n",
      " 0.         0.         1.         0.         0.         0.\n",
      " 0.         0.         0.         0.         0.         1.\n",
      " 0.         0.         0.         0.         0.         0.\n",
      " 1.         0.         0.         0.         0.         0.\n",
      " 0.         0.         0.         0.         1.         0.\n",
      " 0.         0.         1.         0.         0.         0.\n",
      " 0.         0.         0.         0.         0.         0.\n",
      " 0.         0.         0.         0.         0.         0.\n",
      " 0.         0.         0.         0.         0.         0.\n",
      " 0.         0.         1.         0.         0.         0.\n",
      " 0.         0.         0.         0.         0.         0.\n",
      " 0.         0.         1.         0.         0.         0.\n",
      " 0.         0.         0.         0.         0.         0.\n",
      " 0.         0.         0.         0.         0.         0.\n",
      " 0.         0.        ]\n"
     ]
    }
   ],
   "source": [
    "# selecionando índice do PLO dentre os dados de X_test\n",
    "PLO_test = X_test[1]\n",
    "print(PLO_test)"
   ]
  },
  {
   "cell_type": "markdown",
   "id": "97ffc07c-a3df-44a0-b49d-ce16684cf881",
   "metadata": {},
   "source": [
    "# Preparação do dado de teste em JSON\n",
    "É necessário converter os dados no format JSON para envio ao endpoint AWS"
   ]
  },
  {
   "cell_type": "code",
   "execution_count": 13,
   "id": "fdbeae1f-a0f0-4cc2-b37e-11b843b75725",
   "metadata": {},
   "outputs": [
    {
     "name": "stdout",
     "output_type": "stream",
     "text": [
      "{\"test_data\": \"0, 0, 0, 0, 0, 0, 0, 0, 0, 0, 0, 0, 0, 0, 0, 0, 0, 0, 0, 0, 0, 0, 0, 1, 1, 0, 0, 0, 0, 0, 0, 0, 0, 1, 0, 1, 0, 1, 0, 0, 0, 0, 0, 0, 0, 0, 0, 1, 0, 0, 0, 0, 0, 1, 0, 0, 0, 0, 0, 0, 0, 1, 0, 1, 0, 0, 0, 0, 0, 0, 0, 0, 1, 1, 0, 1, 0, 0, 0, 0, 0, 1, 0, 0, 1, 0, 0, 0, 0, 0, 1, 1, 0, 0, 0, 0, 0, 0, 0, 0, 0, 0, 1, 0, 0, 0, 0, 0, 0, 0, 0, 0, 0, 0, 0, 0, 0, 1, 0, 0, 0, 0, 0, 0, 0, 0, 0, 1, 1, 0, 0, 0, 0, 0, 0, 0, 0, 0, 1, 0, 0, 0, 0, 0, 0, 0, 0, 0, 1, 0, 0, 1, 0, 0, 0, 0, 0, 0, 0, 0, 1, 0, 0, 0, 0, 0, 0, 0, 0, 0, 0, 0, 0, 1, 0, 0, 0, 0, 0, 0, 0, 0, 0, 0, 0, 0, 0, 0, 0, 0, 0, 0, 0, 0, 0, 0, 0, 0, 1, 0, 1, 1, 0, 0, 0, 0, 0, 0, 0, 0, 0, 0, 0, 0, 0, 0, 0, 0, 1, 0, 0, 0, 0, 0, 0, 0, 0, 1, 0, 0, 0, 0, 0, 0, 1, 0, 0, 0, 0, 0, 0, 0, 0, 0, 1, 0, 0, 0, 1, 0, 0, 0, 0, 0, 0, 0, 0, 0, 0, 0, 0, 0, 0, 0, 0, 0, 0, 0, 0, 0, 0, 0, 1, 0, 0, 0, 0, 0, 0, 0, 0, 0, 0, 0, 1, 0, 0, 0, 0, 0, 0, 0, 0, 0, 0, 0, 0, 0, 0, 0, 0, 0\"}\n"
     ]
    }
   ],
   "source": [
    "import json\n",
    "import numpy as np\n",
    "\n",
    "# Criar o array numpy\n",
    "#arr = np.array([0.06666667, 0.46153846, 0., 0., 0.])\n",
    "arr = PLO_test\n",
    "\n",
    "# Converter o array numpy em uma lista Python\n",
    "lst = arr.tolist()\n",
    "\n",
    "# Criar uma função de serialização personalizada para formatar os números com 1 casa decimal\n",
    "def serialize_numbers(obj):\n",
    "    if isinstance(obj, float):\n",
    "        return '{:.1f}'.format(obj)\n",
    "    else:\n",
    "        return obj\n",
    "\n",
    "# Criar um novo array numpy com os valores arredondados para 1 casa decimal\n",
    "new_arr = np.round(arr).astype(int)\n",
    "\n",
    "# Converter o novo array numpy em uma lista Python\n",
    "new_lst = new_arr.tolist()\n",
    "\n",
    "# Criar um dicionário com a chave \"test_data\" e a lista convertida em uma string\n",
    "d = {\"test_data\": \", \".join(str(x) for x in new_lst)}\n",
    "\n",
    "# Converter o dicionário em um texto JSON, usando a função de serialização personalizada\n",
    "json_text = json.dumps(d, default=serialize_numbers)\n",
    "\n",
    "# Imprimir o resultado\n",
    "print(json_text)"
   ]
  },
  {
   "cell_type": "code",
   "execution_count": null,
   "id": "7844c65d-03cb-414f-b807-0959d0af3a75",
   "metadata": {},
   "outputs": [],
   "source": []
  },
  {
   "cell_type": "markdown",
   "id": "8a623f70-d186-4c72-b968-68ff9318b211",
   "metadata": {},
   "source": [
    "## Teste do endpoint\n",
    "\n",
    "Agora que o endpoint está implementado, você enviará os dados de teste para ele e verá previsões dos dados.\n",
    "\n",
    "Envio de dados para o endpoint do modelo através do AWS API Gateway e AWS Lambda"
   ]
  },
  {
   "cell_type": "code",
   "execution_count": 14,
   "id": "8f84d32a-886a-4ce7-9d1c-39281b01b225",
   "metadata": {
    "tags": []
   },
   "outputs": [],
   "source": [
    "import requests\n",
    "from bs4 import BeautifulSoup"
   ]
  },
  {
   "cell_type": "code",
   "execution_count": 16,
   "id": "7b863498-da7a-4be7-bedc-d11405c399b8",
   "metadata": {
    "tags": []
   },
   "outputs": [
    {
     "name": "stdout",
     "output_type": "stream",
     "text": [
      "{\"predictions\": [{\"score\": 0.006039994303137064, \"predicted_label\": 0}]}\n"
     ]
    }
   ],
   "source": [
    "# get the page\n",
    "URL = ' https://xzie9m7gv8.execute-api.us-east-1.amazonaws.com/Test'\n",
    "\n",
    "# test_data = {\"test_data\":\"0.0, 0.030769232, 0.0, 0.0, 0.0,0.0, 0.0, 0.0, 0.0, 0.0,0.0, 0.0, 0.0, 0.0, 0.0,0.0, 0.0, 0.0, 0.0, 0.0,0.0, 0.0, 0.0, 0.0, 0.0,0.0, 0.0, 0.0, 0.0, 0.0,0.0, 0.0, 0.0, 0.0, 0.0,0.0, 0.0, 0.0, 0.0, 0.0,0.0, 0.0, 0.0, 0.0, 0.0,0.0, 0.0, 0.0, 1.0, 0.0,0.0, 0.0, 0.0, 0.0, 0.0,0.0, 0.0, 0.0, 0.0, 0.0,0.0, 0.0, 0.0, 0.0, 0.0,0.0, 0.0, 0.0, 0.0, 0.0,0.0, 0.0, 0.0, 0.0, 0.0,0.0, 0.0, 0.0, 0.0, 0.0,0.0, 0.0,0.0, 0.0, 0.0,0.0, 0.0, 0.0, 0.0, 0.0,0.0, 0.0, 0.0, 0.0, 0.0,0.0, 0.0, 0.0, 0.0, 0.0,1.0, 0.0, 0.0, 0.0, 0.0,0.0, 0.0, 0.0, 0.0, 0.0,0.0, 0.0, 0.0, 0.0, 0.0,0.0, 0.0, 0.0, 0.0, 0.0,0.0, 0.0, 0.0, 0.0, 0.0,0.0, 0.0, 0.0, 0.0, 0.0,0.0, 0.0, 0.0, 0.0, 0.0,0.0, 0.0, 0.0, 0.0, 0.0,0.0, 0.0, 0.0, 0.0, 0.0,1.0, 0.0, 0.0, 0.0, 0.0,0.0, 0.0, 0.0, 0.0, 0.0,0.0, 0.0, 0.0, 0.0, 0.0,0.0, 1.0, 0.0, 0.0, 0.0,0.0, 0.0, 0.0, 0.0, 0.0,0.0, 0.0, 0.0, 0.0, 0.0,0.0, 0.0, 0.0, 0.0, 0.0,0.0, 0.0, 0.0, 0.0, 0.0,0.0, 0.0, 0.0, 0.0, 0.0,0.0, 0.0, 0.0, 0.0, 0.0,0.0, 0.0, 0.0, 0.0, 0.0,0.0, 0.0, 0.0, 0.0, 0.0,0.0, 0.0, 0.0, 1.0, 0.0,0.0, 0.0, 0.0, 0.0, 0.0,0.0, 0.0, 0.0, 0.0, 0.0,0.0, 0.0, 0.0, 0.0, 0.0,0.0, 0.0, 0.0, 0.0, 0.0,0.0, 0.0, 0.0, 0.0, 0.0,0.0, 0.0, 0.0, 0.0, 0.0,0.0, 0.0, 0.0, 0.0, 0.0,0.0, 0.0, 0.0, 0.0, 0.0,0.0, 0.0, 0.0, 1.0, 1.0,0.0, 0.0, 1.0, 0.0, 1.0,1.0, 0.0, 0.0, 1.0, 1.0,0.0, 0.0, 0.0, 1.0, 1.0,1.0, 0.0, 1.0, 0.0, 1.0,0.0, 0.0, 0.0, 0.0, 1.0,1.0, 0.0, 1.0, 0.0, 0.0,0.0, 0.0, 0.0, 1.0, 1.0,1.0, 0.0, 0.0, 0.0, 0.0,0.0, 0.0, 0.0, 0.0, 1.0,0.0, 0.0\"}\n",
    "\n",
    "payload = json.loads(json_text)\n",
    "r = requests.post(URL, json = payload)\n",
    "print(r.text)"
   ]
  },
  {
   "cell_type": "markdown",
   "id": "b8bc234e-bde3-41cb-ab38-5a2eaf6c4be3",
   "metadata": {},
   "source": [
    "Endpoint do modelo retonou \"score\" e \"predcted_label\", mostarndo que o envio remoto de dado de teste para processamento pelo AWS Sagemaker conforme modelo de ML guardado funcionou.\n",
    "\n"
   ]
  },
  {
   "cell_type": "markdown",
   "id": "f5c6c336-13ed-43d6-a311-635a26e41741",
   "metadata": {},
   "source": [
    "# Próximos passos para Parte 2:\n",
    "\n",
    "- experimentar modelos de ML diferentes comparando as métricas\n",
    "- testar os modelos com entrada de dados de PLO novas\n",
    "- experimentar mudança de critério dos PLOs de “isUtil” para “Aproved”\n",
    "- aumentar base de dados de PLOs\n"
   ]
  },
  {
   "cell_type": "code",
   "execution_count": null,
   "id": "84cf7d47-3871-421f-975e-90e02f879b2d",
   "metadata": {},
   "outputs": [],
   "source": []
  }
 ],
 "metadata": {
  "kernelspec": {
   "display_name": "Python 3 (ipykernel)",
   "language": "python",
   "name": "python3"
  },
  "language_info": {
   "codemirror_mode": {
    "name": "ipython",
    "version": 3
   },
   "file_extension": ".py",
   "mimetype": "text/x-python",
   "name": "python",
   "nbconvert_exporter": "python",
   "pygments_lexer": "ipython3",
   "version": "3.10.0"
  },
  "widgets": {
   "application/vnd.jupyter.widget-state+json": {
    "state": {},
    "version_major": 2,
    "version_minor": 0
   }
  }
 },
 "nbformat": 4,
 "nbformat_minor": 5
}
