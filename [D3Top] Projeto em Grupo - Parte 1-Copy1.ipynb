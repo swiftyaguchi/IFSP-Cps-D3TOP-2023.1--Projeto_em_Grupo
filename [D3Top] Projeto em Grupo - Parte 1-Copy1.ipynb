{
 "cells": [
  {
   "cell_type": "markdown",
   "id": "78ffbd83-345d-4502-a4ae-7d094f92c96f",
   "metadata": {
    "tags": []
   },
   "source": [
    "**IFSP - Campus Campinas** <br>\n",
    "**Pós-graduação em Ciência de Dados** <br>\n",
    "**Disciplina D3TOP – Tópicos em Ciência de Dados** <br>\n",
    "\n",
    "Projeto em Grupo - Parte 1\n",
    "\n",
    "Professor: Samuel Martins (samuel.martins@ifsp.edu.br)<br>\n",
    "Aluno: Swift Motoo Yaguchi - CP301665X"
   ]
  },
  {
   "cell_type": "markdown",
   "id": "29e47f9a-d68f-4484-aaf3-68077dbd0463",
   "metadata": {},
   "source": [
    "------"
   ]
  },
  {
   "cell_type": "markdown",
   "id": "0a10bd24-bbfc-4242-8a5f-60763210d15c",
   "metadata": {},
   "source": [
    "# Descrição e motivação do problema\n",
    "\n",
    "Apesar de serem representantes eleitos pela população, pouco se sabe sobre a produção legislativa dos vereadores de Campinas, produção esta que a midia noticia esporadicamente, com interesses jornalísticos muitas vezes buscando sensacionalismo, e não avaliando a qualidade das propostas de leis produzidas pelos vereadores em seu conjunto.\n",
    "\n",
    "Campinas tem 33 vereadores, que produzem anualmente centenas de projetos de lei com diversas finalidades, e que são debatidas nas reuniões regulares da Câmara Municipal, sendo que algumas são aprovadas tornando-se leis que irão inflenciar a vida da população da cidade, positiva ou negativamente.\n",
    "\n",
    "É interessante observar que, além dos 33 vereadores, o Prefeito de Campinas envia também dezenas de projetos de lei à Câmara Municipal sendo que o peso destes para influenciar a vida da população é muito maior, positiva ou negativamente.\n",
    "\n",
    "A Câmara Muncipal é o espaço onde estes projetos de lei são debatidos e avaliados pelos vereadores, eleitos democraticamente para serem os representantes da população para esta avaliação de toda produção legislativa, seguindo um processo legislativo inicial de avaliação onde participam dezenas de técnicos especialistas da própria Câmara Municipal e Comissões especiais compostas pelos vereadores com apoio de suas equipes de assessores, bem como audiências públicas onde a população tem oportunidade de se manifestar a favor ou contra.\n",
    "\n",
    "Este processo legislativo é onde o texto dos projetos de lei são avaliados, textos que trazem em seu conteúdo benefícios para a população da cidade, ou não.\n",
    "\n",
    "Este projeto é um exercício de análise dos projetos de leis municipais da Câmara Municipal de Campinas usando técnicas de NLP e ML para tentar identificar se um texto de projeto de lei pode ser benéfico para a população da cidade.\n"
   ]
  },
  {
   "cell_type": "markdown",
   "id": "fde9a8ee-ac5f-4716-869d-64dbe4c03317",
   "metadata": {},
   "source": [
    "# Descrição da base de dados\n",
    "\n",
    "Para este projeto foi montada uma base de dados de projetos de lei da Câmara Municipal de Campinas do ano de 2019, antes da última eleição municipal, e portanto não devendo ter intenção de crítica ou influência à Câmara Municipal em seu mandato corrente.\n",
    "\n",
    "Há vários tipos de projetos de lei, com finalidades diferentes, e para este projeto foi escolhido o conjunto de PLO's (Projetos de Lei Ordinárias), que são as mais comuns e em quantidade maior. Como referência, o Regimento Interno da Câmara Muncipal descreve os vários tipos de projetos de lei (https://www.campinas.sp.leg.br/atividade-legislativa/regimento-interno).\n",
    "\n",
    "A base de dados foi montada num arquivo no fromato csv e contém os seguintes campos:\n",
    "\n",
    "* Texto: texto completo do PLO\n",
    "* Ementa: resumo do PLO\n",
    "* Vereador: autor do PLO\n",
    "* Data: data de apresentação do PLO\n",
    "* Nota: uma avaliação pessoal do texto do PLO\n",
    "* isUtil: se o PLO é útil para a cidade ou não (1 ou 0)\n",
    "\n",
    "O conjunto de Projetos de Leis foi extraído do site da Câmara Muncipal de Campinas\n",
    "(https://www.campinas.sp.leg.br/atividade-legislativa/producao-legislativa), selecionando o período de 01/01/2019 a 31/12/2019 e PLO como tipo de matéria.\n",
    "\n",
    "Os PLOs estão disponíveis no formalto pdf e a extração do texto foi feita manualmente, ora utilizando a ferramenta pdftotext da biblioteca pyhton, ora utlizando conversor de pdf para word.\n",
    "\n",
    "Os critérios pessoais utilizados para avaliar cada PLO foram os seguintes:\n",
    "\n",
    "1. Lei reduz custos para a cidade, fiscaliza executivo, combate corrupção <br>\n",
    "2. Lei melhora a educação, saúde, transporte, segurança, habitação na cidade <br>\n",
    "3. Lei reduz burocracia na cidade, diminui controle do Estado <br>\n",
    "4. Lei permite criar empregos ou incentiva empreendedores <br>\n",
    "5. Lei com benefício real para a cidade de alguma outra forma <br>\n",
    "6. Lei aumenta custos para a cidade, interfere alçada de outro órgão ou legislação anterior <br>\n",
    "7. Lei aumenta privilégios apenas para uma parcela menor da cidade <br>\n",
    "8. Lei prejudica a cidade com aumento de burocracia ou controle do Estado <br>\n",
    "9. Lei de nome de ruas, praças, e homenagens <br>\n",
    "10. Lei de datas comemorativas <br>\n",
    "11. Lei de placas e informativos mas sem atuar na causa e sem benefício real para a cidade <br>\n",
    "12. Lei  de programas e cursos na rede escolar, sem real benefício para a cidade <br>\n",
    "13. Lei  de proibições e penalizações sem interação com órgãos fiscalizadores competentes ou sem real benefício para a cidade <br>\n",
    "14. Lei  sem benefício adicional real para a cidade <br>\n",
    "\n",
    "Para a rotulação da coluna __isUtil__ considerei como 1 os PLOs de avaliação 1 a 5, e como 0 os restantes de avaliação 6 a 14.\n",
    "\n",
    "Convém observar que esta rotulação do isUtil pode ser redefinida de acordo com opiniões de cada pessoa com seus critérios de cidadania responsável, podendo dar resultados diferentes, o que é perfeitamente normal numa democracia.\n",
    "\n"
   ]
  },
  {
   "cell_type": "markdown",
   "id": "4dae1890-a92c-40da-ace8-1f67b0b252be",
   "metadata": {},
   "source": [
    "# Objetivo de negócio ou científico associado ao problema\n",
    "\n",
    "Tendo em vista o processo legislativo descrito acima que envolve muito tempo e uma quantidade grande de pessoas para avaliar um PLO, que essencialmente é um texto em sua grande maioria, o objetivo deste projeto é buscar otimizar este processo legislativo com técnicas de NLP e ML.\n",
    "\n",
    "Basicamente a ideia é:\n",
    "\n",
    "* analisar um conjunto de leis usando técnicas de NLP \n",
    "\n",
    "* treinamento testando e comparando algorítmos de ML\n",
    "\n",
    "* Desenvolver um modelo de avaliaçao de projetos de leis do município de Campinas para identificar se uma lei é útil ou inútil à população\n",
    "\n",
    "\n",
    "Para este projeto utilizei como referências códigos de sala de aula do curso de D3TOP e códigos do curso online de AWS Sagmaker ML\n"
   ]
  },
  {
   "cell_type": "markdown",
   "id": "23816a65-52db-4701-a940-e965b0d20523",
   "metadata": {},
   "source": [
    "# Etapa de limpeza e pré-processamento"
   ]
  },
  {
   "cell_type": "markdown",
   "id": "ad0915ae-a769-42c6-9e11-817e955e8c14",
   "metadata": {},
   "source": [
    "**Instalando bibliotecas**"
   ]
  },
  {
   "cell_type": "code",
   "execution_count": 1,
   "id": "b7b5c3bf-1a95-4c9d-bf87-a2baddf23965",
   "metadata": {},
   "outputs": [
    {
     "name": "stdout",
     "output_type": "stream",
     "text": [
      "Requirement already satisfied: pip in c:\\users\\swift\\appdata\\local\\programs\\python\\python310\\lib\\site-packages (23.0.1)"
     ]
    },
    {
     "name": "stderr",
     "output_type": "stream",
     "text": [
      "WARNING: Ignoring invalid distribution -illow (c:\\users\\swift\\appdata\\roaming\\python\\python310\\site-packages)\n",
      "WARNING: Ignoring invalid distribution -umpy (c:\\users\\swift\\appdata\\local\\programs\\python\\python310\\lib\\site-packages)\n",
      "WARNING: Ignoring invalid distribution -illow (c:\\users\\swift\\appdata\\roaming\\python\\python310\\site-packages)\n",
      "WARNING: Ignoring invalid distribution -umpy (c:\\users\\swift\\appdata\\local\\programs\\python\\python310\\lib\\site-packages)\n",
      "WARNING: Ignoring invalid distribution -illow (c:\\users\\swift\\appdata\\roaming\\python\\python310\\site-packages)\n",
      "WARNING: Ignoring invalid distribution -umpy (c:\\users\\swift\\appdata\\local\\programs\\python\\python310\\lib\\site-packages)\n",
      "WARNING: Ignoring invalid distribution -illow (c:\\users\\swift\\appdata\\roaming\\python\\python310\\site-packages)\n",
      "WARNING: Ignoring invalid distribution -umpy (c:\\users\\swift\\appdata\\local\\programs\\python\\python310\\lib\\site-packages)\n",
      "WARNING: Ignoring invalid distribution -illow (c:\\users\\swift\\appdata\\roaming\\python\\python310\\site-packages)\n",
      "WARNING: Ignoring invalid distribution -umpy (c:\\users\\swift\\appdata\\local\\programs\\python\\python310\\lib\\site-packages)\n",
      "WARNING: Ignoring invalid distribution -illow (c:\\users\\swift\\appdata\\roaming\\python\\python310\\site-packages)\n",
      "WARNING: Ignoring invalid distribution -umpy (c:\\users\\swift\\appdata\\local\\programs\\python\\python310\\lib\\site-packages)\n"
     ]
    },
    {
     "name": "stdout",
     "output_type": "stream",
     "text": [
      "\n",
      "Requirement already satisfied: scikit-learn in c:\\users\\swift\\appdata\\local\\programs\\python\\python310\\lib\\site-packages (1.2.2)\n",
      "Requirement already satisfied: threadpoolctl>=2.0.0 in c:\\users\\swift\\appdata\\local\\programs\\python\\python310\\lib\\site-packages (from scikit-learn) (3.1.0)\n",
      "Requirement already satisfied: numpy>=1.17.3 in c:\\users\\swift\\appdata\\local\\programs\\python\\python310\\lib\\site-packages (from scikit-learn) (1.23.5)\n",
      "Requirement already satisfied: scipy>=1.3.2 in c:\\users\\swift\\appdata\\roaming\\python\\python310\\site-packages (from scikit-learn) (1.8.0)\n",
      "Requirement already satisfied: joblib>=1.1.1 in c:\\users\\swift\\appdata\\local\\programs\\python\\python310\\lib\\site-packages (from scikit-learn) (1.2.0)\n"
     ]
    },
    {
     "name": "stderr",
     "output_type": "stream",
     "text": [
      "WARNING: Ignoring invalid distribution -illow (c:\\users\\swift\\appdata\\roaming\\python\\python310\\site-packages)\n",
      "WARNING: Ignoring invalid distribution -umpy (c:\\users\\swift\\appdata\\local\\programs\\python\\python310\\lib\\site-packages)\n",
      "WARNING: Ignoring invalid distribution -illow (c:\\users\\swift\\appdata\\roaming\\python\\python310\\site-packages)\n",
      "WARNING: Ignoring invalid distribution -umpy (c:\\users\\swift\\appdata\\local\\programs\\python\\python310\\lib\\site-packages)\n",
      "WARNING: Ignoring invalid distribution -illow (c:\\users\\swift\\appdata\\roaming\\python\\python310\\site-packages)\n",
      "WARNING: Ignoring invalid distribution -umpy (c:\\users\\swift\\appdata\\local\\programs\\python\\python310\\lib\\site-packages)\n",
      "WARNING: Ignoring invalid distribution -illow (c:\\users\\swift\\appdata\\roaming\\python\\python310\\site-packages)\n",
      "WARNING: Ignoring invalid distribution -umpy (c:\\users\\swift\\appdata\\local\\programs\\python\\python310\\lib\\site-packages)\n",
      "WARNING: Ignoring invalid distribution -illow (c:\\users\\swift\\appdata\\roaming\\python\\python310\\site-packages)\n",
      "WARNING: Ignoring invalid distribution -umpy (c:\\users\\swift\\appdata\\local\\programs\\python\\python310\\lib\\site-packages)\n",
      "WARNING: Ignoring invalid distribution -illow (c:\\users\\swift\\appdata\\roaming\\python\\python310\\site-packages)\n",
      "WARNING: Ignoring invalid distribution -umpy (c:\\users\\swift\\appdata\\local\\programs\\python\\python310\\lib\\site-packages)\n"
     ]
    }
   ],
   "source": [
    "#Upgrade dependencies\n",
    "!pip install --upgrade pip\n",
    "!pip install --upgrade scikit-learn\n",
    "# !pip install --upgrade sagemaker"
   ]
  },
  {
   "cell_type": "code",
   "execution_count": 2,
   "id": "912308e6-91f9-4170-be93-aa3c55d9ed41",
   "metadata": {},
   "outputs": [],
   "source": [
    "import pandas as pd"
   ]
  },
  {
   "cell_type": "markdown",
   "id": "8434c626-6403-4e0b-9438-1379dd040ae7",
   "metadata": {},
   "source": [
    "**Leitura da base de dados**"
   ]
  },
  {
   "cell_type": "code",
   "execution_count": 3,
   "id": "34f5db8c-2b91-4d36-9155-0913409ded22",
   "metadata": {},
   "outputs": [
    {
     "data": {
      "text/html": [
       "<div>\n",
       "<style scoped>\n",
       "    .dataframe tbody tr th:only-of-type {\n",
       "        vertical-align: middle;\n",
       "    }\n",
       "\n",
       "    .dataframe tbody tr th {\n",
       "        vertical-align: top;\n",
       "    }\n",
       "\n",
       "    .dataframe thead th {\n",
       "        text-align: right;\n",
       "    }\n",
       "</style>\n",
       "<table border=\"1\" class=\"dataframe\">\n",
       "  <thead>\n",
       "    <tr style=\"text-align: right;\">\n",
       "      <th></th>\n",
       "      <th>Texto</th>\n",
       "      <th>Ementa</th>\n",
       "      <th>Vereador</th>\n",
       "      <th>Data</th>\n",
       "      <th>Nota</th>\n",
       "      <th>isUtil</th>\n",
       "    </tr>\n",
       "  </thead>\n",
       "  <tbody>\n",
       "    <tr>\n",
       "      <th>0</th>\n",
       "      <td>Art. I  Fica denominado Praça Sandra Hitomi Ta...</td>\n",
       "      <td>DENOMINA PRAÇA SANDRA HITOMI TAKAHASHI UM SIST...</td>\n",
       "      <td>Carmo Luiz</td>\n",
       "      <td>43500</td>\n",
       "      <td>9</td>\n",
       "      <td>0</td>\n",
       "    </tr>\n",
       "    <tr>\n",
       "      <th>1</th>\n",
       "      <td>Art. lº  Ficam proibidos a comercialização e o...</td>\n",
       "      <td>PROÍBE O COMÉRCIO E O USO DOS PRODUTOS QUE ESP...</td>\n",
       "      <td>Luiz Rossini</td>\n",
       "      <td>43500</td>\n",
       "      <td>13</td>\n",
       "      <td>0</td>\n",
       "    </tr>\n",
       "    <tr>\n",
       "      <th>2</th>\n",
       "      <td>Art. 1 0 Poder Executivo municipal deverá disp...</td>\n",
       "      <td>DISPÕE SOBRE O ACESSO ÀS INFORMAÇÕES A RESPEIT...</td>\n",
       "      <td>Luiz Cirilo</td>\n",
       "      <td>43500</td>\n",
       "      <td>1</td>\n",
       "      <td>1</td>\n",
       "    </tr>\n",
       "    <tr>\n",
       "      <th>3</th>\n",
       "      <td>Art. 1 Fica denominada Praça Iracema Costa a P...</td>\n",
       "      <td>DENOMINA PRAÇA IRACEMA COSTA UMA PRAÇA PÚBLICA...</td>\n",
       "      <td>Carlão do PT</td>\n",
       "      <td>43500</td>\n",
       "      <td>9</td>\n",
       "      <td>0</td>\n",
       "    </tr>\n",
       "    <tr>\n",
       "      <th>4</th>\n",
       "      <td>Art. 1 Ficam alterados os SS I P e 3 2 do art....</td>\n",
       "      <td>ALTERA A REDAÇÃO DOS §§ 1º E 3º DO ART. 2º DA ...</td>\n",
       "      <td>Paulo Galterio</td>\n",
       "      <td>43500</td>\n",
       "      <td>7</td>\n",
       "      <td>0</td>\n",
       "    </tr>\n",
       "  </tbody>\n",
       "</table>\n",
       "</div>"
      ],
      "text/plain": [
       "                                               Texto  \\\n",
       "0  Art. I  Fica denominado Praça Sandra Hitomi Ta...   \n",
       "1  Art. lº  Ficam proibidos a comercialização e o...   \n",
       "2  Art. 1 0 Poder Executivo municipal deverá disp...   \n",
       "3  Art. 1 Fica denominada Praça Iracema Costa a P...   \n",
       "4  Art. 1 Ficam alterados os SS I P e 3 2 do art....   \n",
       "\n",
       "                                              Ementa        Vereador   Data  \\\n",
       "0  DENOMINA PRAÇA SANDRA HITOMI TAKAHASHI UM SIST...      Carmo Luiz  43500   \n",
       "1  PROÍBE O COMÉRCIO E O USO DOS PRODUTOS QUE ESP...    Luiz Rossini  43500   \n",
       "2  DISPÕE SOBRE O ACESSO ÀS INFORMAÇÕES A RESPEIT...     Luiz Cirilo  43500   \n",
       "3  DENOMINA PRAÇA IRACEMA COSTA UMA PRAÇA PÚBLICA...    Carlão do PT  43500   \n",
       "4  ALTERA A REDAÇÃO DOS §§ 1º E 3º DO ART. 2º DA ...  Paulo Galterio  43500   \n",
       "\n",
       "   Nota  isUtil  \n",
       "0     9       0  \n",
       "1    13       0  \n",
       "2     1       1  \n",
       "3     9       0  \n",
       "4     7       0  "
      ]
     },
     "execution_count": 3,
     "metadata": {},
     "output_type": "execute_result"
    }
   ],
   "source": [
    "df = pd.read_csv('PLO 2019 v1.1.csv', sep=';')\n",
    "df.head(5)"
   ]
  },
  {
   "cell_type": "code",
   "execution_count": 4,
   "id": "ac3a7a63-8728-4483-a0b9-5a865debd249",
   "metadata": {},
   "outputs": [
    {
     "data": {
      "text/html": [
       "<div>\n",
       "<style scoped>\n",
       "    .dataframe tbody tr th:only-of-type {\n",
       "        vertical-align: middle;\n",
       "    }\n",
       "\n",
       "    .dataframe tbody tr th {\n",
       "        vertical-align: top;\n",
       "    }\n",
       "\n",
       "    .dataframe thead th {\n",
       "        text-align: right;\n",
       "    }\n",
       "</style>\n",
       "<table border=\"1\" class=\"dataframe\">\n",
       "  <thead>\n",
       "    <tr style=\"text-align: right;\">\n",
       "      <th></th>\n",
       "      <th>Texto</th>\n",
       "      <th>Ementa</th>\n",
       "      <th>Vereador</th>\n",
       "      <th>Data</th>\n",
       "      <th>Nota</th>\n",
       "      <th>isUtil</th>\n",
       "    </tr>\n",
       "  </thead>\n",
       "  <tbody>\n",
       "    <tr>\n",
       "      <th>0</th>\n",
       "      <td>Art. I  Fica denominado Praça Sandra Hitomi Takahashi o Sistema de Recreio 01 (Quarteirão 740, Código Cartográfica 3234.6105.0001, com área de 168,00m 2 ) do loteamento Cidade Universitária Campineira, distrito Barão Geraldo, situado na Avenida Dr. Romeu Tórtima (Avenida 01) do mesmo loteamento.\\n\\nArt. 2 Esta Lei entra em vigor na data de sua publicação.</td>\n",
       "      <td>DENOMINA PRAÇA SANDRA HITOMI TAKAHASHI UM SISTEMA DE RECREIO DO MUNICÍPIO DE CAMPINAS.</td>\n",
       "      <td>Carmo Luiz</td>\n",
       "      <td>43500</td>\n",
       "      <td>9</td>\n",
       "      <td>0</td>\n",
       "    </tr>\n",
       "    <tr>\n",
       "      <th>1</th>\n",
       "      <td>Art. lº  Ficam proibidos a comercialização e o uso de espumas, serpentinas e produtos similares acondicionados em spray no município de Campinas.\\n\\n§ lº A proibição de que trata o caput abrange os produtos com a denominação \"espuma de Carnaval\", \"neve de Carnaval\", \"neve artificial\", \"serpentina\", \"teia\" ou denominação similar acondicionados em sprê1y que possam entrai- em contato direto com a pele, mucosas ou olhos.\\n\\n§ 2º As espumas E xpansivas de aplicação na indústria, na construção civil e em outras atividades regulamentadas ficam excluídas da proibição de que trata o caput.\\n\\nArt. 2º O Poder Executivo, por meio de seus órgãos competentes, promoverá ações de fiscalização dos estabelecimentos que comercializarem o:s produtos a que se referem o caput e o § lº do art. 1º desta Lei.\\n\\nParágrafo unico. A atuação dos agentes de fiscalização poderá ocorrer independentemente de denúncia ou reclamação.\\n\\nArt. 3º O descumprimento do disposto nesta Lei acarretará ao estabelecimento infrator a aplicação de multa no valor de 500 (quinhentas) Unidades Fiscais de Campinas - UFICs, que será dobrado na primeira reincidência e quadruplicado a partir da segunda reincidência, sem prejuízo das demais penalidades aplicáveis.\\n\\nParágrafo único. Será considerado reincidência o cometimento por mais de uma vez da mesma infração tipificada nesta Lei no mesmo dia ou em até trinta dias contados da primeira expedição do auto de infração.\\n\\nArt. 4º\\tA receita da aplicação das multas será revertida para o Fundo de Recuperação, Manutenção e Preservação do Meio Ambiente - Proamb.\\n\\nArt. 5º Na hipótes,e de o infrator ser vendedor ambulante, ocorrerá apenas a apreensão dos produtos a que se referem o caput e o § lº\\tcio art. lº desta Lei, sem preJuízo de outras sanções que couberem na forma da lei.\\nArt. 6º  Quando em posse de usuário, os produtos referidos no caput e no\\n§ lº\\tdo art. lº\\tserão sumariamente apreendidos, não tendo o infrator direito a qualquer indenização nem à restituição dos produtos.\\n\\nArt. 7º Esta Lei entra em vigor na data de sua publicação.</td>\n",
       "      <td>PROÍBE O COMÉRCIO E O USO DOS PRODUTOS QUE ESPECIFICA ACONDICIONADOS EM SPRAY NO MUNICÍPIO DE CAMPINAS E DÁ OUTRAS PROVIDÊNCIAS.</td>\n",
       "      <td>Luiz Rossini</td>\n",
       "      <td>43500</td>\n",
       "      <td>13</td>\n",
       "      <td>0</td>\n",
       "    </tr>\n",
       "    <tr>\n",
       "      <th>2</th>\n",
       "      <td>Art. 1 0 Poder Executivo municipal deverá disponibilizar, por meio do site oficial da Prefeitura Municipal de Campinas, um espaço em área de fácil acesso denominado Portal de Obras Públicas, obrigatoriamente com as seguintes informações de todas as obras públicas do Município:\\nI\\t- nome da obra,\\nII\\t- classificação da obra,\\nIII\\t- número da licitação correspondente à contratação da empresa responsável pela obra,\\nIV\\t- número do contrato,\\nV\\t- empresa responsável por executar a obra,\\nVI\\t- valor estimado da obra,\\nVII\\t- valor adicional da obra, se houver termo aditivo,\\nVIII\\t- situação em que se encontra a obra,\\nIX\\t- data de início da obra,\\nX\\t- data de término da obra,\\nXI\\t- prazo de prorrogação da obra, se for o caso,\\nXII\\t- especificação e valor da fonte de recursos,\\nXIII\\t- cronograma das ações que serão realizadas durante a obra,\\nXIV\\t- anexos referentes à obra,\\nXV\\t- justificativa de interrupção, paralisação ou cancelamento da obra, se for o caso.\\n\\nParágrafo único. Nos anexos deverão constar a planilha orçamentária, o contrato com a empresa responsável pela obra e os termos aditivos, caso existam.\\n\\nArt. 2 As informações de que trata o art. I P deverão ser disponibilizadas sem prejuízo de outras informações que estiverem organizadas no site oficial da Prefeitura Municipal de Campinas.\\n\\nArt. 3 As despesas decorrentes da execução desta Lei correrão por conta de verbas orçamentárias próprias.\\n\\nArt. 4 Esta Lei entra em vigor após decorridos cento e oitenta dias de sua publicação oficial.\\n \\nArt. Ficam revogadas as disposições em contrário.</td>\n",
       "      <td>DISPÕE SOBRE O ACESSO ÀS INFORMAÇÕES A RESPEITO DE OBRAS PÚBLICAS DO MUNICÍPIO DE CAMPINAS POR MEIO DO SITE DA PREFEITURA MUNICIPAL.</td>\n",
       "      <td>Luiz Cirilo</td>\n",
       "      <td>43500</td>\n",
       "      <td>1</td>\n",
       "      <td>1</td>\n",
       "    </tr>\n",
       "    <tr>\n",
       "      <th>3</th>\n",
       "      <td>Art. 1 Fica denominada Praça Iracema Costa a Praça 4 (Quarteirão 7.508, Código Cartográfico 3334.64.54.0001, com área de 2.370,00m 2) do loteamento Jardim Maracanã, situada na Rua Edson Luiz Rigonatto (Rua 13), ao lado da Quadra B, no mesmo loteamento.\\n\\nArt. 2 Esta Lei entra em vigor na data de sua publicação.</td>\n",
       "      <td>DENOMINA PRAÇA IRACEMA COSTA UMA PRAÇA PÚBLICA DO MUNICÍPIO DE CAMPINAS.</td>\n",
       "      <td>Carlão do PT</td>\n",
       "      <td>43500</td>\n",
       "      <td>9</td>\n",
       "      <td>0</td>\n",
       "    </tr>\n",
       "    <tr>\n",
       "      <th>4</th>\n",
       "      <td>Art. 1 Ficam alterados os SS I P e 3 2 do art. 2 2 da Lei n? 14.789, de 4 de abril de 2014, que passa a vigorar com a seguinte redação:\\n\"Art. 2 2 \\nS 1 2 0 atendimento prioritário de que trata esta Lei será oferecido em quaisquer caixas, guichês ou unidades disponíveis para o atendimento ao público em geral.\\n \\nS 3 2 Os estabelecimentos que tenham pavimentos superiores com caixas de atendimento deverão manter atendimento prioritário em todos os caixas de cada andar,\\n (NR)</td>\n",
       "      <td>ALTERA A REDAÇÃO DOS §§ 1º E 3º DO ART. 2º DA LEI Nº 14.789, DE 4 DE ABRIL DE 2014, QUE DISPÕE SOBRE ATENDIMENTO PRIORITÁRIO NO MUNICÍPIO DE CAMPINAS.</td>\n",
       "      <td>Paulo Galterio</td>\n",
       "      <td>43500</td>\n",
       "      <td>7</td>\n",
       "      <td>0</td>\n",
       "    </tr>\n",
       "  </tbody>\n",
       "</table>\n",
       "</div>"
      ],
      "text/plain": [
       "                                                                                                                                                                                                                                                                                                                                                                                                                                                                                                                                                                                                                                                                                                                                                                                                                                                                                                                                                                                                                                                                                                                                                                                                                                                                                                                                                                                                                                                                                                                                                                                                                                                                                                                                                                                                                                                                                                                                                                                                                                                                                                                                                           Texto  \\\n",
       "0                                                                                                                                                                                                                                                                                                                                                                                                                                                                                                                                                                                                                                                                                                                                                                                                                                                                                                                                                                                                                                                                                                                                                                                                                                                                                                                                                                                                                                                                                                                                                                                                                                                                                                                                                                                          Art. I  Fica denominado Praça Sandra Hitomi Takahashi o Sistema de Recreio 01 (Quarteirão 740, Código Cartográfica 3234.6105.0001, com área de 168,00m 2 ) do loteamento Cidade Universitária Campineira, distrito Barão Geraldo, situado na Avenida Dr. Romeu Tórtima (Avenida 01) do mesmo loteamento.\\n\\nArt. 2 Esta Lei entra em vigor na data de sua publicação.   \n",
       "1  Art. lº  Ficam proibidos a comercialização e o uso de espumas, serpentinas e produtos similares acondicionados em spray no município de Campinas.\\n\\n§ lº A proibição de que trata o caput abrange os produtos com a denominação \"espuma de Carnaval\", \"neve de Carnaval\", \"neve artificial\", \"serpentina\", \"teia\" ou denominação similar acondicionados em sprê1y que possam entrai- em contato direto com a pele, mucosas ou olhos.\\n\\n§ 2º As espumas E xpansivas de aplicação na indústria, na construção civil e em outras atividades regulamentadas ficam excluídas da proibição de que trata o caput.\\n\\nArt. 2º O Poder Executivo, por meio de seus órgãos competentes, promoverá ações de fiscalização dos estabelecimentos que comercializarem o:s produtos a que se referem o caput e o § lº do art. 1º desta Lei.\\n\\nParágrafo unico. A atuação dos agentes de fiscalização poderá ocorrer independentemente de denúncia ou reclamação.\\n\\nArt. 3º O descumprimento do disposto nesta Lei acarretará ao estabelecimento infrator a aplicação de multa no valor de 500 (quinhentas) Unidades Fiscais de Campinas - UFICs, que será dobrado na primeira reincidência e quadruplicado a partir da segunda reincidência, sem prejuízo das demais penalidades aplicáveis.\\n\\nParágrafo único. Será considerado reincidência o cometimento por mais de uma vez da mesma infração tipificada nesta Lei no mesmo dia ou em até trinta dias contados da primeira expedição do auto de infração.\\n\\nArt. 4º\\tA receita da aplicação das multas será revertida para o Fundo de Recuperação, Manutenção e Preservação do Meio Ambiente - Proamb.\\n\\nArt. 5º Na hipótes,e de o infrator ser vendedor ambulante, ocorrerá apenas a apreensão dos produtos a que se referem o caput e o § lº\\tcio art. lº desta Lei, sem preJuízo de outras sanções que couberem na forma da lei.\\nArt. 6º  Quando em posse de usuário, os produtos referidos no caput e no\\n§ lº\\tdo art. lº\\tserão sumariamente apreendidos, não tendo o infrator direito a qualquer indenização nem à restituição dos produtos.\\n\\nArt. 7º Esta Lei entra em vigor na data de sua publicação.   \n",
       "2                                                                                                                                                                                                                                                                                                                                                                                                                                                                                                         Art. 1 0 Poder Executivo municipal deverá disponibilizar, por meio do site oficial da Prefeitura Municipal de Campinas, um espaço em área de fácil acesso denominado Portal de Obras Públicas, obrigatoriamente com as seguintes informações de todas as obras públicas do Município:\\nI\\t- nome da obra,\\nII\\t- classificação da obra,\\nIII\\t- número da licitação correspondente à contratação da empresa responsável pela obra,\\nIV\\t- número do contrato,\\nV\\t- empresa responsável por executar a obra,\\nVI\\t- valor estimado da obra,\\nVII\\t- valor adicional da obra, se houver termo aditivo,\\nVIII\\t- situação em que se encontra a obra,\\nIX\\t- data de início da obra,\\nX\\t- data de término da obra,\\nXI\\t- prazo de prorrogação da obra, se for o caso,\\nXII\\t- especificação e valor da fonte de recursos,\\nXIII\\t- cronograma das ações que serão realizadas durante a obra,\\nXIV\\t- anexos referentes à obra,\\nXV\\t- justificativa de interrupção, paralisação ou cancelamento da obra, se for o caso.\\n\\nParágrafo único. Nos anexos deverão constar a planilha orçamentária, o contrato com a empresa responsável pela obra e os termos aditivos, caso existam.\\n\\nArt. 2 As informações de que trata o art. I P deverão ser disponibilizadas sem prejuízo de outras informações que estiverem organizadas no site oficial da Prefeitura Municipal de Campinas.\\n\\nArt. 3 As despesas decorrentes da execução desta Lei correrão por conta de verbas orçamentárias próprias.\\n\\nArt. 4 Esta Lei entra em vigor após decorridos cento e oitenta dias de sua publicação oficial.\\n \\nArt. Ficam revogadas as disposições em contrário.   \n",
       "3                                                                                                                                                                                                                                                                                                                                                                                                                                                                                                                                                                                                                                                                                                                                                                                                                                                                                                                                                                                                                                                                                                                                                                                                                                                                                                                                                                                                                                                                                                                                                                                                                                                                                                                                                                                                                                      Art. 1 Fica denominada Praça Iracema Costa a Praça 4 (Quarteirão 7.508, Código Cartográfico 3334.64.54.0001, com área de 2.370,00m 2) do loteamento Jardim Maracanã, situada na Rua Edson Luiz Rigonatto (Rua 13), ao lado da Quadra B, no mesmo loteamento.\\n\\nArt. 2 Esta Lei entra em vigor na data de sua publicação.   \n",
       "4                                                                                                                                                                                                                                                                                                                                                                                                                                                                                                                                                                                                                                                                                                                                                                                                                                                                                                                                                                                                                                                                                                                                                                                                                                                                                                                                                                                                                                                                                                                                                                                                                                                                Art. 1 Ficam alterados os SS I P e 3 2 do art. 2 2 da Lei n? 14.789, de 4 de abril de 2014, que passa a vigorar com a seguinte redação:\\n\"Art. 2 2 \\nS 1 2 0 atendimento prioritário de que trata esta Lei será oferecido em quaisquer caixas, guichês ou unidades disponíveis para o atendimento ao público em geral.\\n \\nS 3 2 Os estabelecimentos que tenham pavimentos superiores com caixas de atendimento deverão manter atendimento prioritário em todos os caixas de cada andar,\\n (NR)   \n",
       "\n",
       "                                                                                                                                                   Ementa  \\\n",
       "0                                                                  DENOMINA PRAÇA SANDRA HITOMI TAKAHASHI UM SISTEMA DE RECREIO DO MUNICÍPIO DE CAMPINAS.   \n",
       "1                        PROÍBE O COMÉRCIO E O USO DOS PRODUTOS QUE ESPECIFICA ACONDICIONADOS EM SPRAY NO MUNICÍPIO DE CAMPINAS E DÁ OUTRAS PROVIDÊNCIAS.   \n",
       "2                    DISPÕE SOBRE O ACESSO ÀS INFORMAÇÕES A RESPEITO DE OBRAS PÚBLICAS DO MUNICÍPIO DE CAMPINAS POR MEIO DO SITE DA PREFEITURA MUNICIPAL.   \n",
       "3                                                                                DENOMINA PRAÇA IRACEMA COSTA UMA PRAÇA PÚBLICA DO MUNICÍPIO DE CAMPINAS.   \n",
       "4  ALTERA A REDAÇÃO DOS §§ 1º E 3º DO ART. 2º DA LEI Nº 14.789, DE 4 DE ABRIL DE 2014, QUE DISPÕE SOBRE ATENDIMENTO PRIORITÁRIO NO MUNICÍPIO DE CAMPINAS.   \n",
       "\n",
       "         Vereador   Data  Nota  isUtil  \n",
       "0      Carmo Luiz  43500     9       0  \n",
       "1    Luiz Rossini  43500    13       0  \n",
       "2     Luiz Cirilo  43500     1       1  \n",
       "3    Carlão do PT  43500     9       0  \n",
       "4  Paulo Galterio  43500     7       0  "
      ]
     },
     "execution_count": 4,
     "metadata": {},
     "output_type": "execute_result"
    }
   ],
   "source": [
    "# É possível alterar as opções na atividade para exibir mais dados de texto.\n",
    "pd.options.display.max_rows\n",
    "pd.set_option('display.max_colwidth', None)\n",
    "df.head()\n"
   ]
  },
  {
   "cell_type": "markdown",
   "id": "dd1df822-41db-451b-a9fb-a3ab6b3619a3",
   "metadata": {},
   "source": [
    "## Realização da análise exploratória de dados"
   ]
  },
  {
   "cell_type": "code",
   "execution_count": 5,
   "id": "67af3d27-53b4-4ece-a2d0-748140010de3",
   "metadata": {},
   "outputs": [
    {
     "data": {
      "text/plain": [
       "Texto       object\n",
       "Ementa      object\n",
       "Vereador    object\n",
       "Data         int64\n",
       "Nota         int64\n",
       "isUtil       int64\n",
       "dtype: object"
      ]
     },
     "execution_count": 5,
     "metadata": {},
     "output_type": "execute_result"
    }
   ],
   "source": [
    "df.dtypes"
   ]
  },
  {
   "cell_type": "code",
   "execution_count": 7,
   "id": "09bbbde4-e762-4f6b-82f3-832835d09212",
   "metadata": {},
   "outputs": [
    {
     "name": "stdout",
     "output_type": "stream",
     "text": [
      "O tamanho do dataset é: (52, 6)\n"
     ]
    }
   ],
   "source": [
    "print('O tamanho do dataset é:', df.shape)"
   ]
  },
  {
   "cell_type": "code",
   "execution_count": 8,
   "id": "7a67754c-52b0-45e0-8d14-5949ad4079c2",
   "metadata": {},
   "outputs": [
    {
     "data": {
      "text/plain": [
       "0    41\n",
       "1    11\n",
       "Name: isUtil, dtype: int64"
      ]
     },
     "execution_count": 8,
     "metadata": {},
     "output_type": "execute_result"
    }
   ],
   "source": [
    "df['isUtil'].value_counts()"
   ]
  },
  {
   "cell_type": "markdown",
   "id": "402da03c-afbf-44ce-aeb4-dda74273f5ea",
   "metadata": {},
   "source": [
    "Nota-se que o resultado é desbalanceado"
   ]
  },
  {
   "cell_type": "code",
   "execution_count": 9,
   "id": "138cbc06-70f7-4393-8ba4-afb6d012c5b7",
   "metadata": {},
   "outputs": [
    {
     "data": {
      "text/plain": [
       "Texto       0\n",
       "Ementa      0\n",
       "Vereador    0\n",
       "Data        0\n",
       "Nota        0\n",
       "isUtil      0\n",
       "dtype: int64"
      ]
     },
     "execution_count": 9,
     "metadata": {},
     "output_type": "execute_result"
    }
   ],
   "source": [
    "# Verificando se base de dados tem valores ausentes\n",
    "df.isna().sum()"
   ]
  },
  {
   "cell_type": "markdown",
   "id": "81f9abda-1477-4d3d-9407-0172382e427c",
   "metadata": {},
   "source": [
    "## 3. Processamento de texto: remoção de palavras irrelevantes e stemming\n",
    "\n",
    "Remoção de algumas das palavras irrelevantes, stemming nos dados de texto.<br>\n",
    "Normalização dos dados para reduzir a quantidade de informações diferentes com as quais é preciso lidar.\n",
    "\n",
    "Bilioteca utilizada é o [nltk](https://www.nltk.org/)\n",
    "\n",
    "- **punkt** é um tokenizador de frases.\n",
    "- **stopwords** apresenta uma lista de palavras irrelevantes que você pode usar."
   ]
  },
  {
   "cell_type": "code",
   "execution_count": 10,
   "id": "8ca554f6-068f-47a5-8705-285098e7cd1a",
   "metadata": {},
   "outputs": [
    {
     "name": "stdout",
     "output_type": "stream",
     "text": [
      "Requirement already satisfied: nltk in c:\\users\\swift\\appdata\\local\\programs\\python\\python310\\lib\\site-packages (3.8.1)"
     ]
    },
    {
     "name": "stderr",
     "output_type": "stream",
     "text": [
      "WARNING: Ignoring invalid distribution -illow (c:\\users\\swift\\appdata\\roaming\\python\\python310\\site-packages)\n",
      "WARNING: Ignoring invalid distribution -umpy (c:\\users\\swift\\appdata\\local\\programs\\python\\python310\\lib\\site-packages)\n",
      "WARNING: Ignoring invalid distribution -illow (c:\\users\\swift\\appdata\\roaming\\python\\python310\\site-packages)\n",
      "WARNING: Ignoring invalid distribution -umpy (c:\\users\\swift\\appdata\\local\\programs\\python\\python310\\lib\\site-packages)\n",
      "WARNING: Ignoring invalid distribution -illow (c:\\users\\swift\\appdata\\roaming\\python\\python310\\site-packages)\n",
      "WARNING: Ignoring invalid distribution -umpy (c:\\users\\swift\\appdata\\local\\programs\\python\\python310\\lib\\site-packages)\n",
      "WARNING: Ignoring invalid distribution -illow (c:\\users\\swift\\appdata\\roaming\\python\\python310\\site-packages)\n",
      "WARNING: Ignoring invalid distribution -umpy (c:\\users\\swift\\appdata\\local\\programs\\python\\python310\\lib\\site-packages)\n",
      "WARNING: Ignoring invalid distribution -illow (c:\\users\\swift\\appdata\\roaming\\python\\python310\\site-packages)\n",
      "WARNING: Ignoring invalid distribution -umpy (c:\\users\\swift\\appdata\\local\\programs\\python\\python310\\lib\\site-packages)\n",
      "WARNING: Ignoring invalid distribution -illow (c:\\users\\swift\\appdata\\roaming\\python\\python310\\site-packages)\n",
      "WARNING: Ignoring invalid distribution -umpy (c:\\users\\swift\\appdata\\local\\programs\\python\\python310\\lib\\site-packages)\n"
     ]
    },
    {
     "name": "stdout",
     "output_type": "stream",
     "text": [
      "\n",
      "Requirement already satisfied: click in c:\\users\\swift\\appdata\\local\\programs\\python\\python310\\lib\\site-packages (from nltk) (8.1.3)\n",
      "Requirement already satisfied: joblib in c:\\users\\swift\\appdata\\local\\programs\\python\\python310\\lib\\site-packages (from nltk) (1.2.0)\n",
      "Requirement already satisfied: tqdm in c:\\users\\swift\\appdata\\local\\programs\\python\\python310\\lib\\site-packages (from nltk) (4.64.0)\n",
      "Requirement already satisfied: regex>=2021.8.3 in c:\\users\\swift\\appdata\\local\\programs\\python\\python310\\lib\\site-packages (from nltk) (2022.10.31)\n",
      "Requirement already satisfied: colorama in c:\\users\\swift\\appdata\\local\\programs\\python\\python310\\lib\\site-packages (from click->nltk) (0.4.6)\n"
     ]
    }
   ],
   "source": [
    "!pip install --upgrade nltk"
   ]
  },
  {
   "cell_type": "code",
   "execution_count": 11,
   "id": "e5516712-d9db-4e04-8fc3-a327f94b655c",
   "metadata": {},
   "outputs": [
    {
     "name": "stderr",
     "output_type": "stream",
     "text": [
      "[nltk_data] Downloading package punkt to\n",
      "[nltk_data]     C:\\Users\\Swift\\AppData\\Roaming\\nltk_data...\n",
      "[nltk_data]   Package punkt is already up-to-date!\n",
      "[nltk_data] Downloading package stopwords to\n",
      "[nltk_data]     C:\\Users\\Swift\\AppData\\Roaming\\nltk_data...\n",
      "[nltk_data]   Package stopwords is already up-to-date!\n"
     ]
    },
    {
     "data": {
      "text/plain": [
       "True"
      ]
     },
     "execution_count": 11,
     "metadata": {},
     "output_type": "execute_result"
    }
   ],
   "source": [
    "# Install the library and functions\n",
    "import nltk\n",
    "nltk.download('punkt')\n",
    "nltk.download('stopwords')"
   ]
  },
  {
   "cell_type": "markdown",
   "id": "f76d003b-099c-4bf3-9209-d5e6e529eb67",
   "metadata": {},
   "source": [
    "Na seção a seguir, você criará os processos para remover as palavras irrelevantes e limpar o texto. A biblioteca Natural Language Toolkit (NLTK) oferece uma lista de palavras irrelevantes comuns. Você usará a lista, mas primeiro removerá algumas palavras dela. As palavras irrelevantes mantidas no texto são úteis para identificar o sentimento."
   ]
  },
  {
   "cell_type": "code",
   "execution_count": 12,
   "id": "e56fb012-51c5-4e5e-9452-1ab883cddb74",
   "metadata": {},
   "outputs": [],
   "source": [
    "import nltk, re\n",
    "from nltk.corpus import stopwords\n",
    "from nltk.stem import SnowballStemmer\n",
    "from nltk.tokenize import word_tokenize\n",
    "\n",
    "# Get a list of stopwords from the NLTK library\n",
    "stop = stopwords.words('portuguese')\n",
    "\n",
    "# New stopword list\n",
    "# stopwords = [word for word in stop if word not in excluding]\n",
    "stopwords = [word for word in stop]\n"
   ]
  },
  {
   "cell_type": "markdown",
   "id": "8b39670e-4059-4d19-905c-0bd717bfed3d",
   "metadata": {},
   "source": [
    "O stemizador snowball stemiza as palavras. Por exemplo, o verbo “caminhando” será transformado em “caminh”."
   ]
  },
  {
   "cell_type": "code",
   "execution_count": 13,
   "id": "6165484f-e418-4213-869c-729119936cdc",
   "metadata": {},
   "outputs": [],
   "source": [
    "snow = SnowballStemmer('portuguese')"
   ]
  },
  {
   "cell_type": "markdown",
   "id": "632f92d5-7b09-4c9f-a63e-c879f3564e79",
   "metadata": {},
   "source": [
    "É preciso realizar outras tarefas de normalização nos dados. A seguinte função:\n",
    "\n",
    "- Substitui todos os valores ausentes por uma string vazia\n",
    "- Converte o texto em letras minúsculas\n",
    "- Remove espaços em branco à esquerda ou à direita\n",
    "- Remove espaços e recuos extras\n",
    "- Remove marcações HTML\n",
    "\n",
    "No loop  `for`, todas as palavras que __NOT__ são numéricas, têm mais de dois caracteres e não estão na lista de palavras irrelevantes são mantidas e retornadas."
   ]
  },
  {
   "cell_type": "code",
   "execution_count": 14,
   "id": "c548983b-4a58-4d7d-8ce6-f91b1f23dcf0",
   "metadata": {},
   "outputs": [],
   "source": [
    "def process_text(texts): \n",
    "    final_text_list=[]\n",
    "    for sent in texts:\n",
    "        \n",
    "        # Check if the sentence is a missing value\n",
    "        if isinstance(sent, str) == False:\n",
    "            sent = ''\n",
    "            \n",
    "        filtered_sentence=[]\n",
    "        \n",
    "        sent = sent.lower() # Lowercase \n",
    "        sent = sent.strip() # Remove leading/trailing whitespace\n",
    "        sent = re.sub('\\s+', ' ', sent) # Remove extra space and tabs\n",
    "        sent = re.compile('<.*?>').sub('', sent) # Remove HTML tags/markups:\n",
    "        \n",
    "        for w in word_tokenize(sent):\n",
    "            # Applying some custom filtering here, feel free to try different things\n",
    "            # Check if it is not numeric and its length>2 and not in stopwords\n",
    "            if(not w.isnumeric()) and (len(w)>2) and (w not in stopwords):  \n",
    "                # Stem and add to filtered list\n",
    "                filtered_sentence.append(snow.stem(w))\n",
    "        final_string = \" \".join(filtered_sentence) # Final string of cleaned words\n",
    " \n",
    "        final_text_list.append(final_string)\n",
    "        \n",
    "    return final_text_list"
   ]
  },
  {
   "cell_type": "code",
   "execution_count": 15,
   "id": "18cacd21-61ea-4a7c-ab66-5ac182ecbbcf",
   "metadata": {},
   "outputs": [
    {
     "name": "stdout",
     "output_type": "stream",
     "text": [
      "Processando a coluna Texto\n"
     ]
    }
   ],
   "source": [
    "print('Processando a coluna Texto')\n",
    "df['Texto'] = process_text(df['Texto'].tolist())"
   ]
  },
  {
   "cell_type": "code",
   "execution_count": 16,
   "id": "a75c6b59-8059-43b7-8af9-951da6b2938e",
   "metadata": {},
   "outputs": [],
   "source": [
    "# df['Texto']"
   ]
  },
  {
   "cell_type": "code",
   "execution_count": 21,
   "id": "4c0aafe9-1ddb-4761-b152-c3c01aeebb8e",
   "metadata": {},
   "outputs": [
    {
     "name": "stdout",
     "output_type": "stream",
     "text": [
      "Processando a coluna Ementa\n"
     ]
    }
   ],
   "source": [
    "print('Processando a coluna Ementa')\n",
    "df['Ementa'] = process_text(df['Ementa'].tolist())"
   ]
  },
  {
   "cell_type": "code",
   "execution_count": 18,
   "id": "362dac58-1160-4b5a-8aac-c1bafd097ef8",
   "metadata": {},
   "outputs": [],
   "source": [
    "# df['Ementa']"
   ]
  },
  {
   "cell_type": "code",
   "execution_count": 20,
   "id": "7c466aef-881c-49e9-a849-03ed3b52babf",
   "metadata": {},
   "outputs": [
    {
     "data": {
      "text/html": [
       "<div>\n",
       "<style scoped>\n",
       "    .dataframe tbody tr th:only-of-type {\n",
       "        vertical-align: middle;\n",
       "    }\n",
       "\n",
       "    .dataframe tbody tr th {\n",
       "        vertical-align: top;\n",
       "    }\n",
       "\n",
       "    .dataframe thead th {\n",
       "        text-align: right;\n",
       "    }\n",
       "</style>\n",
       "<table border=\"1\" class=\"dataframe\">\n",
       "  <thead>\n",
       "    <tr style=\"text-align: right;\">\n",
       "      <th></th>\n",
       "      <th>Texto</th>\n",
       "      <th>Ementa</th>\n",
       "      <th>Vereador</th>\n",
       "      <th>Data</th>\n",
       "      <th>Nota</th>\n",
       "      <th>isUtil</th>\n",
       "    </tr>\n",
       "  </thead>\n",
       "  <tbody>\n",
       "    <tr>\n",
       "      <th>0</th>\n",
       "      <td>art fic denomin prac sandr hitom takahash sistem recrei quart códig cartográf 3234.6105.0001 áre 168,00m loteament cidad universitár campineir distrit barã gerald situ aven dr. rom tórtim aven loteament art lei entra vigor dat public</td>\n",
       "      <td>denomin prac sandr hitom takahash sistem recrei municípi campin</td>\n",
       "      <td>Carmo Luiz</td>\n",
       "      <td>43500</td>\n",
       "      <td>9</td>\n",
       "      <td>0</td>\n",
       "    </tr>\n",
       "    <tr>\n",
       "      <th>1</th>\n",
       "      <td>art fic proib comercializ uso espum serpentin produt simil acondicion spray municípi campin proibiçã trat caput abrang produt denomin espum carnaval nev carnaval nev artificial serpentin tei denomin simil acondicion sprê1y poss entrai- contat diret pel mucos olhos espum xpansiv aplic indústr construçã civil outr ativ regulament fic excluíd proibiçã trat caput art pod execut mei órgã competent promov açõ fiscaliz estabelec comercializ produt ref caput art dest lei parágraf unic atuaçã agent fiscaliz pod ocorr independent denúnc reclam art descumpr dispost nest lei acarret estabelec infrator aplic mult valor quinhent unidad fisc campin ufics dobr primeir reincident quadruplic part segund reincident prejuíz dem penal aplic parágraf únic consider reincident comet vez mesm infraçã tipific nest lei dia trint dias cont primeir expediçã aut infraçã art receit aplic mult revert fund recuper manutençã preserv mei ambient proamb art hipót infrator vendedor ambul ocorr apen apreensã produt ref caput cio art dest lei prejuíz outr sançõ coub form lei art poss usuári produt refer caput art sumari apreend tend infrator direit qualqu indeniz restituiçã produt art lei entra vigor dat public</td>\n",
       "      <td>proíb comérci uso produt especif acondicion spray municípi campin outr provident</td>\n",
       "      <td>Luiz Rossini</td>\n",
       "      <td>43500</td>\n",
       "      <td>13</td>\n",
       "      <td>0</td>\n",
       "    </tr>\n",
       "    <tr>\n",
       "      <th>2</th>\n",
       "      <td>art pod execut municipal dev disponibiliz mei sit oficial prefeitur municipal campin espac áre fácil acess denomin portal obras públic obrigatori seguint inform tod obras públic municípi nom obra classific obra iii númer licit correspondent contrat empres respons obra númer contrat empres respons execut obra valor estim obra vii valor adicional obra term adit vii situaçã encontr obra dat iníci obra dat términ obra praz prorrog obra cas xii especific valor font recurs xii cronogram açõ realiz durant obra xiv anex referent obra justific interrupçã paralis cancel obra cas parágraf únic anex dev const planilh orçamentár contrat empres respons obra term adit cas exist art inform trat art dev disponibiliz prejuíz outr inform organiz sit oficial prefeitur municipal campin art despes decorrent execu dest lei corr cont verb orçamentár própr art lei entra vigor após decorr cent oitent dias public oficial art fic revog disposiçõ contrári</td>\n",
       "      <td>dispõ sobr acess inform respeit obras públic municípi campin mei sit prefeitur municipal</td>\n",
       "      <td>Luiz Cirilo</td>\n",
       "      <td>43500</td>\n",
       "      <td>1</td>\n",
       "      <td>1</td>\n",
       "    </tr>\n",
       "    <tr>\n",
       "      <th>3</th>\n",
       "      <td>art fic denomin prac iracem cost prac quart 7.508 códig cartográf 3334.64.54.0001 áre 2.370,00m loteament jardim maracanã situ rua edson luiz rigonatt rua lad quadr loteament art lei entra vigor dat public</td>\n",
       "      <td>denomin prac iracem cost prac públic municípi campin</td>\n",
       "      <td>Carlão do PT</td>\n",
       "      <td>43500</td>\n",
       "      <td>9</td>\n",
       "      <td>0</td>\n",
       "    </tr>\n",
       "    <tr>\n",
       "      <th>4</th>\n",
       "      <td>art fic alter art lei 14.789 abril pass vigor seguint redaçã art atend prioritári trat lei oferec quaisqu caix guichês unidad disponív atend públic geral estabelec paviment superior caix atend dev mant atend prioritári tod caix cad andar</td>\n",
       "      <td>alter redaçã art lei 14.789 abril dispõ sobr atend prioritári municípi campin</td>\n",
       "      <td>Paulo Galterio</td>\n",
       "      <td>43500</td>\n",
       "      <td>7</td>\n",
       "      <td>0</td>\n",
       "    </tr>\n",
       "  </tbody>\n",
       "</table>\n",
       "</div>"
      ],
      "text/plain": [
       "                                                                                                                                                                                                                                                                                                                                                                                                                                                                                                                                                                                                                                                                                                                                                                                                                                                                                                                                                                                                                                                                                                                                                                                                                                     Texto  \\\n",
       "0                                                                                                                                                                                                                                                                                                                                                                                                                                                                                                                                                                                                                                                                                                                                                                                                                                                                                                                                                                                                art fic denomin prac sandr hitom takahash sistem recrei quart códig cartográf 3234.6105.0001 áre 168,00m loteament cidad universitár campineir distrit barã gerald situ aven dr. rom tórtim aven loteament art lei entra vigor dat public   \n",
       "1  art fic proib comercializ uso espum serpentin produt simil acondicion spray municípi campin proibiçã trat caput abrang produt denomin espum carnaval nev carnaval nev artificial serpentin tei denomin simil acondicion sprê1y poss entrai- contat diret pel mucos olhos espum xpansiv aplic indústr construçã civil outr ativ regulament fic excluíd proibiçã trat caput art pod execut mei órgã competent promov açõ fiscaliz estabelec comercializ produt ref caput art dest lei parágraf unic atuaçã agent fiscaliz pod ocorr independent denúnc reclam art descumpr dispost nest lei acarret estabelec infrator aplic mult valor quinhent unidad fisc campin ufics dobr primeir reincident quadruplic part segund reincident prejuíz dem penal aplic parágraf únic consider reincident comet vez mesm infraçã tipific nest lei dia trint dias cont primeir expediçã aut infraçã art receit aplic mult revert fund recuper manutençã preserv mei ambient proamb art hipót infrator vendedor ambul ocorr apen apreensã produt ref caput cio art dest lei prejuíz outr sançõ coub form lei art poss usuári produt refer caput art sumari apreend tend infrator direit qualqu indeniz restituiçã produt art lei entra vigor dat public   \n",
       "2                                                                                                                                                                                                                                                             art pod execut municipal dev disponibiliz mei sit oficial prefeitur municipal campin espac áre fácil acess denomin portal obras públic obrigatori seguint inform tod obras públic municípi nom obra classific obra iii númer licit correspondent contrat empres respons obra númer contrat empres respons execut obra valor estim obra vii valor adicional obra term adit vii situaçã encontr obra dat iníci obra dat términ obra praz prorrog obra cas xii especific valor font recurs xii cronogram açõ realiz durant obra xiv anex referent obra justific interrupçã paralis cancel obra cas parágraf únic anex dev const planilh orçamentár contrat empres respons obra term adit cas exist art inform trat art dev disponibiliz prejuíz outr inform organiz sit oficial prefeitur municipal campin art despes decorrent execu dest lei corr cont verb orçamentár própr art lei entra vigor após decorr cent oitent dias public oficial art fic revog disposiçõ contrári   \n",
       "3                                                                                                                                                                                                                                                                                                                                                                                                                                                                                                                                                                                                                                                                                                                                                                                                                                                                                                                                                                                                                            art fic denomin prac iracem cost prac quart 7.508 códig cartográf 3334.64.54.0001 áre 2.370,00m loteament jardim maracanã situ rua edson luiz rigonatt rua lad quadr loteament art lei entra vigor dat public   \n",
       "4                                                                                                                                                                                                                                                                                                                                                                                                                                                                                                                                                                                                                                                                                                                                                                                                                                                                                                                                                                                            art fic alter art lei 14.789 abril pass vigor seguint redaçã art atend prioritári trat lei oferec quaisqu caix guichês unidad disponív atend públic geral estabelec paviment superior caix atend dev mant atend prioritári tod caix cad andar   \n",
       "\n",
       "                                                                                     Ementa  \\\n",
       "0                           denomin prac sandr hitom takahash sistem recrei municípi campin   \n",
       "1          proíb comérci uso produt especif acondicion spray municípi campin outr provident   \n",
       "2  dispõ sobr acess inform respeit obras públic municípi campin mei sit prefeitur municipal   \n",
       "3                                      denomin prac iracem cost prac públic municípi campin   \n",
       "4             alter redaçã art lei 14.789 abril dispõ sobr atend prioritári municípi campin   \n",
       "\n",
       "         Vereador   Data  Nota  isUtil  \n",
       "0      Carmo Luiz  43500     9       0  \n",
       "1    Luiz Rossini  43500    13       0  \n",
       "2     Luiz Cirilo  43500     1       1  \n",
       "3    Carlão do PT  43500     9       0  \n",
       "4  Paulo Galterio  43500     7       0  "
      ]
     },
     "execution_count": 20,
     "metadata": {},
     "output_type": "execute_result"
    }
   ],
   "source": [
    "df.head(5)"
   ]
  },
  {
   "cell_type": "code",
   "execution_count": null,
   "id": "1caeeccb-1c72-4b25-b84f-7379d76b4f2d",
   "metadata": {},
   "outputs": [],
   "source": []
  },
  {
   "cell_type": "code",
   "execution_count": null,
   "id": "f43b2fdd-ac20-41ed-8985-9d8cbc795767",
   "metadata": {},
   "outputs": [],
   "source": []
  },
  {
   "cell_type": "code",
   "execution_count": null,
   "id": "266c7002-f470-48d3-9c75-a39a7ce1e75a",
   "metadata": {},
   "outputs": [],
   "source": []
  },
  {
   "cell_type": "code",
   "execution_count": null,
   "id": "d4992b0e-5381-4c44-88ba-cfe8b42268d0",
   "metadata": {},
   "outputs": [],
   "source": []
  },
  {
   "cell_type": "code",
   "execution_count": null,
   "id": "c8be0e72-7eb6-44cd-bb85-a4bfef08fe96",
   "metadata": {},
   "outputs": [],
   "source": []
  },
  {
   "cell_type": "code",
   "execution_count": null,
   "id": "820ba3ad-71c5-46b0-b6d2-cdb540f8b45a",
   "metadata": {},
   "outputs": [],
   "source": []
  },
  {
   "cell_type": "code",
   "execution_count": null,
   "id": "a59c349f-1f87-4fcf-836b-02ca046b5780",
   "metadata": {},
   "outputs": [],
   "source": []
  }
 ],
 "metadata": {
  "kernelspec": {
   "display_name": "Python 3 (ipykernel)",
   "language": "python",
   "name": "python3"
  },
  "language_info": {
   "codemirror_mode": {
    "name": "ipython",
    "version": 3
   },
   "file_extension": ".py",
   "mimetype": "text/x-python",
   "name": "python",
   "nbconvert_exporter": "python",
   "pygments_lexer": "ipython3",
   "version": "3.10.0"
  },
  "widgets": {
   "application/vnd.jupyter.widget-state+json": {
    "state": {},
    "version_major": 2,
    "version_minor": 0
   }
  }
 },
 "nbformat": 4,
 "nbformat_minor": 5
}
