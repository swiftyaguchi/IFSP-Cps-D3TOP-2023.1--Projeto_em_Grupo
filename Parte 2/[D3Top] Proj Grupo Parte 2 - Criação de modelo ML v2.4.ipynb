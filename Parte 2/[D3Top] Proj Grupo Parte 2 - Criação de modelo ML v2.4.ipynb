{
 "cells": [
  {
   "cell_type": "markdown",
   "id": "78ffbd83-345d-4502-a4ae-7d094f92c96f",
   "metadata": {
    "tags": []
   },
   "source": [
    "**IFSP - Campus Campinas** <br>\n",
    "**Pós-graduação em Ciência de Dados** <br>\n",
    "**Disciplina D3TOP/2023 – Tópicos em Ciência de Dados** <br>\n",
    "\n",
    "**Projeto em Grupo - Parte 2**\n",
    "\n",
    "#### Sprint 4 - v 2.4 \n",
    "- continuando com dados salvos no Sprint 3, já pre-processados com SpaCy\n",
    "- pre-processamento com Neattext na coluna **'Ementa'** da PLO\n",
    "- feature extraction com TfidfVectorizer na coluna **'Ementa'** da PLO\n",
    "- treinamento com LogisticRegression\n",
    "- rodado em PC local (não AWS)\n",
    "\n",
    "\n",
    "Professor: Samuel Martins (samuel.martins@ifsp.edu.br)<br>\n",
    "Aluno: Swift Motoo Yaguchi - CP301665X"
   ]
  },
  {
   "cell_type": "markdown",
   "id": "29e47f9a-d68f-4484-aaf3-68077dbd0463",
   "metadata": {},
   "source": [
    "------"
   ]
  },
  {
   "cell_type": "markdown",
   "id": "11ae6a1f-7ca9-45ad-8546-1b8bdf1c4358",
   "metadata": {},
   "source": [
    "### 1. Etapa de limpeza e pré-processamento"
   ]
  },
  {
   "cell_type": "markdown",
   "id": "b6bf9296-072e-484f-97bb-35a557e16388",
   "metadata": {},
   "source": [
    "##### Instalando bibliotecas"
   ]
  },
  {
   "cell_type": "code",
   "execution_count": 1,
   "id": "b7b5c3bf-1a95-4c9d-bf87-a2baddf23965",
   "metadata": {
    "tags": []
   },
   "outputs": [],
   "source": [
    "#Upgrade dependencies\n",
    "#!pip install --upgrade pip\n",
    "#!pip install --upgrade scikit-learn\n",
    "#!pip install --upgrade wordcloud\n",
    "#!pip install --upgrade sagemaker"
   ]
  },
  {
   "cell_type": "code",
   "execution_count": 2,
   "id": "912308e6-91f9-4170-be93-aa3c55d9ed41",
   "metadata": {
    "tags": []
   },
   "outputs": [],
   "source": [
    "import pandas as pd\n",
    "import numpy as np"
   ]
  },
  {
   "cell_type": "markdown",
   "id": "bd5ea3dc-ec4c-4602-a5a3-c30b95bb9acc",
   "metadata": {},
   "source": [
    "##### Leitura da base de dados salvo no Sprint 3"
   ]
  },
  {
   "cell_type": "code",
   "execution_count": 3,
   "id": "17243866-9758-4915-b999-61de695d2cb9",
   "metadata": {},
   "outputs": [],
   "source": [
    "# load the datasets\n",
    "df_train = pd.read_csv('test_dataset_train_3.csv', sep=';', index_col=False)\n",
    "df_test = pd.read_csv('test_dataset_test_3.csv', sep=';', index_col=False)"
   ]
  },
  {
   "cell_type": "code",
   "execution_count": 4,
   "id": "d6b22402-4f92-400c-a839-44c69468e48f",
   "metadata": {
    "scrolled": true
   },
   "outputs": [
    {
     "data": {
      "text/html": [
       "<div>\n",
       "<style scoped>\n",
       "    .dataframe tbody tr th:only-of-type {\n",
       "        vertical-align: middle;\n",
       "    }\n",
       "\n",
       "    .dataframe tbody tr th {\n",
       "        vertical-align: top;\n",
       "    }\n",
       "\n",
       "    .dataframe thead th {\n",
       "        text-align: right;\n",
       "    }\n",
       "</style>\n",
       "<table border=\"1\" class=\"dataframe\">\n",
       "  <thead>\n",
       "    <tr style=\"text-align: right;\">\n",
       "      <th></th>\n",
       "      <th>Texto</th>\n",
       "      <th>Ementa</th>\n",
       "      <th>Vereador</th>\n",
       "      <th>Data</th>\n",
       "      <th>Nota</th>\n",
       "      <th>isUtil</th>\n",
       "      <th>Label</th>\n",
       "    </tr>\n",
       "  </thead>\n",
       "  <tbody>\n",
       "    <tr>\n",
       "      <th>0</th>\n",
       "      <td>art 10   fica proibido venda comercialização b...</td>\n",
       "      <td>proíbe venda brinquedos constituem réplicas si...</td>\n",
       "      <td>Carmo Luiz</td>\n",
       "      <td>2019</td>\n",
       "      <td>13</td>\n",
       "      <td>não</td>\n",
       "      <td>0</td>\n",
       "    </tr>\n",
       "    <tr>\n",
       "      <th>1</th>\n",
       "      <td>art i fica assegurada criança adolescente pai ...</td>\n",
       "      <td>assegura criança adolescente pai mãe responsáv...</td>\n",
       "      <td>Carmo Luiz</td>\n",
       "      <td>2019</td>\n",
       "      <td>7</td>\n",
       "      <td>não</td>\n",
       "      <td>0</td>\n",
       "    </tr>\n",
       "    <tr>\n",
       "      <th>2</th>\n",
       "      <td>art 1º fica ins tuído programa municipal popul...</td>\n",
       "      <td>institui programa municipal população imigrant...</td>\n",
       "      <td>Carlão do PT</td>\n",
       "      <td>2019</td>\n",
       "      <td>12</td>\n",
       "      <td>não</td>\n",
       "      <td>0</td>\n",
       "    </tr>\n",
       "    <tr>\n",
       "      <th>3</th>\n",
       "      <td>art 10 ficam obrigadas escolas rede privada mu...</td>\n",
       "      <td>dispõe obrigatoriedade escolas rede privada mu...</td>\n",
       "      <td>Gustao Petta</td>\n",
       "      <td>2019</td>\n",
       "      <td>12</td>\n",
       "      <td>não</td>\n",
       "      <td>0</td>\n",
       "    </tr>\n",
       "    <tr>\n",
       "      <th>4</th>\n",
       "      <td>art 1º fica denominado praça cyro baldin recre...</td>\n",
       "      <td>denomina praça cyro baldin recreio município c...</td>\n",
       "      <td>Carmo Luiz</td>\n",
       "      <td>2019</td>\n",
       "      <td>9</td>\n",
       "      <td>não</td>\n",
       "      <td>0</td>\n",
       "    </tr>\n",
       "    <tr>\n",
       "      <th>...</th>\n",
       "      <td>...</td>\n",
       "      <td>...</td>\n",
       "      <td>...</td>\n",
       "      <td>...</td>\n",
       "      <td>...</td>\n",
       "      <td>...</td>\n",
       "      <td>...</td>\n",
       "    </tr>\n",
       "    <tr>\n",
       "      <th>74</th>\n",
       "      <td>projeto lei ordinária passou tramitar projeto ...</td>\n",
       "      <td>institui programa árvores qualidade vida munic...</td>\n",
       "      <td>Luiz Rossini</td>\n",
       "      <td>2019</td>\n",
       "      <td>12</td>\n",
       "      <td>não</td>\n",
       "      <td>0</td>\n",
       "    </tr>\n",
       "    <tr>\n",
       "      <th>75</th>\n",
       "      <td>data conforme manifestação procuradoria legisl...</td>\n",
       "      <td>acrescenta art 20a lei nº 9953 18 dezembro 199...</td>\n",
       "      <td>Marcelo Silva</td>\n",
       "      <td>2019</td>\n",
       "      <td>11</td>\n",
       "      <td>não</td>\n",
       "      <td>0</td>\n",
       "    </tr>\n",
       "    <tr>\n",
       "      <th>76</th>\n",
       "      <td>art 1º fica denominada praça etelvina ramos pr...</td>\n",
       "      <td>denomina praça etelvina ramos praça pública mu...</td>\n",
       "      <td>Luiz Rossini</td>\n",
       "      <td>2019</td>\n",
       "      <td>9</td>\n",
       "      <td>não</td>\n",
       "      <td>0</td>\n",
       "    </tr>\n",
       "    <tr>\n",
       "      <th>77</th>\n",
       "      <td>art 1 lei objetivo implantar postos coletas to...</td>\n",
       "      <td>dispõe obrigatoriedade implantação postos cole...</td>\n",
       "      <td>Cidão Santos</td>\n",
       "      <td>2019</td>\n",
       "      <td>6</td>\n",
       "      <td>não</td>\n",
       "      <td>0</td>\n",
       "    </tr>\n",
       "    <tr>\n",
       "      <th>78</th>\n",
       "      <td>câmara municipal aprovou prefeito municipal ca...</td>\n",
       "      <td>dispõe concessão desconto imposto propriedade ...</td>\n",
       "      <td>Rubens Gás</td>\n",
       "      <td>2019</td>\n",
       "      <td>7</td>\n",
       "      <td>não</td>\n",
       "      <td>0</td>\n",
       "    </tr>\n",
       "  </tbody>\n",
       "</table>\n",
       "<p>79 rows × 7 columns</p>\n",
       "</div>"
      ],
      "text/plain": [
       "                                                Texto   \n",
       "0   art 10   fica proibido venda comercialização b...  \\\n",
       "1   art i fica assegurada criança adolescente pai ...   \n",
       "2   art 1º fica ins tuído programa municipal popul...   \n",
       "3   art 10 ficam obrigadas escolas rede privada mu...   \n",
       "4   art 1º fica denominado praça cyro baldin recre...   \n",
       "..                                                ...   \n",
       "74  projeto lei ordinária passou tramitar projeto ...   \n",
       "75  data conforme manifestação procuradoria legisl...   \n",
       "76  art 1º fica denominada praça etelvina ramos pr...   \n",
       "77  art 1 lei objetivo implantar postos coletas to...   \n",
       "78  câmara municipal aprovou prefeito municipal ca...   \n",
       "\n",
       "                                               Ementa       Vereador  Data   \n",
       "0   proíbe venda brinquedos constituem réplicas si...     Carmo Luiz  2019  \\\n",
       "1   assegura criança adolescente pai mãe responsáv...     Carmo Luiz  2019   \n",
       "2   institui programa municipal população imigrant...   Carlão do PT  2019   \n",
       "3   dispõe obrigatoriedade escolas rede privada mu...   Gustao Petta  2019   \n",
       "4   denomina praça cyro baldin recreio município c...     Carmo Luiz  2019   \n",
       "..                                                ...            ...   ...   \n",
       "74  institui programa árvores qualidade vida munic...   Luiz Rossini  2019   \n",
       "75  acrescenta art 20a lei nº 9953 18 dezembro 199...  Marcelo Silva  2019   \n",
       "76  denomina praça etelvina ramos praça pública mu...   Luiz Rossini  2019   \n",
       "77  dispõe obrigatoriedade implantação postos cole...   Cidão Santos  2019   \n",
       "78  dispõe concessão desconto imposto propriedade ...     Rubens Gás  2019   \n",
       "\n",
       "    Nota isUtil  Label  \n",
       "0     13    não      0  \n",
       "1      7    não      0  \n",
       "2     12    não      0  \n",
       "3     12    não      0  \n",
       "4      9    não      0  \n",
       "..   ...    ...    ...  \n",
       "74    12    não      0  \n",
       "75    11    não      0  \n",
       "76     9    não      0  \n",
       "77     6    não      0  \n",
       "78     7    não      0  \n",
       "\n",
       "[79 rows x 7 columns]"
      ]
     },
     "execution_count": 4,
     "metadata": {},
     "output_type": "execute_result"
    }
   ],
   "source": [
    "df_train"
   ]
  },
  {
   "cell_type": "code",
   "execution_count": 5,
   "id": "51a06145-9a36-4603-9553-f9a7c787050f",
   "metadata": {
    "scrolled": true
   },
   "outputs": [
    {
     "data": {
      "text/html": [
       "<div>\n",
       "<style scoped>\n",
       "    .dataframe tbody tr th:only-of-type {\n",
       "        vertical-align: middle;\n",
       "    }\n",
       "\n",
       "    .dataframe tbody tr th {\n",
       "        vertical-align: top;\n",
       "    }\n",
       "\n",
       "    .dataframe thead th {\n",
       "        text-align: right;\n",
       "    }\n",
       "</style>\n",
       "<table border=\"1\" class=\"dataframe\">\n",
       "  <thead>\n",
       "    <tr style=\"text-align: right;\">\n",
       "      <th></th>\n",
       "      <th>Texto</th>\n",
       "      <th>Ementa</th>\n",
       "      <th>Vereador</th>\n",
       "      <th>Data</th>\n",
       "      <th>Nota</th>\n",
       "      <th>isUtil</th>\n",
       "      <th>Label</th>\n",
       "    </tr>\n",
       "  </thead>\n",
       "  <tbody>\n",
       "    <tr>\n",
       "      <th>0</th>\n",
       "      <td>art 1 fica declarada órgão utilidade pública m...</td>\n",
       "      <td>declara órgão utilidade pública municipal asso...</td>\n",
       "      <td>Mariana Conti</td>\n",
       "      <td>2019</td>\n",
       "      <td>7</td>\n",
       "      <td>não</td>\n",
       "      <td>0</td>\n",
       "    </tr>\n",
       "    <tr>\n",
       "      <th>1</th>\n",
       "      <td>art 1 fica denominada praça jacira guedes pint...</td>\n",
       "      <td>denomina praça jacira guedes pinto alberto pra...</td>\n",
       "      <td>Marcos Bernardelli</td>\n",
       "      <td>2019</td>\n",
       "      <td>9</td>\n",
       "      <td>não</td>\n",
       "      <td>0</td>\n",
       "    </tr>\n",
       "    <tr>\n",
       "      <th>2</th>\n",
       "      <td>art 1º fica alterado art 1º lei nº 14045 7 abr...</td>\n",
       "      <td>altera art 1º lei nº 14045 07 abril 2011 inclu...</td>\n",
       "      <td>Professor Alberto</td>\n",
       "      <td>2019</td>\n",
       "      <td>10</td>\n",
       "      <td>não</td>\n",
       "      <td>0</td>\n",
       "    </tr>\n",
       "    <tr>\n",
       "      <th>3</th>\n",
       "      <td>data conforme manifestação procuradoria legisl...</td>\n",
       "      <td>estabelece possibilidade corte eou poda árvore...</td>\n",
       "      <td>Nelson Hossri</td>\n",
       "      <td>2019</td>\n",
       "      <td>3</td>\n",
       "      <td>sim</td>\n",
       "      <td>1</td>\n",
       "    </tr>\n",
       "    <tr>\n",
       "      <th>4</th>\n",
       "      <td>art lº ficam proibidos comercialização uso esp...</td>\n",
       "      <td>proíbe comércio uso produtos especifica acondi...</td>\n",
       "      <td>Luiz Rossini</td>\n",
       "      <td>2019</td>\n",
       "      <td>13</td>\n",
       "      <td>não</td>\n",
       "      <td>0</td>\n",
       "    </tr>\n",
       "    <tr>\n",
       "      <th>5</th>\n",
       "      <td>art i encaminharem nome consumidor inadimplent...</td>\n",
       "      <td>dispõe obrigatoriedade empresas credoras notif...</td>\n",
       "      <td>Cidão Santos</td>\n",
       "      <td>2019</td>\n",
       "      <td>6</td>\n",
       "      <td>não</td>\n",
       "      <td>0</td>\n",
       "    </tr>\n",
       "    <tr>\n",
       "      <th>6</th>\n",
       "      <td>art 10 fica declarada órgão utilidade pública ...</td>\n",
       "      <td>declara órgão utilidade pública municipal asso...</td>\n",
       "      <td>Vinicius Gratti</td>\n",
       "      <td>2019</td>\n",
       "      <td>7</td>\n",
       "      <td>não</td>\n",
       "      <td>0</td>\n",
       "    </tr>\n",
       "    <tr>\n",
       "      <th>7</th>\n",
       "      <td>art 1 2 fica acrescido s 5 2 art 3 2 lei n 635...</td>\n",
       "      <td>acrescenta 5º art 3º suprime inciso iii art 5º...</td>\n",
       "      <td>Tenente Santini</td>\n",
       "      <td>2019</td>\n",
       "      <td>5</td>\n",
       "      <td>sim</td>\n",
       "      <td>1</td>\n",
       "    </tr>\n",
       "    <tr>\n",
       "      <th>8</th>\n",
       "      <td>art 1º estabelecimentos situados âmbito municí...</td>\n",
       "      <td>dispõe disponibilização espaços destinados col...</td>\n",
       "      <td>Permínio Monteiro</td>\n",
       "      <td>2019</td>\n",
       "      <td>14</td>\n",
       "      <td>não</td>\n",
       "      <td>0</td>\n",
       "    </tr>\n",
       "    <tr>\n",
       "      <th>9</th>\n",
       "      <td>art 1º fica denominada praça maria souza ruiz ...</td>\n",
       "      <td>denomina praça maria souza ruiz praça pública ...</td>\n",
       "      <td>Carlão do PT</td>\n",
       "      <td>2019</td>\n",
       "      <td>9</td>\n",
       "      <td>não</td>\n",
       "      <td>0</td>\n",
       "    </tr>\n",
       "    <tr>\n",
       "      <th>10</th>\n",
       "      <td>art 1 0 fica denominado praça marcelo xavier s...</td>\n",
       "      <td>denomina praça marcelo xavier souza lazer muni...</td>\n",
       "      <td>Fernando Mendes</td>\n",
       "      <td>2019</td>\n",
       "      <td>9</td>\n",
       "      <td>não</td>\n",
       "      <td>0</td>\n",
       "    </tr>\n",
       "    <tr>\n",
       "      <th>11</th>\n",
       "      <td>art i p ficam estabelecimentos ensino oficiais...</td>\n",
       "      <td>estabelece obrigatoriedade estabelecimentos en...</td>\n",
       "      <td>Nelson Hossri</td>\n",
       "      <td>2019</td>\n",
       "      <td>2</td>\n",
       "      <td>sim</td>\n",
       "      <td>1</td>\n",
       "    </tr>\n",
       "    <tr>\n",
       "      <th>12</th>\n",
       "      <td>projeto lei ordinária passou tramitar projeto ...</td>\n",
       "      <td>dispõe obrigatoriedade empresas transporte mun...</td>\n",
       "      <td>Carlão do PT</td>\n",
       "      <td>2019</td>\n",
       "      <td>11</td>\n",
       "      <td>não</td>\n",
       "      <td>0</td>\n",
       "    </tr>\n",
       "    <tr>\n",
       "      <th>13</th>\n",
       "      <td>art 1 fica denominado praça benedito carlos ma...</td>\n",
       "      <td>denomina praça benedito carlos martins lazer m...</td>\n",
       "      <td>Jorge Schneider</td>\n",
       "      <td>2019</td>\n",
       "      <td>9</td>\n",
       "      <td>não</td>\n",
       "      <td>0</td>\n",
       "    </tr>\n",
       "    <tr>\n",
       "      <th>14</th>\n",
       "      <td>art 1º fica instituída calendário oficial muni...</td>\n",
       "      <td>institui calendário oficial município campinas...</td>\n",
       "      <td>Vinicius Gratti</td>\n",
       "      <td>2019</td>\n",
       "      <td>10</td>\n",
       "      <td>não</td>\n",
       "      <td>0</td>\n",
       "    </tr>\n",
       "    <tr>\n",
       "      <th>15</th>\n",
       "      <td>art 1º sistemas ensino deverão implantar grada...</td>\n",
       "      <td>dispõe obrigatoriedade controle digital acesso...</td>\n",
       "      <td>Cidão Santos</td>\n",
       "      <td>2019</td>\n",
       "      <td>6</td>\n",
       "      <td>não</td>\n",
       "      <td>0</td>\n",
       "    </tr>\n",
       "    <tr>\n",
       "      <th>16</th>\n",
       "      <td>art 1º ficam asseguradas estudantes estabeleci...</td>\n",
       "      <td>dispõe criação organização atuação grêmios est...</td>\n",
       "      <td>Carlão do PT</td>\n",
       "      <td>2019</td>\n",
       "      <td>14</td>\n",
       "      <td>não</td>\n",
       "      <td>0</td>\n",
       "    </tr>\n",
       "    <tr>\n",
       "      <th>17</th>\n",
       "      <td>art 1 fica denominada praça iracema costa praç...</td>\n",
       "      <td>denomina praça iracema costa praça pública mun...</td>\n",
       "      <td>Carlão do PT</td>\n",
       "      <td>2019</td>\n",
       "      <td>9</td>\n",
       "      <td>não</td>\n",
       "      <td>0</td>\n",
       "    </tr>\n",
       "    <tr>\n",
       "      <th>18</th>\n",
       "      <td>art 1º fica proibido reeducandos prestem servi...</td>\n",
       "      <td>dispõe proibição reeducandos prestarem serviço...</td>\n",
       "      <td>Tenente Santini</td>\n",
       "      <td>2019</td>\n",
       "      <td>6</td>\n",
       "      <td>não</td>\n",
       "      <td>0</td>\n",
       "    </tr>\n",
       "    <tr>\n",
       "      <th>19</th>\n",
       "      <td>art 1º   estabelece empresa transporte coletiv...</td>\n",
       "      <td>dispõe revisão temporária transporte coletivo ...</td>\n",
       "      <td>Rubens Gás</td>\n",
       "      <td>2019</td>\n",
       "      <td>11</td>\n",
       "      <td>não</td>\n",
       "      <td>0</td>\n",
       "    </tr>\n",
       "  </tbody>\n",
       "</table>\n",
       "</div>"
      ],
      "text/plain": [
       "                                                Texto   \n",
       "0   art 1 fica declarada órgão utilidade pública m...  \\\n",
       "1   art 1 fica denominada praça jacira guedes pint...   \n",
       "2   art 1º fica alterado art 1º lei nº 14045 7 abr...   \n",
       "3   data conforme manifestação procuradoria legisl...   \n",
       "4   art lº ficam proibidos comercialização uso esp...   \n",
       "5   art i encaminharem nome consumidor inadimplent...   \n",
       "6   art 10 fica declarada órgão utilidade pública ...   \n",
       "7   art 1 2 fica acrescido s 5 2 art 3 2 lei n 635...   \n",
       "8   art 1º estabelecimentos situados âmbito municí...   \n",
       "9   art 1º fica denominada praça maria souza ruiz ...   \n",
       "10  art 1 0 fica denominado praça marcelo xavier s...   \n",
       "11  art i p ficam estabelecimentos ensino oficiais...   \n",
       "12  projeto lei ordinária passou tramitar projeto ...   \n",
       "13  art 1 fica denominado praça benedito carlos ma...   \n",
       "14  art 1º fica instituída calendário oficial muni...   \n",
       "15  art 1º sistemas ensino deverão implantar grada...   \n",
       "16  art 1º ficam asseguradas estudantes estabeleci...   \n",
       "17  art 1 fica denominada praça iracema costa praç...   \n",
       "18  art 1º fica proibido reeducandos prestem servi...   \n",
       "19  art 1º   estabelece empresa transporte coletiv...   \n",
       "\n",
       "                                               Ementa            Vereador   \n",
       "0   declara órgão utilidade pública municipal asso...       Mariana Conti  \\\n",
       "1   denomina praça jacira guedes pinto alberto pra...  Marcos Bernardelli   \n",
       "2   altera art 1º lei nº 14045 07 abril 2011 inclu...   Professor Alberto   \n",
       "3   estabelece possibilidade corte eou poda árvore...       Nelson Hossri   \n",
       "4   proíbe comércio uso produtos especifica acondi...        Luiz Rossini   \n",
       "5   dispõe obrigatoriedade empresas credoras notif...        Cidão Santos   \n",
       "6   declara órgão utilidade pública municipal asso...     Vinicius Gratti   \n",
       "7   acrescenta 5º art 3º suprime inciso iii art 5º...     Tenente Santini   \n",
       "8   dispõe disponibilização espaços destinados col...   Permínio Monteiro   \n",
       "9   denomina praça maria souza ruiz praça pública ...        Carlão do PT   \n",
       "10  denomina praça marcelo xavier souza lazer muni...     Fernando Mendes   \n",
       "11  estabelece obrigatoriedade estabelecimentos en...       Nelson Hossri   \n",
       "12  dispõe obrigatoriedade empresas transporte mun...        Carlão do PT   \n",
       "13  denomina praça benedito carlos martins lazer m...     Jorge Schneider   \n",
       "14  institui calendário oficial município campinas...     Vinicius Gratti   \n",
       "15  dispõe obrigatoriedade controle digital acesso...        Cidão Santos   \n",
       "16  dispõe criação organização atuação grêmios est...        Carlão do PT   \n",
       "17  denomina praça iracema costa praça pública mun...        Carlão do PT   \n",
       "18  dispõe proibição reeducandos prestarem serviço...     Tenente Santini   \n",
       "19  dispõe revisão temporária transporte coletivo ...          Rubens Gás   \n",
       "\n",
       "    Data  Nota isUtil  Label  \n",
       "0   2019     7    não      0  \n",
       "1   2019     9    não      0  \n",
       "2   2019    10    não      0  \n",
       "3   2019     3    sim      1  \n",
       "4   2019    13    não      0  \n",
       "5   2019     6    não      0  \n",
       "6   2019     7    não      0  \n",
       "7   2019     5    sim      1  \n",
       "8   2019    14    não      0  \n",
       "9   2019     9    não      0  \n",
       "10  2019     9    não      0  \n",
       "11  2019     2    sim      1  \n",
       "12  2019    11    não      0  \n",
       "13  2019     9    não      0  \n",
       "14  2019    10    não      0  \n",
       "15  2019     6    não      0  \n",
       "16  2019    14    não      0  \n",
       "17  2019     9    não      0  \n",
       "18  2019     6    não      0  \n",
       "19  2019    11    não      0  "
      ]
     },
     "execution_count": 5,
     "metadata": {},
     "output_type": "execute_result"
    }
   ],
   "source": [
    "df_test"
   ]
  },
  {
   "cell_type": "code",
   "execution_count": 6,
   "id": "03d8dc93-6c70-48b5-8ece-e48099247ba9",
   "metadata": {},
   "outputs": [
    {
     "name": "stdout",
     "output_type": "stream",
     "text": [
      "O tamanho do dataset de treino é: (79, 7)\n",
      "O tamanho do dataset de teste é: (20, 7)\n"
     ]
    }
   ],
   "source": [
    "print('O tamanho do dataset de treino é:', df_train.shape)\n",
    "print('O tamanho do dataset de teste é:', df_test.shape)"
   ]
  },
  {
   "cell_type": "markdown",
   "id": "2c4890de-15de-4109-a70d-4abbdd2c07ee",
   "metadata": {},
   "source": [
    "##### Nova remoção na coluna 'Texto' usando biblioteca neattext\n",
    "- lowering, expand contractions\n",
    "- remove:\n",
    "  + punctuations, stop words, urls, emails, numbers, emojis, phone numbers, multiple whitespaces, currency symbols, special characters"
   ]
  },
  {
   "cell_type": "code",
   "execution_count": 7,
   "id": "e5893ed8-eff5-4dea-a7f9-39200998fc79",
   "metadata": {},
   "outputs": [],
   "source": [
    "import neattext.functions as ntx\n",
    "\n",
    "def text_preprocessing(text_in: str) -> str:\n",
    "    text = text_in.lower()\n",
    "    text = ntx.fix_contractions(text)\n",
    "    text = ntx.remove_punctuations(text)\n",
    "    text = ntx.remove_stopwords(text)\n",
    "    text = ntx.remove_urls(text)\n",
    "    text = ntx.remove_emails(text)\n",
    "    text = ntx.remove_numbers(text)\n",
    "    text = ntx.remove_emojis(text)\n",
    "    text = ntx.remove_phone_numbers(text)\n",
    "    text = ntx.remove_multiple_spaces(text)\n",
    "    text = ntx.remove_currency_symbols(text)\n",
    "    text = ntx.remove_special_characters(text)\n",
    "    return text"
   ]
  },
  {
   "cell_type": "code",
   "execution_count": 8,
   "id": "b31df326-dacc-4867-ba22-5783e30af2bd",
   "metadata": {},
   "outputs": [],
   "source": [
    "# progress bar in pandas\n",
    "#!pip install tqdm"
   ]
  },
  {
   "cell_type": "code",
   "execution_count": 9,
   "id": "1f003d03-8e70-4791-b67c-c049db369653",
   "metadata": {},
   "outputs": [],
   "source": [
    "from tqdm import tqdm\n",
    "tqdm.pandas()  # it enables some new progress bar functions/methods for pandas"
   ]
  },
  {
   "cell_type": "code",
   "execution_count": 10,
   "id": "1d2834ad-ab56-4e1d-a4de-cfe8201eea2c",
   "metadata": {},
   "outputs": [
    {
     "name": "stderr",
     "output_type": "stream",
     "text": [
      "100%|█████████████████████████████████████████████████████████████████████████████████| 79/79 [00:00<00:00, 868.67it/s]\n"
     ]
    }
   ],
   "source": [
    "# pre-process the training set\n",
    "df_train['Ementa-pre'] = df_train['Ementa'].progress_apply(lambda text: text_preprocessing(text))"
   ]
  },
  {
   "cell_type": "code",
   "execution_count": 11,
   "id": "530bc134-8ca7-4a06-b240-9603b8428f62",
   "metadata": {
    "scrolled": true
   },
   "outputs": [
    {
     "data": {
      "text/html": [
       "<div>\n",
       "<style scoped>\n",
       "    .dataframe tbody tr th:only-of-type {\n",
       "        vertical-align: middle;\n",
       "    }\n",
       "\n",
       "    .dataframe tbody tr th {\n",
       "        vertical-align: top;\n",
       "    }\n",
       "\n",
       "    .dataframe thead th {\n",
       "        text-align: right;\n",
       "    }\n",
       "</style>\n",
       "<table border=\"1\" class=\"dataframe\">\n",
       "  <thead>\n",
       "    <tr style=\"text-align: right;\">\n",
       "      <th></th>\n",
       "      <th>Texto</th>\n",
       "      <th>Ementa</th>\n",
       "      <th>Vereador</th>\n",
       "      <th>Data</th>\n",
       "      <th>Nota</th>\n",
       "      <th>isUtil</th>\n",
       "      <th>Label</th>\n",
       "      <th>Ementa-pre</th>\n",
       "    </tr>\n",
       "  </thead>\n",
       "  <tbody>\n",
       "    <tr>\n",
       "      <th>0</th>\n",
       "      <td>art 10   fica proibido venda comercialização b...</td>\n",
       "      <td>proíbe venda brinquedos constituem réplicas si...</td>\n",
       "      <td>Carmo Luiz</td>\n",
       "      <td>2019</td>\n",
       "      <td>13</td>\n",
       "      <td>não</td>\n",
       "      <td>0</td>\n",
       "      <td>probe venda brinquedos constituem rplicas simu...</td>\n",
       "    </tr>\n",
       "    <tr>\n",
       "      <th>1</th>\n",
       "      <td>art i fica assegurada criança adolescente pai ...</td>\n",
       "      <td>assegura criança adolescente pai mãe responsáv...</td>\n",
       "      <td>Carmo Luiz</td>\n",
       "      <td>2019</td>\n",
       "      <td>7</td>\n",
       "      <td>não</td>\n",
       "      <td>0</td>\n",
       "      <td>assegura criana adolescente pai me responsvel ...</td>\n",
       "    </tr>\n",
       "    <tr>\n",
       "      <th>2</th>\n",
       "      <td>art 1º fica ins tuído programa municipal popul...</td>\n",
       "      <td>institui programa municipal população imigrant...</td>\n",
       "      <td>Carlão do PT</td>\n",
       "      <td>2019</td>\n",
       "      <td>12</td>\n",
       "      <td>não</td>\n",
       "      <td>0</td>\n",
       "      <td>institui programa municipal populao imigrante ...</td>\n",
       "    </tr>\n",
       "    <tr>\n",
       "      <th>3</th>\n",
       "      <td>art 10 ficam obrigadas escolas rede privada mu...</td>\n",
       "      <td>dispõe obrigatoriedade escolas rede privada mu...</td>\n",
       "      <td>Gustao Petta</td>\n",
       "      <td>2019</td>\n",
       "      <td>12</td>\n",
       "      <td>não</td>\n",
       "      <td>0</td>\n",
       "      <td>dispe obrigatoriedade escolas rede privada mun...</td>\n",
       "    </tr>\n",
       "    <tr>\n",
       "      <th>4</th>\n",
       "      <td>art 1º fica denominado praça cyro baldin recre...</td>\n",
       "      <td>denomina praça cyro baldin recreio município c...</td>\n",
       "      <td>Carmo Luiz</td>\n",
       "      <td>2019</td>\n",
       "      <td>9</td>\n",
       "      <td>não</td>\n",
       "      <td>0</td>\n",
       "      <td>denomina praa cyro baldin recreio municpio cam...</td>\n",
       "    </tr>\n",
       "  </tbody>\n",
       "</table>\n",
       "</div>"
      ],
      "text/plain": [
       "                                               Texto   \n",
       "0  art 10   fica proibido venda comercialização b...  \\\n",
       "1  art i fica assegurada criança adolescente pai ...   \n",
       "2  art 1º fica ins tuído programa municipal popul...   \n",
       "3  art 10 ficam obrigadas escolas rede privada mu...   \n",
       "4  art 1º fica denominado praça cyro baldin recre...   \n",
       "\n",
       "                                              Ementa      Vereador  Data   \n",
       "0  proíbe venda brinquedos constituem réplicas si...    Carmo Luiz  2019  \\\n",
       "1  assegura criança adolescente pai mãe responsáv...    Carmo Luiz  2019   \n",
       "2  institui programa municipal população imigrant...  Carlão do PT  2019   \n",
       "3  dispõe obrigatoriedade escolas rede privada mu...  Gustao Petta  2019   \n",
       "4  denomina praça cyro baldin recreio município c...    Carmo Luiz  2019   \n",
       "\n",
       "   Nota isUtil  Label                                         Ementa-pre  \n",
       "0    13    não      0  probe venda brinquedos constituem rplicas simu...  \n",
       "1     7    não      0  assegura criana adolescente pai me responsvel ...  \n",
       "2    12    não      0  institui programa municipal populao imigrante ...  \n",
       "3    12    não      0  dispe obrigatoriedade escolas rede privada mun...  \n",
       "4     9    não      0  denomina praa cyro baldin recreio municpio cam...  "
      ]
     },
     "execution_count": 11,
     "metadata": {},
     "output_type": "execute_result"
    }
   ],
   "source": [
    "df_train.head()"
   ]
  },
  {
   "cell_type": "code",
   "execution_count": 12,
   "id": "ab789a1b-2aa2-4625-8907-7e73f32088aa",
   "metadata": {},
   "outputs": [
    {
     "name": "stderr",
     "output_type": "stream",
     "text": [
      "100%|████████████████████████████████████████████████████████████████████████████████| 20/20 [00:00<00:00, 1333.96it/s]\n"
     ]
    }
   ],
   "source": [
    "# pre-process the training set\n",
    "df_test['Ementa-pre'] = df_test['Ementa'].progress_apply(lambda text: text_preprocessing(text))"
   ]
  },
  {
   "cell_type": "code",
   "execution_count": 13,
   "id": "d443de0f-a006-484a-8fc8-1bb9075262f5",
   "metadata": {
    "scrolled": true
   },
   "outputs": [
    {
     "data": {
      "text/html": [
       "<div>\n",
       "<style scoped>\n",
       "    .dataframe tbody tr th:only-of-type {\n",
       "        vertical-align: middle;\n",
       "    }\n",
       "\n",
       "    .dataframe tbody tr th {\n",
       "        vertical-align: top;\n",
       "    }\n",
       "\n",
       "    .dataframe thead th {\n",
       "        text-align: right;\n",
       "    }\n",
       "</style>\n",
       "<table border=\"1\" class=\"dataframe\">\n",
       "  <thead>\n",
       "    <tr style=\"text-align: right;\">\n",
       "      <th></th>\n",
       "      <th>Texto</th>\n",
       "      <th>Ementa</th>\n",
       "      <th>Vereador</th>\n",
       "      <th>Data</th>\n",
       "      <th>Nota</th>\n",
       "      <th>isUtil</th>\n",
       "      <th>Label</th>\n",
       "      <th>Ementa-pre</th>\n",
       "    </tr>\n",
       "  </thead>\n",
       "  <tbody>\n",
       "    <tr>\n",
       "      <th>0</th>\n",
       "      <td>art 1 fica declarada órgão utilidade pública m...</td>\n",
       "      <td>declara órgão utilidade pública municipal asso...</td>\n",
       "      <td>Mariana Conti</td>\n",
       "      <td>2019</td>\n",
       "      <td>7</td>\n",
       "      <td>não</td>\n",
       "      <td>0</td>\n",
       "      <td>declara rgo utilidade pblica municipal associa...</td>\n",
       "    </tr>\n",
       "    <tr>\n",
       "      <th>1</th>\n",
       "      <td>art 1 fica denominada praça jacira guedes pint...</td>\n",
       "      <td>denomina praça jacira guedes pinto alberto pra...</td>\n",
       "      <td>Marcos Bernardelli</td>\n",
       "      <td>2019</td>\n",
       "      <td>9</td>\n",
       "      <td>não</td>\n",
       "      <td>0</td>\n",
       "      <td>denomina praa jacira guedes pinto alberto praa...</td>\n",
       "    </tr>\n",
       "    <tr>\n",
       "      <th>2</th>\n",
       "      <td>art 1º fica alterado art 1º lei nº 14045 7 abr...</td>\n",
       "      <td>altera art 1º lei nº 14045 07 abril 2011 inclu...</td>\n",
       "      <td>Professor Alberto</td>\n",
       "      <td>2019</td>\n",
       "      <td>10</td>\n",
       "      <td>não</td>\n",
       "      <td>0</td>\n",
       "      <td>altera art  lei n abril inclui calendrio ofici...</td>\n",
       "    </tr>\n",
       "    <tr>\n",
       "      <th>3</th>\n",
       "      <td>data conforme manifestação procuradoria legisl...</td>\n",
       "      <td>estabelece possibilidade corte eou poda árvore...</td>\n",
       "      <td>Nelson Hossri</td>\n",
       "      <td>2019</td>\n",
       "      <td>3</td>\n",
       "      <td>sim</td>\n",
       "      <td>1</td>\n",
       "      <td>estabelece possibilidade corte eou poda rvores...</td>\n",
       "    </tr>\n",
       "    <tr>\n",
       "      <th>4</th>\n",
       "      <td>art lº ficam proibidos comercialização uso esp...</td>\n",
       "      <td>proíbe comércio uso produtos especifica acondi...</td>\n",
       "      <td>Luiz Rossini</td>\n",
       "      <td>2019</td>\n",
       "      <td>13</td>\n",
       "      <td>não</td>\n",
       "      <td>0</td>\n",
       "      <td>probe comrcio uso produtos especifica acondici...</td>\n",
       "    </tr>\n",
       "  </tbody>\n",
       "</table>\n",
       "</div>"
      ],
      "text/plain": [
       "                                               Texto   \n",
       "0  art 1 fica declarada órgão utilidade pública m...  \\\n",
       "1  art 1 fica denominada praça jacira guedes pint...   \n",
       "2  art 1º fica alterado art 1º lei nº 14045 7 abr...   \n",
       "3  data conforme manifestação procuradoria legisl...   \n",
       "4  art lº ficam proibidos comercialização uso esp...   \n",
       "\n",
       "                                              Ementa            Vereador   \n",
       "0  declara órgão utilidade pública municipal asso...       Mariana Conti  \\\n",
       "1  denomina praça jacira guedes pinto alberto pra...  Marcos Bernardelli   \n",
       "2  altera art 1º lei nº 14045 07 abril 2011 inclu...   Professor Alberto   \n",
       "3  estabelece possibilidade corte eou poda árvore...       Nelson Hossri   \n",
       "4  proíbe comércio uso produtos especifica acondi...        Luiz Rossini   \n",
       "\n",
       "   Data  Nota isUtil  Label                                         Ementa-pre  \n",
       "0  2019     7    não      0  declara rgo utilidade pblica municipal associa...  \n",
       "1  2019     9    não      0  denomina praa jacira guedes pinto alberto praa...  \n",
       "2  2019    10    não      0  altera art  lei n abril inclui calendrio ofici...  \n",
       "3  2019     3    sim      1  estabelece possibilidade corte eou poda rvores...  \n",
       "4  2019    13    não      0  probe comrcio uso produtos especifica acondici...  "
      ]
     },
     "execution_count": 13,
     "metadata": {},
     "output_type": "execute_result"
    }
   ],
   "source": [
    "df_test.head()"
   ]
  },
  {
   "cell_type": "markdown",
   "id": "285f5c63-4751-425c-978c-98932dea03d5",
   "metadata": {},
   "source": [
    "### 3. Feature Extraction"
   ]
  },
  {
   "cell_type": "code",
   "execution_count": 14,
   "id": "a4ad6136-7938-476c-a93f-47073d2428dd",
   "metadata": {},
   "outputs": [],
   "source": [
    "from sklearn.feature_extraction.text import TfidfVectorizer\n",
    "\n",
    "tfidf = TfidfVectorizer()\n",
    "\n",
    "X_train = tfidf.fit_transform(df_train['Ementa-pre'])\n",
    "y_train = df_train['Label']\n",
    "\n",
    "X_test = tfidf.transform(df_test['Ementa-pre'])\n",
    "y_test = df_test['Label']"
   ]
  },
  {
   "cell_type": "code",
   "execution_count": 15,
   "id": "4baab7af-1e5e-47b6-9b82-f615701f060d",
   "metadata": {},
   "outputs": [
    {
     "data": {
      "text/plain": [
       "((79, 472), (20, 472))"
      ]
     },
     "execution_count": 15,
     "metadata": {},
     "output_type": "execute_result"
    }
   ],
   "source": [
    "X_train.shape, X_test.shape"
   ]
  },
  {
   "cell_type": "code",
   "execution_count": 16,
   "id": "0fe126e6-22fd-4be3-a316-4a2846d15d57",
   "metadata": {},
   "outputs": [
    {
     "name": "stdout",
     "output_type": "stream",
     "text": [
      "Vocabulary size: 472\n"
     ]
    }
   ],
   "source": [
    "print(f'Vocabulary size: {len(tfidf.vocabulary_)}')"
   ]
  },
  {
   "cell_type": "markdown",
   "id": "de3efbba-3a5e-479b-a9b8-e1334b8376ce",
   "metadata": {},
   "source": [
    "### 4. Treinamento de modelos"
   ]
  },
  {
   "cell_type": "code",
   "execution_count": 17,
   "id": "14bc1a9f-1df6-444b-b720-59bb816c627f",
   "metadata": {},
   "outputs": [
    {
     "data": {
      "text/html": [
       "<style>#sk-container-id-1 {color: black;background-color: white;}#sk-container-id-1 pre{padding: 0;}#sk-container-id-1 div.sk-toggleable {background-color: white;}#sk-container-id-1 label.sk-toggleable__label {cursor: pointer;display: block;width: 100%;margin-bottom: 0;padding: 0.3em;box-sizing: border-box;text-align: center;}#sk-container-id-1 label.sk-toggleable__label-arrow:before {content: \"▸\";float: left;margin-right: 0.25em;color: #696969;}#sk-container-id-1 label.sk-toggleable__label-arrow:hover:before {color: black;}#sk-container-id-1 div.sk-estimator:hover label.sk-toggleable__label-arrow:before {color: black;}#sk-container-id-1 div.sk-toggleable__content {max-height: 0;max-width: 0;overflow: hidden;text-align: left;background-color: #f0f8ff;}#sk-container-id-1 div.sk-toggleable__content pre {margin: 0.2em;color: black;border-radius: 0.25em;background-color: #f0f8ff;}#sk-container-id-1 input.sk-toggleable__control:checked~div.sk-toggleable__content {max-height: 200px;max-width: 100%;overflow: auto;}#sk-container-id-1 input.sk-toggleable__control:checked~label.sk-toggleable__label-arrow:before {content: \"▾\";}#sk-container-id-1 div.sk-estimator input.sk-toggleable__control:checked~label.sk-toggleable__label {background-color: #d4ebff;}#sk-container-id-1 div.sk-label input.sk-toggleable__control:checked~label.sk-toggleable__label {background-color: #d4ebff;}#sk-container-id-1 input.sk-hidden--visually {border: 0;clip: rect(1px 1px 1px 1px);clip: rect(1px, 1px, 1px, 1px);height: 1px;margin: -1px;overflow: hidden;padding: 0;position: absolute;width: 1px;}#sk-container-id-1 div.sk-estimator {font-family: monospace;background-color: #f0f8ff;border: 1px dotted black;border-radius: 0.25em;box-sizing: border-box;margin-bottom: 0.5em;}#sk-container-id-1 div.sk-estimator:hover {background-color: #d4ebff;}#sk-container-id-1 div.sk-parallel-item::after {content: \"\";width: 100%;border-bottom: 1px solid gray;flex-grow: 1;}#sk-container-id-1 div.sk-label:hover label.sk-toggleable__label {background-color: #d4ebff;}#sk-container-id-1 div.sk-serial::before {content: \"\";position: absolute;border-left: 1px solid gray;box-sizing: border-box;top: 0;bottom: 0;left: 50%;z-index: 0;}#sk-container-id-1 div.sk-serial {display: flex;flex-direction: column;align-items: center;background-color: white;padding-right: 0.2em;padding-left: 0.2em;position: relative;}#sk-container-id-1 div.sk-item {position: relative;z-index: 1;}#sk-container-id-1 div.sk-parallel {display: flex;align-items: stretch;justify-content: center;background-color: white;position: relative;}#sk-container-id-1 div.sk-item::before, #sk-container-id-1 div.sk-parallel-item::before {content: \"\";position: absolute;border-left: 1px solid gray;box-sizing: border-box;top: 0;bottom: 0;left: 50%;z-index: -1;}#sk-container-id-1 div.sk-parallel-item {display: flex;flex-direction: column;z-index: 1;position: relative;background-color: white;}#sk-container-id-1 div.sk-parallel-item:first-child::after {align-self: flex-end;width: 50%;}#sk-container-id-1 div.sk-parallel-item:last-child::after {align-self: flex-start;width: 50%;}#sk-container-id-1 div.sk-parallel-item:only-child::after {width: 0;}#sk-container-id-1 div.sk-dashed-wrapped {border: 1px dashed gray;margin: 0 0.4em 0.5em 0.4em;box-sizing: border-box;padding-bottom: 0.4em;background-color: white;}#sk-container-id-1 div.sk-label label {font-family: monospace;font-weight: bold;display: inline-block;line-height: 1.2em;}#sk-container-id-1 div.sk-label-container {text-align: center;}#sk-container-id-1 div.sk-container {/* jupyter's `normalize.less` sets `[hidden] { display: none; }` but bootstrap.min.css set `[hidden] { display: none !important; }` so we also need the `!important` here to be able to override the default hidden behavior on the sphinx rendered scikit-learn.org. See: https://github.com/scikit-learn/scikit-learn/issues/21755 */display: inline-block !important;position: relative;}#sk-container-id-1 div.sk-text-repr-fallback {display: none;}</style><div id=\"sk-container-id-1\" class=\"sk-top-container\"><div class=\"sk-text-repr-fallback\"><pre>LogisticRegression(class_weight=&#x27;balanced&#x27;, n_jobs=-1)</pre><b>In a Jupyter environment, please rerun this cell to show the HTML representation or trust the notebook. <br />On GitHub, the HTML representation is unable to render, please try loading this page with nbviewer.org.</b></div><div class=\"sk-container\" hidden><div class=\"sk-item\"><div class=\"sk-estimator sk-toggleable\"><input class=\"sk-toggleable__control sk-hidden--visually\" id=\"sk-estimator-id-1\" type=\"checkbox\" checked><label for=\"sk-estimator-id-1\" class=\"sk-toggleable__label sk-toggleable__label-arrow\">LogisticRegression</label><div class=\"sk-toggleable__content\"><pre>LogisticRegression(class_weight=&#x27;balanced&#x27;, n_jobs=-1)</pre></div></div></div></div></div>"
      ],
      "text/plain": [
       "LogisticRegression(class_weight='balanced', n_jobs=-1)"
      ]
     },
     "execution_count": 17,
     "metadata": {},
     "output_type": "execute_result"
    }
   ],
   "source": [
    "from sklearn.linear_model import LogisticRegression\n",
    "\n",
    "logreg = LogisticRegression(class_weight='balanced', n_jobs=-1)\n",
    "\n",
    "logreg.fit(X_train, y_train)"
   ]
  },
  {
   "cell_type": "code",
   "execution_count": 18,
   "id": "a4642296-3db2-49b4-a598-dc29924e803a",
   "metadata": {},
   "outputs": [],
   "source": [
    "# prediction on training set\n",
    "y_train_pred = logreg.predict(X_train)"
   ]
  },
  {
   "cell_type": "code",
   "execution_count": 19,
   "id": "a12b857b-af0e-4458-9cf3-f18b90b9006f",
   "metadata": {},
   "outputs": [
    {
     "name": "stdout",
     "output_type": "stream",
     "text": [
      "              precision    recall  f1-score   support\n",
      "\n",
      "           0       1.00      0.97      0.98        65\n",
      "           1       0.88      1.00      0.93        14\n",
      "\n",
      "    accuracy                           0.97        79\n",
      "   macro avg       0.94      0.98      0.96        79\n",
      "weighted avg       0.98      0.97      0.98        79\n",
      "\n"
     ]
    }
   ],
   "source": [
    "from sklearn.metrics import classification_report\n",
    "\n",
    "#print(classification_report(y_train, y_train_pred, target_names=target_names))\n",
    "print(classification_report(y_train, y_train_pred))"
   ]
  },
  {
   "cell_type": "code",
   "execution_count": 20,
   "id": "ac79d2f9-7604-4e54-a1f3-3aaf7abe6cae",
   "metadata": {},
   "outputs": [
    {
     "name": "stdout",
     "output_type": "stream",
     "text": [
      "F1 Train: 0.9588541666666666\n"
     ]
    }
   ],
   "source": [
    "from sklearn.metrics import f1_score\n",
    "\n",
    "f1_train = f1_score(y_train, y_train_pred, average='macro')\n",
    "\n",
    "print(f'F1 Train: {f1_train}')"
   ]
  },
  {
   "cell_type": "code",
   "execution_count": 21,
   "id": "c0f7d9c9-d9b7-4238-a0ea-ddc64b093381",
   "metadata": {},
   "outputs": [
    {
     "name": "stdout",
     "output_type": "stream",
     "text": [
      "Balanced Acc Train: 0.9846153846153847\n"
     ]
    }
   ],
   "source": [
    "from sklearn.metrics import balanced_accuracy_score\n",
    "\n",
    "balacc_train = balanced_accuracy_score(y_train, y_train_pred)\n",
    "\n",
    "print(f'Balanced Acc Train: {balacc_train}')"
   ]
  },
  {
   "cell_type": "markdown",
   "id": "6a83797a-fb23-4fb2-b80c-0816b616fe12",
   "metadata": {},
   "source": [
    "#### Evaluate the model on the Test Set"
   ]
  },
  {
   "cell_type": "code",
   "execution_count": 22,
   "id": "da3b5eb3-2ed9-4b27-89af-41c87f1a8b9e",
   "metadata": {},
   "outputs": [],
   "source": [
    "# prediction on testing set\n",
    "y_test_pred = logreg.predict(X_test)"
   ]
  },
  {
   "cell_type": "code",
   "execution_count": 23,
   "id": "62383680-d01b-4924-b638-0d335dc736c3",
   "metadata": {},
   "outputs": [
    {
     "name": "stdout",
     "output_type": "stream",
     "text": [
      "              precision    recall  f1-score   support\n",
      "\n",
      "           0       0.89      1.00      0.94        17\n",
      "           1       1.00      0.33      0.50         3\n",
      "\n",
      "    accuracy                           0.90        20\n",
      "   macro avg       0.95      0.67      0.72        20\n",
      "weighted avg       0.91      0.90      0.88        20\n",
      "\n"
     ]
    }
   ],
   "source": [
    "#from sklearn.metrics import classification_report\n",
    "print(classification_report(y_test, y_test_pred))"
   ]
  },
  {
   "cell_type": "code",
   "execution_count": 24,
   "id": "e835224a-544a-45e7-9761-edf04d24bf68",
   "metadata": {},
   "outputs": [
    {
     "name": "stdout",
     "output_type": "stream",
     "text": [
      "F1 Test: 0.7222222222222222\n"
     ]
    }
   ],
   "source": [
    "from sklearn.metrics import f1_score\n",
    "f1_test = f1_score(y_test, y_test_pred, average='macro')\n",
    "print(f'F1 Test: {f1_test}')"
   ]
  },
  {
   "cell_type": "markdown",
   "id": "9c4db7ed-9b32-4f8a-9077-cd08ea5323f8",
   "metadata": {},
   "source": [
    "O resultado **F1 score** diminuiu um pouco em relação ao Sprint 3, devido ao menor vocabulário no campo 'Ementa' em relação ao campo \"Texto'"
   ]
  },
  {
   "cell_type": "code",
   "execution_count": null,
   "id": "a3357c02-b558-4493-afc0-ffa2f705ce5d",
   "metadata": {},
   "outputs": [],
   "source": []
  },
  {
   "cell_type": "code",
   "execution_count": null,
   "id": "ecf5c2bc-3e8a-4242-b472-78ca8a1be0ef",
   "metadata": {},
   "outputs": [],
   "source": []
  },
  {
   "cell_type": "code",
   "execution_count": null,
   "id": "b3c92981-e441-4df1-9703-6c55e2e59a26",
   "metadata": {},
   "outputs": [],
   "source": []
  },
  {
   "cell_type": "code",
   "execution_count": null,
   "id": "3a344d98-6a2c-496b-a1d7-77da739c2f02",
   "metadata": {},
   "outputs": [],
   "source": []
  },
  {
   "cell_type": "code",
   "execution_count": null,
   "id": "57f3c9d0-7b1c-4b5d-bb91-3274b4ec2b4d",
   "metadata": {},
   "outputs": [],
   "source": []
  }
 ],
 "metadata": {
  "kernelspec": {
   "display_name": "Python 3 (ipykernel)",
   "language": "python",
   "name": "python3"
  },
  "language_info": {
   "codemirror_mode": {
    "name": "ipython",
    "version": 3
   },
   "file_extension": ".py",
   "mimetype": "text/x-python",
   "name": "python",
   "nbconvert_exporter": "python",
   "pygments_lexer": "ipython3",
   "version": "3.11.3"
  },
  "widgets": {
   "application/vnd.jupyter.widget-state+json": {
    "state": {},
    "version_major": 2,
    "version_minor": 0
   }
  }
 },
 "nbformat": 4,
 "nbformat_minor": 5
}
