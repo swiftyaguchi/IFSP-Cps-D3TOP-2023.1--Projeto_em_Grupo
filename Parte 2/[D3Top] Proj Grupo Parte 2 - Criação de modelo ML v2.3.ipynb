{
 "cells": [
  {
   "cell_type": "markdown",
   "id": "78ffbd83-345d-4502-a4ae-7d094f92c96f",
   "metadata": {
    "tags": []
   },
   "source": [
    "**IFSP - Campus Campinas** <br>\n",
    "**Pós-graduação em Ciência de Dados** <br>\n",
    "**Disciplina D3TOP/2023 – Tópicos em Ciência de Dados** <br>\n",
    "\n",
    "**Projeto em Grupo - Parte 2**\n",
    "\n",
    "#### Sprint 3 - v 2.3 \n",
    "- limpeza inicial de linhas com NaN no campo 'Texto'\n",
    "- pre-processamento com Spacy seguido de Neattext\n",
    "- feature extraction com TfidfVectorizer na coluna 'Texto' da PLO\n",
    "- treinamento com LogisticRegression\n",
    "- rodado em PC local (não AWS)\n",
    "\n",
    "\n",
    "Professor: Samuel Martins (samuel.martins@ifsp.edu.br)<br>\n",
    "Aluno: Swift Motoo Yaguchi - CP301665X"
   ]
  },
  {
   "cell_type": "markdown",
   "id": "29e47f9a-d68f-4484-aaf3-68077dbd0463",
   "metadata": {},
   "source": [
    "------"
   ]
  },
  {
   "cell_type": "markdown",
   "id": "11ae6a1f-7ca9-45ad-8546-1b8bdf1c4358",
   "metadata": {},
   "source": [
    "### 1. Etapa de limpeza e pré-processamento"
   ]
  },
  {
   "cell_type": "markdown",
   "id": "b6bf9296-072e-484f-97bb-35a557e16388",
   "metadata": {},
   "source": [
    "##### Instalando bibliotecas"
   ]
  },
  {
   "cell_type": "code",
   "execution_count": 1,
   "id": "b7b5c3bf-1a95-4c9d-bf87-a2baddf23965",
   "metadata": {
    "tags": []
   },
   "outputs": [],
   "source": [
    "#Upgrade dependencies\n",
    "#!pip install --upgrade pip\n",
    "#!pip install --upgrade scikit-learn\n",
    "#!pip install --upgrade wordcloud\n",
    "#!pip install --upgrade sagemaker"
   ]
  },
  {
   "cell_type": "code",
   "execution_count": 2,
   "id": "912308e6-91f9-4170-be93-aa3c55d9ed41",
   "metadata": {
    "tags": []
   },
   "outputs": [],
   "source": [
    "import pandas as pd\n",
    "import numpy as np"
   ]
  },
  {
   "cell_type": "markdown",
   "id": "adf8f8e4-94e1-4d90-a2f9-581e55ee83f0",
   "metadata": {},
   "source": [
    "##### Leitura da base de dados"
   ]
  },
  {
   "cell_type": "code",
   "execution_count": 3,
   "id": "34f5db8c-2b91-4d36-9155-0913409ded22",
   "metadata": {
    "scrolled": true,
    "tags": []
   },
   "outputs": [
    {
     "data": {
      "text/html": [
       "<div>\n",
       "<style scoped>\n",
       "    .dataframe tbody tr th:only-of-type {\n",
       "        vertical-align: middle;\n",
       "    }\n",
       "\n",
       "    .dataframe tbody tr th {\n",
       "        vertical-align: top;\n",
       "    }\n",
       "\n",
       "    .dataframe thead th {\n",
       "        text-align: right;\n",
       "    }\n",
       "</style>\n",
       "<table border=\"1\" class=\"dataframe\">\n",
       "  <thead>\n",
       "    <tr style=\"text-align: right;\">\n",
       "      <th></th>\n",
       "      <th>Texto</th>\n",
       "      <th>Ementa</th>\n",
       "      <th>Vereador</th>\n",
       "      <th>Data</th>\n",
       "      <th>Nota</th>\n",
       "      <th>isUtil</th>\n",
       "    </tr>\n",
       "  </thead>\n",
       "  <tbody>\n",
       "    <tr>\n",
       "      <th>0</th>\n",
       "      <td>Art. I  Fica denominado Praça Sandra Hitomi Ta...</td>\n",
       "      <td>DENOMINA PRAÇA SANDRA HITOMI TAKAHASHI UM SIST...</td>\n",
       "      <td>Carmo Luiz</td>\n",
       "      <td>2019</td>\n",
       "      <td>9</td>\n",
       "      <td>não</td>\n",
       "    </tr>\n",
       "    <tr>\n",
       "      <th>1</th>\n",
       "      <td>Art. lº  Ficam proibidos a comercialização e o...</td>\n",
       "      <td>PROÍBE O COMÉRCIO E O USO DOS PRODUTOS QUE ESP...</td>\n",
       "      <td>Luiz Rossini</td>\n",
       "      <td>2019</td>\n",
       "      <td>13</td>\n",
       "      <td>não</td>\n",
       "    </tr>\n",
       "    <tr>\n",
       "      <th>2</th>\n",
       "      <td>Art. 1 0 Poder Executivo municipal deverá disp...</td>\n",
       "      <td>DISPÕE SOBRE O ACESSO ÀS INFORMAÇÕES A RESPEIT...</td>\n",
       "      <td>Luiz Cirilo</td>\n",
       "      <td>2019</td>\n",
       "      <td>1</td>\n",
       "      <td>sim</td>\n",
       "    </tr>\n",
       "    <tr>\n",
       "      <th>3</th>\n",
       "      <td>Art. 1 Fica denominada Praça Iracema Costa a P...</td>\n",
       "      <td>DENOMINA PRAÇA IRACEMA COSTA UMA PRAÇA PÚBLICA...</td>\n",
       "      <td>Carlão do PT</td>\n",
       "      <td>2019</td>\n",
       "      <td>9</td>\n",
       "      <td>não</td>\n",
       "    </tr>\n",
       "    <tr>\n",
       "      <th>4</th>\n",
       "      <td>Art. 1 Ficam alterados os SS I P e 3 2 do art....</td>\n",
       "      <td>ALTERA A REDAÇÃO DOS §§ 1º E 3º DO ART. 2º DA ...</td>\n",
       "      <td>Paulo Galterio</td>\n",
       "      <td>2019</td>\n",
       "      <td>7</td>\n",
       "      <td>não</td>\n",
       "    </tr>\n",
       "  </tbody>\n",
       "</table>\n",
       "</div>"
      ],
      "text/plain": [
       "                                               Texto   \n",
       "0  Art. I  Fica denominado Praça Sandra Hitomi Ta...  \\\n",
       "1  Art. lº  Ficam proibidos a comercialização e o...   \n",
       "2  Art. 1 0 Poder Executivo municipal deverá disp...   \n",
       "3  Art. 1 Fica denominada Praça Iracema Costa a P...   \n",
       "4  Art. 1 Ficam alterados os SS I P e 3 2 do art....   \n",
       "\n",
       "                                              Ementa        Vereador  Data   \n",
       "0  DENOMINA PRAÇA SANDRA HITOMI TAKAHASHI UM SIST...      Carmo Luiz  2019  \\\n",
       "1  PROÍBE O COMÉRCIO E O USO DOS PRODUTOS QUE ESP...    Luiz Rossini  2019   \n",
       "2  DISPÕE SOBRE O ACESSO ÀS INFORMAÇÕES A RESPEIT...     Luiz Cirilo  2019   \n",
       "3  DENOMINA PRAÇA IRACEMA COSTA UMA PRAÇA PÚBLICA...    Carlão do PT  2019   \n",
       "4  ALTERA A REDAÇÃO DOS §§ 1º E 3º DO ART. 2º DA ...  Paulo Galterio  2019   \n",
       "\n",
       "   Nota isUtil  \n",
       "0     9    não  \n",
       "1    13    não  \n",
       "2     1    sim  \n",
       "3     9    não  \n",
       "4     7    não  "
      ]
     },
     "execution_count": 3,
     "metadata": {},
     "output_type": "execute_result"
    }
   ],
   "source": [
    "df = pd.read_csv('PLO 2019 v3a.csv', sep=';')\n",
    "df.head()"
   ]
  },
  {
   "cell_type": "code",
   "execution_count": 4,
   "id": "138cbc06-70f7-4393-8ba4-afb6d012c5b7",
   "metadata": {
    "tags": []
   },
   "outputs": [
    {
     "data": {
      "text/plain": [
       "Texto       235\n",
       "Ementa        0\n",
       "Vereador    235\n",
       "Data          0\n",
       "Nota          0\n",
       "isUtil        0\n",
       "dtype: int64"
      ]
     },
     "execution_count": 4,
     "metadata": {},
     "output_type": "execute_result"
    }
   ],
   "source": [
    "# Verificando se base de dados tem valores ausentes\n",
    "df.isna().sum()"
   ]
  },
  {
   "cell_type": "markdown",
   "id": "a22409ce-8d76-4e0b-b04d-6b55f325f490",
   "metadata": {},
   "source": [
    "Vamos remover as lihas com campos da coluna 'Texto' e 'Vereador' da PLO sem dados"
   ]
  },
  {
   "cell_type": "code",
   "execution_count": 5,
   "id": "3980653c-7e9b-454b-a66e-8c43677687fc",
   "metadata": {},
   "outputs": [],
   "source": [
    "# Removendo as linhas em branco\n",
    "df = df.dropna()"
   ]
  },
  {
   "cell_type": "code",
   "execution_count": 6,
   "id": "3dcac000-bcc0-4a7a-899d-c8d80ad7da7f",
   "metadata": {
    "scrolled": true
   },
   "outputs": [
    {
     "data": {
      "text/plain": [
       "Texto       0\n",
       "Ementa      0\n",
       "Vereador    0\n",
       "Data        0\n",
       "Nota        0\n",
       "isUtil      0\n",
       "dtype: int64"
      ]
     },
     "execution_count": 6,
     "metadata": {},
     "output_type": "execute_result"
    }
   ],
   "source": [
    "df.isna().sum()"
   ]
  },
  {
   "cell_type": "code",
   "execution_count": 7,
   "id": "09bbbde4-e762-4f6b-82f3-832835d09212",
   "metadata": {
    "tags": []
   },
   "outputs": [
    {
     "name": "stdout",
     "output_type": "stream",
     "text": [
      "O tamanho do dataset é: (99, 6)\n"
     ]
    }
   ],
   "source": [
    "print('O tamanho do dataset é:', df.shape)"
   ]
  },
  {
   "cell_type": "code",
   "execution_count": 8,
   "id": "7a67754c-52b0-45e0-8d14-5949ad4079c2",
   "metadata": {
    "scrolled": true,
    "tags": []
   },
   "outputs": [
    {
     "data": {
      "text/plain": [
       "isUtil\n",
       "não    82\n",
       "sim    17\n",
       "Name: count, dtype: int64"
      ]
     },
     "execution_count": 8,
     "metadata": {},
     "output_type": "execute_result"
    }
   ],
   "source": [
    "df['isUtil'].value_counts()"
   ]
  },
  {
   "cell_type": "code",
   "execution_count": 9,
   "id": "69356086-26e3-4a48-889e-18a70242374c",
   "metadata": {},
   "outputs": [
    {
     "data": {
      "image/png": "[encoded data removed]",
      "text/plain": [
       "<Figure size 500x300 with 1 Axes>"
      ]
     },
     "metadata": {},
     "output_type": "display_data"
    }
   ],
   "source": [
    "import matplotlib.pyplot as plt\n",
    "import seaborn as sns\n",
    "\n",
    "plt.figure(figsize=(5, 3))\n",
    "sns.countplot(data=df, x='isUtil')\n",
    "plt.show()"
   ]
  },
  {
   "cell_type": "markdown",
   "id": "8f313f13-e94d-4cc9-99ad-269aeb9006ca",
   "metadata": {},
   "source": [
    "Nota-se que o resultado é desbalanceado"
   ]
  },
  {
   "cell_type": "code",
   "execution_count": 10,
   "id": "cffd08a9-65da-477b-81b7-6ca1bf731b9c",
   "metadata": {},
   "outputs": [
    {
     "data": {
      "text/plain": [
       "Nota\n",
       "9     24\n",
       "7     17\n",
       "6     17\n",
       "14     8\n",
       "5      5\n",
       "11     5\n",
       "2      5\n",
       "1      4\n",
       "12     4\n",
       "10     4\n",
       "13     3\n",
       "3      2\n",
       "4      1\n",
       "Name: count, dtype: int64"
      ]
     },
     "execution_count": 10,
     "metadata": {},
     "output_type": "execute_result"
    }
   ],
   "source": [
    "df['Nota'].value_counts()"
   ]
  },
  {
   "cell_type": "code",
   "execution_count": 11,
   "id": "1c74165b-265d-447f-8ea2-0bc977ecc3de",
   "metadata": {
    "jupyter": {
     "source_hidden": true
    },
    "scrolled": true
   },
   "outputs": [
    {
     "data": {
      "text/plain": [
       "<Axes: xlabel='count', ylabel='Nota'>"
      ]
     },
     "execution_count": 11,
     "metadata": {},
     "output_type": "execute_result"
    },
    {
     "data": {
      "image/png": "[encoded data removed]",
      "text/plain": [
       "<Figure size 1000x600 with 1 Axes>"
      ]
     },
     "metadata": {},
     "output_type": "display_data"
    }
   ],
   "source": [
    "import seaborn as sns\n",
    "import matplotlib.pyplot as plt\n",
    "\n",
    "plt.figure(figsize=(10,6))\n",
    "sns.countplot(data=df, y='Nota')"
   ]
  },
  {
   "cell_type": "markdown",
   "id": "909e0e32-a080-499f-a0e5-2287ec7f1f2f",
   "metadata": {},
   "source": [
    "Curioso observar que sumiram as linhas com Nota 8"
   ]
  },
  {
   "cell_type": "code",
   "execution_count": 13,
   "id": "4e34b8f2-d7bc-4957-ab39-0159ffcb24bd",
   "metadata": {
    "scrolled": true
   },
   "outputs": [
    {
     "data": {
      "text/plain": [
       "<Axes: xlabel='count', ylabel='Nota'>"
      ]
     },
     "execution_count": 13,
     "metadata": {},
     "output_type": "execute_result"
    },
    {
     "data": {
      "image/png": "[encoded data removed]",
      "text/plain": [
       "<Figure size 1000x600 with 1 Axes>"
      ]
     },
     "metadata": {},
     "output_type": "display_data"
    }
   ],
   "source": [
    "order = df['Nota'].value_counts().index\n",
    "\n",
    "plt.figure(figsize=(10,6))\n",
    "sns.countplot(data=df, y='Nota', order=order)"
   ]
  },
  {
   "cell_type": "markdown",
   "id": "36edc980-4041-43fb-ac74-12452ff2d61f",
   "metadata": {},
   "source": [
    "Observa-se que o desbalanceamento dos dados é causado por PLOs com 'Nota' de valores maiores"
   ]
  },
  {
   "cell_type": "markdown",
   "id": "08d6eddd-326b-401e-81c5-3233c6c2c444",
   "metadata": {},
   "source": [
    "##### Label Classes"
   ]
  },
  {
   "cell_type": "code",
   "execution_count": 14,
   "id": "5af3bf77-b379-443c-8c20-84d5c1c7b9d9",
   "metadata": {},
   "outputs": [
    {
     "data": {
      "text/html": [
       "<style>#sk-container-id-1 {color: black;background-color: white;}#sk-container-id-1 pre{padding: 0;}#sk-container-id-1 div.sk-toggleable {background-color: white;}#sk-container-id-1 label.sk-toggleable__label {cursor: pointer;display: block;width: 100%;margin-bottom: 0;padding: 0.3em;box-sizing: border-box;text-align: center;}#sk-container-id-1 label.sk-toggleable__label-arrow:before {content: \"▸\";float: left;margin-right: 0.25em;color: #696969;}#sk-container-id-1 label.sk-toggleable__label-arrow:hover:before {color: black;}#sk-container-id-1 div.sk-estimator:hover label.sk-toggleable__label-arrow:before {color: black;}#sk-container-id-1 div.sk-toggleable__content {max-height: 0;max-width: 0;overflow: hidden;text-align: left;background-color: #f0f8ff;}#sk-container-id-1 div.sk-toggleable__content pre {margin: 0.2em;color: black;border-radius: 0.25em;background-color: #f0f8ff;}#sk-container-id-1 input.sk-toggleable__control:checked~div.sk-toggleable__content {max-height: 200px;max-width: 100%;overflow: auto;}#sk-container-id-1 input.sk-toggleable__control:checked~label.sk-toggleable__label-arrow:before {content: \"▾\";}#sk-container-id-1 div.sk-estimator input.sk-toggleable__control:checked~label.sk-toggleable__label {background-color: #d4ebff;}#sk-container-id-1 div.sk-label input.sk-toggleable__control:checked~label.sk-toggleable__label {background-color: #d4ebff;}#sk-container-id-1 input.sk-hidden--visually {border: 0;clip: rect(1px 1px 1px 1px);clip: rect(1px, 1px, 1px, 1px);height: 1px;margin: -1px;overflow: hidden;padding: 0;position: absolute;width: 1px;}#sk-container-id-1 div.sk-estimator {font-family: monospace;background-color: #f0f8ff;border: 1px dotted black;border-radius: 0.25em;box-sizing: border-box;margin-bottom: 0.5em;}#sk-container-id-1 div.sk-estimator:hover {background-color: #d4ebff;}#sk-container-id-1 div.sk-parallel-item::after {content: \"\";width: 100%;border-bottom: 1px solid gray;flex-grow: 1;}#sk-container-id-1 div.sk-label:hover label.sk-toggleable__label {background-color: #d4ebff;}#sk-container-id-1 div.sk-serial::before {content: \"\";position: absolute;border-left: 1px solid gray;box-sizing: border-box;top: 0;bottom: 0;left: 50%;z-index: 0;}#sk-container-id-1 div.sk-serial {display: flex;flex-direction: column;align-items: center;background-color: white;padding-right: 0.2em;padding-left: 0.2em;position: relative;}#sk-container-id-1 div.sk-item {position: relative;z-index: 1;}#sk-container-id-1 div.sk-parallel {display: flex;align-items: stretch;justify-content: center;background-color: white;position: relative;}#sk-container-id-1 div.sk-item::before, #sk-container-id-1 div.sk-parallel-item::before {content: \"\";position: absolute;border-left: 1px solid gray;box-sizing: border-box;top: 0;bottom: 0;left: 50%;z-index: -1;}#sk-container-id-1 div.sk-parallel-item {display: flex;flex-direction: column;z-index: 1;position: relative;background-color: white;}#sk-container-id-1 div.sk-parallel-item:first-child::after {align-self: flex-end;width: 50%;}#sk-container-id-1 div.sk-parallel-item:last-child::after {align-self: flex-start;width: 50%;}#sk-container-id-1 div.sk-parallel-item:only-child::after {width: 0;}#sk-container-id-1 div.sk-dashed-wrapped {border: 1px dashed gray;margin: 0 0.4em 0.5em 0.4em;box-sizing: border-box;padding-bottom: 0.4em;background-color: white;}#sk-container-id-1 div.sk-label label {font-family: monospace;font-weight: bold;display: inline-block;line-height: 1.2em;}#sk-container-id-1 div.sk-label-container {text-align: center;}#sk-container-id-1 div.sk-container {/* jupyter's `normalize.less` sets `[hidden] { display: none; }` but bootstrap.min.css set `[hidden] { display: none !important; }` so we also need the `!important` here to be able to override the default hidden behavior on the sphinx rendered scikit-learn.org. See: https://github.com/scikit-learn/scikit-learn/issues/21755 */display: inline-block !important;position: relative;}#sk-container-id-1 div.sk-text-repr-fallback {display: none;}</style><div id=\"sk-container-id-1\" class=\"sk-top-container\"><div class=\"sk-text-repr-fallback\"><pre>LabelEncoder()</pre><b>In a Jupyter environment, please rerun this cell to show the HTML representation or trust the notebook. <br />On GitHub, the HTML representation is unable to render, please try loading this page with nbviewer.org.</b></div><div class=\"sk-container\" hidden><div class=\"sk-item\"><div class=\"sk-estimator sk-toggleable\"><input class=\"sk-toggleable__control sk-hidden--visually\" id=\"sk-estimator-id-1\" type=\"checkbox\" checked><label for=\"sk-estimator-id-1\" class=\"sk-toggleable__label sk-toggleable__label-arrow\">LabelEncoder</label><div class=\"sk-toggleable__content\"><pre>LabelEncoder()</pre></div></div></div></div></div>"
      ],
      "text/plain": [
       "LabelEncoder()"
      ]
     },
     "execution_count": 14,
     "metadata": {},
     "output_type": "execute_result"
    }
   ],
   "source": [
    "from sklearn.preprocessing import LabelEncoder\n",
    "\n",
    "label_encoder = LabelEncoder()\n",
    "label_encoder.fit(df['isUtil'])"
   ]
  },
  {
   "cell_type": "code",
   "execution_count": 15,
   "id": "5726c68e-b856-4ef5-8fff-c0a9060cd9f3",
   "metadata": {},
   "outputs": [
    {
     "name": "stdout",
     "output_type": "stream",
     "text": [
      "Class labels\n",
      "não ==> 0\n",
      "sim ==> 1\n"
     ]
    }
   ],
   "source": [
    "print(f'Class labels')\n",
    "\n",
    "for label, class_ in enumerate(label_encoder.classes_):\n",
    "    print(f'{class_} ==> {label}')"
   ]
  },
  {
   "cell_type": "code",
   "execution_count": 16,
   "id": "9526d09f-cf4e-40ae-a74f-442b5f216095",
   "metadata": {},
   "outputs": [],
   "source": [
    "df['Label'] = label_encoder.transform(df['isUtil'])"
   ]
  },
  {
   "cell_type": "code",
   "execution_count": 17,
   "id": "bc73802a-916c-4ac6-a078-88446928823b",
   "metadata": {
    "scrolled": true
   },
   "outputs": [
    {
     "data": {
      "text/html": [
       "<div>\n",
       "<style scoped>\n",
       "    .dataframe tbody tr th:only-of-type {\n",
       "        vertical-align: middle;\n",
       "    }\n",
       "\n",
       "    .dataframe tbody tr th {\n",
       "        vertical-align: top;\n",
       "    }\n",
       "\n",
       "    .dataframe thead th {\n",
       "        text-align: right;\n",
       "    }\n",
       "</style>\n",
       "<table border=\"1\" class=\"dataframe\">\n",
       "  <thead>\n",
       "    <tr style=\"text-align: right;\">\n",
       "      <th></th>\n",
       "      <th>Texto</th>\n",
       "      <th>Ementa</th>\n",
       "      <th>Vereador</th>\n",
       "      <th>Data</th>\n",
       "      <th>Nota</th>\n",
       "      <th>isUtil</th>\n",
       "      <th>Label</th>\n",
       "    </tr>\n",
       "  </thead>\n",
       "  <tbody>\n",
       "    <tr>\n",
       "      <th>0</th>\n",
       "      <td>Art. I  Fica denominado Praça Sandra Hitomi Ta...</td>\n",
       "      <td>DENOMINA PRAÇA SANDRA HITOMI TAKAHASHI UM SIST...</td>\n",
       "      <td>Carmo Luiz</td>\n",
       "      <td>2019</td>\n",
       "      <td>9</td>\n",
       "      <td>não</td>\n",
       "      <td>0</td>\n",
       "    </tr>\n",
       "    <tr>\n",
       "      <th>1</th>\n",
       "      <td>Art. lº  Ficam proibidos a comercialização e o...</td>\n",
       "      <td>PROÍBE O COMÉRCIO E O USO DOS PRODUTOS QUE ESP...</td>\n",
       "      <td>Luiz Rossini</td>\n",
       "      <td>2019</td>\n",
       "      <td>13</td>\n",
       "      <td>não</td>\n",
       "      <td>0</td>\n",
       "    </tr>\n",
       "    <tr>\n",
       "      <th>2</th>\n",
       "      <td>Art. 1 0 Poder Executivo municipal deverá disp...</td>\n",
       "      <td>DISPÕE SOBRE O ACESSO ÀS INFORMAÇÕES A RESPEIT...</td>\n",
       "      <td>Luiz Cirilo</td>\n",
       "      <td>2019</td>\n",
       "      <td>1</td>\n",
       "      <td>sim</td>\n",
       "      <td>1</td>\n",
       "    </tr>\n",
       "    <tr>\n",
       "      <th>3</th>\n",
       "      <td>Art. 1 Fica denominada Praça Iracema Costa a P...</td>\n",
       "      <td>DENOMINA PRAÇA IRACEMA COSTA UMA PRAÇA PÚBLICA...</td>\n",
       "      <td>Carlão do PT</td>\n",
       "      <td>2019</td>\n",
       "      <td>9</td>\n",
       "      <td>não</td>\n",
       "      <td>0</td>\n",
       "    </tr>\n",
       "    <tr>\n",
       "      <th>4</th>\n",
       "      <td>Art. 1 Ficam alterados os SS I P e 3 2 do art....</td>\n",
       "      <td>ALTERA A REDAÇÃO DOS §§ 1º E 3º DO ART. 2º DA ...</td>\n",
       "      <td>Paulo Galterio</td>\n",
       "      <td>2019</td>\n",
       "      <td>7</td>\n",
       "      <td>não</td>\n",
       "      <td>0</td>\n",
       "    </tr>\n",
       "  </tbody>\n",
       "</table>\n",
       "</div>"
      ],
      "text/plain": [
       "                                               Texto   \n",
       "0  Art. I  Fica denominado Praça Sandra Hitomi Ta...  \\\n",
       "1  Art. lº  Ficam proibidos a comercialização e o...   \n",
       "2  Art. 1 0 Poder Executivo municipal deverá disp...   \n",
       "3  Art. 1 Fica denominada Praça Iracema Costa a P...   \n",
       "4  Art. 1 Ficam alterados os SS I P e 3 2 do art....   \n",
       "\n",
       "                                              Ementa        Vereador  Data   \n",
       "0  DENOMINA PRAÇA SANDRA HITOMI TAKAHASHI UM SIST...      Carmo Luiz  2019  \\\n",
       "1  PROÍBE O COMÉRCIO E O USO DOS PRODUTOS QUE ESP...    Luiz Rossini  2019   \n",
       "2  DISPÕE SOBRE O ACESSO ÀS INFORMAÇÕES A RESPEIT...     Luiz Cirilo  2019   \n",
       "3  DENOMINA PRAÇA IRACEMA COSTA UMA PRAÇA PÚBLICA...    Carlão do PT  2019   \n",
       "4  ALTERA A REDAÇÃO DOS §§ 1º E 3º DO ART. 2º DA ...  Paulo Galterio  2019   \n",
       "\n",
       "   Nota isUtil  Label  \n",
       "0     9    não      0  \n",
       "1    13    não      0  \n",
       "2     1    sim      1  \n",
       "3     9    não      0  \n",
       "4     7    não      0  "
      ]
     },
     "execution_count": 17,
     "metadata": {},
     "output_type": "execute_result"
    }
   ],
   "source": [
    "df.head()"
   ]
  },
  {
   "cell_type": "code",
   "execution_count": 18,
   "id": "934894a3-d78f-420d-951b-e131dd70ce7f",
   "metadata": {},
   "outputs": [
    {
     "name": "stdout",
     "output_type": "stream",
     "text": [
      "<class 'pandas.core.frame.DataFrame'>\n",
      "Index: 99 entries, 0 to 98\n",
      "Data columns (total 7 columns):\n",
      " #   Column    Non-Null Count  Dtype \n",
      "---  ------    --------------  ----- \n",
      " 0   Texto     99 non-null     object\n",
      " 1   Ementa    99 non-null     object\n",
      " 2   Vereador  99 non-null     object\n",
      " 3   Data      99 non-null     int64 \n",
      " 4   Nota      99 non-null     int64 \n",
      " 5   isUtil    99 non-null     object\n",
      " 6   Label     99 non-null     int32 \n",
      "dtypes: int32(1), int64(2), object(4)\n",
      "memory usage: 5.8+ KB\n"
     ]
    }
   ],
   "source": [
    "df.info()"
   ]
  },
  {
   "cell_type": "markdown",
   "id": "cb2fe3f8-0b88-43de-940a-c9f319fab834",
   "metadata": {},
   "source": [
    "### 2. Pré-Processamento de texto: "
   ]
  },
  {
   "cell_type": "markdown",
   "id": "b8641e8d-ea83-4ca6-9845-7f78e651efc6",
   "metadata": {},
   "source": [
    "##### Remoção inicial de algumas das palavras irrelevantes, lemmatizaton, nos dados de texto, utilizando a bilioteca SpaCy"
   ]
  },
  {
   "cell_type": "code",
   "execution_count": 19,
   "id": "8ca554f6-068f-47a5-8705-285098e7cd1a",
   "metadata": {
    "tags": []
   },
   "outputs": [],
   "source": [
    "#!pip install spacy\n",
    "# PLOs são em português \n",
    "#!python -m spacy download pt  # Portuguese"
   ]
  },
  {
   "cell_type": "code",
   "execution_count": 20,
   "id": "1815769e-b6e5-440b-b8b4-d24c54a3d402",
   "metadata": {},
   "outputs": [],
   "source": [
    "import spacy\n",
    "from spacy.lang.pt.stop_words import STOP_WORDS\n",
    "from spacy.lang.pt import Portuguese\n",
    "nlp = Portuguese()"
   ]
  },
  {
   "cell_type": "code",
   "execution_count": 21,
   "id": "ab15c7d6-b7ab-47ca-8ea0-671db40fffe1",
   "metadata": {},
   "outputs": [],
   "source": [
    "nlp_spacy = spacy.load(\"pt_core_news_sm\")   # Portuguese small vocabulary"
   ]
  },
  {
   "cell_type": "code",
   "execution_count": 22,
   "id": "af125997-e2ef-4d1b-b97d-431c06dd37b6",
   "metadata": {},
   "outputs": [],
   "source": [
    "def remove_stopwords(doc: spacy.tokens.doc.Doc) -> list:\n",
    "    tokens_without_stopwords = [token.text for token in doc if not token.is_stop]\n",
    "    text_without_stopwords = ' '.join(tokens_without_stopwords)\n",
    "    return text_without_stopwords"
   ]
  },
  {
   "cell_type": "code",
   "execution_count": 23,
   "id": "c548983b-4a58-4d7d-8ce6-f91b1f23dcf0",
   "metadata": {
    "tags": []
   },
   "outputs": [],
   "source": [
    "import re\n",
    "def process_text(texts):\n",
    "    final_text_list=[]\n",
    "    for sent in texts:\n",
    "        sent = sent.lower() # Lowercase \n",
    "        sent = sent.strip() # Remove leading/trailing whitespace\n",
    "        sent = re.sub('\\s+', ' ', sent) # Remove extra space and tabs\n",
    "        sent = re.sub('[^\\w\\s]', '', sent)  # Remove punctuations\n",
    "        sent = re.compile('<.*?>').sub('', sent) # Remove HTML tags/markups:\n",
    "        filtered_sentence=[]\n",
    "        sent1 = nlp(sent)\n",
    "        sent2 = remove_stopwords(sent1)\n",
    "        filtered_sentence.append(sent2)\n",
    "        final_string = \" \".join(filtered_sentence) # Final string of cleaned words\n",
    "        final_text_list.append(final_string)\n",
    "    return final_text_list"
   ]
  },
  {
   "cell_type": "code",
   "execution_count": 24,
   "id": "62904090-8e0e-4064-83c8-0aa01e32fab8",
   "metadata": {
    "scrolled": true
   },
   "outputs": [
    {
     "data": {
      "text/html": [
       "<div>\n",
       "<style scoped>\n",
       "    .dataframe tbody tr th:only-of-type {\n",
       "        vertical-align: middle;\n",
       "    }\n",
       "\n",
       "    .dataframe tbody tr th {\n",
       "        vertical-align: top;\n",
       "    }\n",
       "\n",
       "    .dataframe thead th {\n",
       "        text-align: right;\n",
       "    }\n",
       "</style>\n",
       "<table border=\"1\" class=\"dataframe\">\n",
       "  <thead>\n",
       "    <tr style=\"text-align: right;\">\n",
       "      <th></th>\n",
       "      <th>Texto</th>\n",
       "      <th>Ementa</th>\n",
       "      <th>Vereador</th>\n",
       "      <th>Data</th>\n",
       "      <th>Nota</th>\n",
       "      <th>isUtil</th>\n",
       "      <th>Label</th>\n",
       "    </tr>\n",
       "  </thead>\n",
       "  <tbody>\n",
       "    <tr>\n",
       "      <th>0</th>\n",
       "      <td>Art. I  Fica denominado Praça Sandra Hitomi Ta...</td>\n",
       "      <td>DENOMINA PRAÇA SANDRA HITOMI TAKAHASHI UM SIST...</td>\n",
       "      <td>Carmo Luiz</td>\n",
       "      <td>2019</td>\n",
       "      <td>9</td>\n",
       "      <td>não</td>\n",
       "      <td>0</td>\n",
       "    </tr>\n",
       "    <tr>\n",
       "      <th>1</th>\n",
       "      <td>Art. lº  Ficam proibidos a comercialização e o...</td>\n",
       "      <td>PROÍBE O COMÉRCIO E O USO DOS PRODUTOS QUE ESP...</td>\n",
       "      <td>Luiz Rossini</td>\n",
       "      <td>2019</td>\n",
       "      <td>13</td>\n",
       "      <td>não</td>\n",
       "      <td>0</td>\n",
       "    </tr>\n",
       "    <tr>\n",
       "      <th>2</th>\n",
       "      <td>Art. 1 0 Poder Executivo municipal deverá disp...</td>\n",
       "      <td>DISPÕE SOBRE O ACESSO ÀS INFORMAÇÕES A RESPEIT...</td>\n",
       "      <td>Luiz Cirilo</td>\n",
       "      <td>2019</td>\n",
       "      <td>1</td>\n",
       "      <td>sim</td>\n",
       "      <td>1</td>\n",
       "    </tr>\n",
       "    <tr>\n",
       "      <th>3</th>\n",
       "      <td>Art. 1 Fica denominada Praça Iracema Costa a P...</td>\n",
       "      <td>DENOMINA PRAÇA IRACEMA COSTA UMA PRAÇA PÚBLICA...</td>\n",
       "      <td>Carlão do PT</td>\n",
       "      <td>2019</td>\n",
       "      <td>9</td>\n",
       "      <td>não</td>\n",
       "      <td>0</td>\n",
       "    </tr>\n",
       "    <tr>\n",
       "      <th>4</th>\n",
       "      <td>Art. 1 Ficam alterados os SS I P e 3 2 do art....</td>\n",
       "      <td>ALTERA A REDAÇÃO DOS §§ 1º E 3º DO ART. 2º DA ...</td>\n",
       "      <td>Paulo Galterio</td>\n",
       "      <td>2019</td>\n",
       "      <td>7</td>\n",
       "      <td>não</td>\n",
       "      <td>0</td>\n",
       "    </tr>\n",
       "    <tr>\n",
       "      <th>...</th>\n",
       "      <td>...</td>\n",
       "      <td>...</td>\n",
       "      <td>...</td>\n",
       "      <td>...</td>\n",
       "      <td>...</td>\n",
       "      <td>...</td>\n",
       "      <td>...</td>\n",
       "    </tr>\n",
       "    <tr>\n",
       "      <th>94</th>\n",
       "      <td>Art. 1º Revoga-se a Lei nº 12.551, de 10 de ma...</td>\n",
       "      <td>REVOGA A LEI Nº 12.551, DE 10 DE MAIO DE 2006,...</td>\n",
       "      <td>Permínio Monteiro</td>\n",
       "      <td>2019</td>\n",
       "      <td>9</td>\n",
       "      <td>não</td>\n",
       "      <td>0</td>\n",
       "    </tr>\n",
       "    <tr>\n",
       "      <th>95</th>\n",
       "      <td>A PARTIR DESTA DATA E CONFORME MANIFESTAÇÃO DA...</td>\n",
       "      <td>ESTABELECE A POSSIBILIDADE DE CORTE E/OU PODA ...</td>\n",
       "      <td>Nelson Hossri</td>\n",
       "      <td>2019</td>\n",
       "      <td>3</td>\n",
       "      <td>sim</td>\n",
       "      <td>1</td>\n",
       "    </tr>\n",
       "    <tr>\n",
       "      <th>96</th>\n",
       "      <td>Art. 1º Fica vedada a aquisição de copos e rec...</td>\n",
       "      <td>DISPÕE SOBRE A VEDAÇÃO DA AQUISIÇÃO DE COPOS E...</td>\n",
       "      <td>Paulo Haddad</td>\n",
       "      <td>2019</td>\n",
       "      <td>14</td>\n",
       "      <td>não</td>\n",
       "      <td>0</td>\n",
       "    </tr>\n",
       "    <tr>\n",
       "      <th>97</th>\n",
       "      <td>Art. 1º Fica denominado Praça Cyro Baldin o Si...</td>\n",
       "      <td>DENOMINA PRAÇA CYRO BALDIN UM SISTEMA DE RECRE...</td>\n",
       "      <td>Carmo Luiz</td>\n",
       "      <td>2019</td>\n",
       "      <td>9</td>\n",
       "      <td>não</td>\n",
       "      <td>0</td>\n",
       "    </tr>\n",
       "    <tr>\n",
       "      <th>98</th>\n",
       "      <td>Art. 1º Fica declarada órgão de utilidade públ...</td>\n",
       "      <td>DECLARA ÓRGÃO DE UTILIDADE PÚBLICA MUNICIPAL A...</td>\n",
       "      <td>Pr. Elias Azevedo</td>\n",
       "      <td>2019</td>\n",
       "      <td>7</td>\n",
       "      <td>não</td>\n",
       "      <td>0</td>\n",
       "    </tr>\n",
       "  </tbody>\n",
       "</table>\n",
       "<p>99 rows × 7 columns</p>\n",
       "</div>"
      ],
      "text/plain": [
       "                                                Texto   \n",
       "0   Art. I  Fica denominado Praça Sandra Hitomi Ta...  \\\n",
       "1   Art. lº  Ficam proibidos a comercialização e o...   \n",
       "2   Art. 1 0 Poder Executivo municipal deverá disp...   \n",
       "3   Art. 1 Fica denominada Praça Iracema Costa a P...   \n",
       "4   Art. 1 Ficam alterados os SS I P e 3 2 do art....   \n",
       "..                                                ...   \n",
       "94  Art. 1º Revoga-se a Lei nº 12.551, de 10 de ma...   \n",
       "95  A PARTIR DESTA DATA E CONFORME MANIFESTAÇÃO DA...   \n",
       "96  Art. 1º Fica vedada a aquisição de copos e rec...   \n",
       "97  Art. 1º Fica denominado Praça Cyro Baldin o Si...   \n",
       "98  Art. 1º Fica declarada órgão de utilidade públ...   \n",
       "\n",
       "                                               Ementa           Vereador   \n",
       "0   DENOMINA PRAÇA SANDRA HITOMI TAKAHASHI UM SIST...         Carmo Luiz  \\\n",
       "1   PROÍBE O COMÉRCIO E O USO DOS PRODUTOS QUE ESP...       Luiz Rossini   \n",
       "2   DISPÕE SOBRE O ACESSO ÀS INFORMAÇÕES A RESPEIT...        Luiz Cirilo   \n",
       "3   DENOMINA PRAÇA IRACEMA COSTA UMA PRAÇA PÚBLICA...       Carlão do PT   \n",
       "4   ALTERA A REDAÇÃO DOS §§ 1º E 3º DO ART. 2º DA ...     Paulo Galterio   \n",
       "..                                                ...                ...   \n",
       "94  REVOGA A LEI Nº 12.551, DE 10 DE MAIO DE 2006,...  Permínio Monteiro   \n",
       "95  ESTABELECE A POSSIBILIDADE DE CORTE E/OU PODA ...      Nelson Hossri   \n",
       "96  DISPÕE SOBRE A VEDAÇÃO DA AQUISIÇÃO DE COPOS E...       Paulo Haddad   \n",
       "97  DENOMINA PRAÇA CYRO BALDIN UM SISTEMA DE RECRE...         Carmo Luiz   \n",
       "98  DECLARA ÓRGÃO DE UTILIDADE PÚBLICA MUNICIPAL A...  Pr. Elias Azevedo   \n",
       "\n",
       "    Data  Nota isUtil  Label  \n",
       "0   2019     9    não      0  \n",
       "1   2019    13    não      0  \n",
       "2   2019     1    sim      1  \n",
       "3   2019     9    não      0  \n",
       "4   2019     7    não      0  \n",
       "..   ...   ...    ...    ...  \n",
       "94  2019     9    não      0  \n",
       "95  2019     3    sim      1  \n",
       "96  2019    14    não      0  \n",
       "97  2019     9    não      0  \n",
       "98  2019     7    não      0  \n",
       "\n",
       "[99 rows x 7 columns]"
      ]
     },
     "execution_count": 24,
     "metadata": {},
     "output_type": "execute_result"
    }
   ],
   "source": [
    "df"
   ]
  },
  {
   "cell_type": "code",
   "execution_count": 25,
   "id": "11709a2e-a6d2-49d9-b8b7-53ad4463c054",
   "metadata": {
    "tags": []
   },
   "outputs": [
    {
     "name": "stdout",
     "output_type": "stream",
     "text": [
      "Processand a coluna Texto\n"
     ]
    }
   ],
   "source": [
    "print('Processand a coluna Texto')\n",
    "df['Texto'] = process_text(df['Texto'].tolist())"
   ]
  },
  {
   "cell_type": "code",
   "execution_count": 26,
   "id": "c9fa340f-b997-4ea8-9e0b-1af9d82e8942",
   "metadata": {},
   "outputs": [
    {
     "name": "stdout",
     "output_type": "stream",
     "text": [
      "Processando a coluna Ementa\n"
     ]
    }
   ],
   "source": [
    "print('Processando a coluna Ementa')\n",
    "df['Ementa'] = process_text(df['Ementa'].tolist())"
   ]
  },
  {
   "cell_type": "code",
   "execution_count": 27,
   "id": "bf9328d7-3a35-434d-8531-f519f81131e4",
   "metadata": {
    "scrolled": true
   },
   "outputs": [
    {
     "data": {
      "text/html": [
       "<div>\n",
       "<style scoped>\n",
       "    .dataframe tbody tr th:only-of-type {\n",
       "        vertical-align: middle;\n",
       "    }\n",
       "\n",
       "    .dataframe tbody tr th {\n",
       "        vertical-align: top;\n",
       "    }\n",
       "\n",
       "    .dataframe thead th {\n",
       "        text-align: right;\n",
       "    }\n",
       "</style>\n",
       "<table border=\"1\" class=\"dataframe\">\n",
       "  <thead>\n",
       "    <tr style=\"text-align: right;\">\n",
       "      <th></th>\n",
       "      <th>Texto</th>\n",
       "      <th>Ementa</th>\n",
       "      <th>Vereador</th>\n",
       "      <th>Data</th>\n",
       "      <th>Nota</th>\n",
       "      <th>isUtil</th>\n",
       "      <th>Label</th>\n",
       "    </tr>\n",
       "  </thead>\n",
       "  <tbody>\n",
       "    <tr>\n",
       "      <th>0</th>\n",
       "      <td>art i fica denominado praça sandra hitomi taka...</td>\n",
       "      <td>denomina praça sandra hitomi takahashi recreio...</td>\n",
       "      <td>Carmo Luiz</td>\n",
       "      <td>2019</td>\n",
       "      <td>9</td>\n",
       "      <td>não</td>\n",
       "      <td>0</td>\n",
       "    </tr>\n",
       "    <tr>\n",
       "      <th>1</th>\n",
       "      <td>art lº ficam proibidos comercialização uso esp...</td>\n",
       "      <td>proíbe comércio uso produtos especifica acondi...</td>\n",
       "      <td>Luiz Rossini</td>\n",
       "      <td>2019</td>\n",
       "      <td>13</td>\n",
       "      <td>não</td>\n",
       "      <td>0</td>\n",
       "    </tr>\n",
       "    <tr>\n",
       "      <th>2</th>\n",
       "      <td>art 1 0 executivo municipal disponibilizar sit...</td>\n",
       "      <td>dispõe acesso informações respeito obras públi...</td>\n",
       "      <td>Luiz Cirilo</td>\n",
       "      <td>2019</td>\n",
       "      <td>1</td>\n",
       "      <td>sim</td>\n",
       "      <td>1</td>\n",
       "    </tr>\n",
       "    <tr>\n",
       "      <th>3</th>\n",
       "      <td>art 1 fica denominada praça iracema costa praç...</td>\n",
       "      <td>denomina praça iracema costa praça pública mun...</td>\n",
       "      <td>Carlão do PT</td>\n",
       "      <td>2019</td>\n",
       "      <td>9</td>\n",
       "      <td>não</td>\n",
       "      <td>0</td>\n",
       "    </tr>\n",
       "    <tr>\n",
       "      <th>4</th>\n",
       "      <td>art 1 ficam alterados ss i p 3 2 art 2 2 lei n...</td>\n",
       "      <td>altera redação   1º 3º art 2º lei nº 14789 4 a...</td>\n",
       "      <td>Paulo Galterio</td>\n",
       "      <td>2019</td>\n",
       "      <td>7</td>\n",
       "      <td>não</td>\n",
       "      <td>0</td>\n",
       "    </tr>\n",
       "    <tr>\n",
       "      <th>...</th>\n",
       "      <td>...</td>\n",
       "      <td>...</td>\n",
       "      <td>...</td>\n",
       "      <td>...</td>\n",
       "      <td>...</td>\n",
       "      <td>...</td>\n",
       "      <td>...</td>\n",
       "    </tr>\n",
       "    <tr>\n",
       "      <th>94</th>\n",
       "      <td>art 1º revogase lei nº 12551 10 maio 2006 deno...</td>\n",
       "      <td>revoga lei nº 12551 10 maio 2006 denomina praç...</td>\n",
       "      <td>Permínio Monteiro</td>\n",
       "      <td>2019</td>\n",
       "      <td>9</td>\n",
       "      <td>não</td>\n",
       "      <td>0</td>\n",
       "    </tr>\n",
       "    <tr>\n",
       "      <th>95</th>\n",
       "      <td>data conforme manifestação procuradoria legisl...</td>\n",
       "      <td>estabelece possibilidade corte eou poda árvore...</td>\n",
       "      <td>Nelson Hossri</td>\n",
       "      <td>2019</td>\n",
       "      <td>3</td>\n",
       "      <td>sim</td>\n",
       "      <td>1</td>\n",
       "    </tr>\n",
       "    <tr>\n",
       "      <th>96</th>\n",
       "      <td>art 1º fica vedada aquisição copos recipientes...</td>\n",
       "      <td>dispõe vedação aquisição copos recipientes des...</td>\n",
       "      <td>Paulo Haddad</td>\n",
       "      <td>2019</td>\n",
       "      <td>14</td>\n",
       "      <td>não</td>\n",
       "      <td>0</td>\n",
       "    </tr>\n",
       "    <tr>\n",
       "      <th>97</th>\n",
       "      <td>art 1º fica denominado praça cyro baldin recre...</td>\n",
       "      <td>denomina praça cyro baldin recreio município c...</td>\n",
       "      <td>Carmo Luiz</td>\n",
       "      <td>2019</td>\n",
       "      <td>9</td>\n",
       "      <td>não</td>\n",
       "      <td>0</td>\n",
       "    </tr>\n",
       "    <tr>\n",
       "      <th>98</th>\n",
       "      <td>art 1º fica declarada órgão utilidade pública ...</td>\n",
       "      <td>declara órgão utilidade pública municipal asso...</td>\n",
       "      <td>Pr. Elias Azevedo</td>\n",
       "      <td>2019</td>\n",
       "      <td>7</td>\n",
       "      <td>não</td>\n",
       "      <td>0</td>\n",
       "    </tr>\n",
       "  </tbody>\n",
       "</table>\n",
       "<p>99 rows × 7 columns</p>\n",
       "</div>"
      ],
      "text/plain": [
       "                                                Texto   \n",
       "0   art i fica denominado praça sandra hitomi taka...  \\\n",
       "1   art lº ficam proibidos comercialização uso esp...   \n",
       "2   art 1 0 executivo municipal disponibilizar sit...   \n",
       "3   art 1 fica denominada praça iracema costa praç...   \n",
       "4   art 1 ficam alterados ss i p 3 2 art 2 2 lei n...   \n",
       "..                                                ...   \n",
       "94  art 1º revogase lei nº 12551 10 maio 2006 deno...   \n",
       "95  data conforme manifestação procuradoria legisl...   \n",
       "96  art 1º fica vedada aquisição copos recipientes...   \n",
       "97  art 1º fica denominado praça cyro baldin recre...   \n",
       "98  art 1º fica declarada órgão utilidade pública ...   \n",
       "\n",
       "                                               Ementa           Vereador   \n",
       "0   denomina praça sandra hitomi takahashi recreio...         Carmo Luiz  \\\n",
       "1   proíbe comércio uso produtos especifica acondi...       Luiz Rossini   \n",
       "2   dispõe acesso informações respeito obras públi...        Luiz Cirilo   \n",
       "3   denomina praça iracema costa praça pública mun...       Carlão do PT   \n",
       "4   altera redação   1º 3º art 2º lei nº 14789 4 a...     Paulo Galterio   \n",
       "..                                                ...                ...   \n",
       "94  revoga lei nº 12551 10 maio 2006 denomina praç...  Permínio Monteiro   \n",
       "95  estabelece possibilidade corte eou poda árvore...      Nelson Hossri   \n",
       "96  dispõe vedação aquisição copos recipientes des...       Paulo Haddad   \n",
       "97  denomina praça cyro baldin recreio município c...         Carmo Luiz   \n",
       "98  declara órgão utilidade pública municipal asso...  Pr. Elias Azevedo   \n",
       "\n",
       "    Data  Nota isUtil  Label  \n",
       "0   2019     9    não      0  \n",
       "1   2019    13    não      0  \n",
       "2   2019     1    sim      1  \n",
       "3   2019     9    não      0  \n",
       "4   2019     7    não      0  \n",
       "..   ...   ...    ...    ...  \n",
       "94  2019     9    não      0  \n",
       "95  2019     3    sim      1  \n",
       "96  2019    14    não      0  \n",
       "97  2019     9    não      0  \n",
       "98  2019     7    não      0  \n",
       "\n",
       "[99 rows x 7 columns]"
      ]
     },
     "execution_count": 27,
     "metadata": {},
     "output_type": "execute_result"
    }
   ],
   "source": [
    "df"
   ]
  },
  {
   "cell_type": "markdown",
   "id": "7e633bff-5f03-4fce-a11d-1813263331fd",
   "metadata": {},
   "source": [
    "##### Divisão dos dados para treinamento e teste"
   ]
  },
  {
   "cell_type": "code",
   "execution_count": 28,
   "id": "dda323f2-935f-448b-911a-f7cb9885320a",
   "metadata": {},
   "outputs": [],
   "source": [
    "from sklearn.model_selection import train_test_split\n",
    "\n",
    "df_train, df_test = train_test_split(df, test_size=0.2, stratify=df['Label'], random_state=42)"
   ]
  },
  {
   "cell_type": "code",
   "execution_count": 29,
   "id": "35aa1c17-0660-42af-b600-57ad70dc5d99",
   "metadata": {},
   "outputs": [
    {
     "name": "stdout",
     "output_type": "stream",
     "text": [
      "===> TRAIN\n",
      "Label\n",
      "0    0.822785\n",
      "1    0.177215\n",
      "Name: count, dtype: float64\n",
      "\n",
      "===> TEST\n",
      "Label\n",
      "0    0.85\n",
      "1    0.15\n",
      "Name: count, dtype: float64\n"
     ]
    }
   ],
   "source": [
    "print(f\"===> TRAIN\\n{df_train['Label'].value_counts() / df_train.shape[0]}\\n\")\n",
    "print(f\"===> TEST\\n{df_test['Label'].value_counts() / df_test.shape[0]}\")"
   ]
  },
  {
   "cell_type": "code",
   "execution_count": 30,
   "id": "17243866-9758-4915-b999-61de695d2cb9",
   "metadata": {},
   "outputs": [],
   "source": [
    "# save the datasets\n",
    "df_train.to_csv('test_dataset_train_3.csv', sep=';', index = False)\n",
    "df_test.to_csv('test_dataset_test_3.csv', sep=';', index = False)"
   ]
  },
  {
   "cell_type": "code",
   "execution_count": 31,
   "id": "d6b22402-4f92-400c-a839-44c69468e48f",
   "metadata": {
    "scrolled": true
   },
   "outputs": [
    {
     "data": {
      "text/html": [
       "<div>\n",
       "<style scoped>\n",
       "    .dataframe tbody tr th:only-of-type {\n",
       "        vertical-align: middle;\n",
       "    }\n",
       "\n",
       "    .dataframe tbody tr th {\n",
       "        vertical-align: top;\n",
       "    }\n",
       "\n",
       "    .dataframe thead th {\n",
       "        text-align: right;\n",
       "    }\n",
       "</style>\n",
       "<table border=\"1\" class=\"dataframe\">\n",
       "  <thead>\n",
       "    <tr style=\"text-align: right;\">\n",
       "      <th></th>\n",
       "      <th>Texto</th>\n",
       "      <th>Ementa</th>\n",
       "      <th>Vereador</th>\n",
       "      <th>Data</th>\n",
       "      <th>Nota</th>\n",
       "      <th>isUtil</th>\n",
       "      <th>Label</th>\n",
       "    </tr>\n",
       "  </thead>\n",
       "  <tbody>\n",
       "    <tr>\n",
       "      <th>59</th>\n",
       "      <td>art 10   fica proibido venda comercialização b...</td>\n",
       "      <td>proíbe venda brinquedos constituem réplicas si...</td>\n",
       "      <td>Carmo Luiz</td>\n",
       "      <td>2019</td>\n",
       "      <td>13</td>\n",
       "      <td>não</td>\n",
       "      <td>0</td>\n",
       "    </tr>\n",
       "    <tr>\n",
       "      <th>30</th>\n",
       "      <td>art i fica assegurada criança adolescente pai ...</td>\n",
       "      <td>assegura criança adolescente pai mãe responsáv...</td>\n",
       "      <td>Carmo Luiz</td>\n",
       "      <td>2019</td>\n",
       "      <td>7</td>\n",
       "      <td>não</td>\n",
       "      <td>0</td>\n",
       "    </tr>\n",
       "    <tr>\n",
       "      <th>62</th>\n",
       "      <td>art 1º fica ins tuído programa municipal popul...</td>\n",
       "      <td>institui programa municipal população imigrant...</td>\n",
       "      <td>Carlão do PT</td>\n",
       "      <td>2019</td>\n",
       "      <td>12</td>\n",
       "      <td>não</td>\n",
       "      <td>0</td>\n",
       "    </tr>\n",
       "    <tr>\n",
       "      <th>67</th>\n",
       "      <td>art 10 ficam obrigadas escolas rede privada mu...</td>\n",
       "      <td>dispõe obrigatoriedade escolas rede privada mu...</td>\n",
       "      <td>Gustao Petta</td>\n",
       "      <td>2019</td>\n",
       "      <td>12</td>\n",
       "      <td>não</td>\n",
       "      <td>0</td>\n",
       "    </tr>\n",
       "    <tr>\n",
       "      <th>97</th>\n",
       "      <td>art 1º fica denominado praça cyro baldin recre...</td>\n",
       "      <td>denomina praça cyro baldin recreio município c...</td>\n",
       "      <td>Carmo Luiz</td>\n",
       "      <td>2019</td>\n",
       "      <td>9</td>\n",
       "      <td>não</td>\n",
       "      <td>0</td>\n",
       "    </tr>\n",
       "    <tr>\n",
       "      <th>...</th>\n",
       "      <td>...</td>\n",
       "      <td>...</td>\n",
       "      <td>...</td>\n",
       "      <td>...</td>\n",
       "      <td>...</td>\n",
       "      <td>...</td>\n",
       "      <td>...</td>\n",
       "    </tr>\n",
       "    <tr>\n",
       "      <th>14</th>\n",
       "      <td>projeto lei ordinária passou tramitar projeto ...</td>\n",
       "      <td>institui programa árvores qualidade vida munic...</td>\n",
       "      <td>Luiz Rossini</td>\n",
       "      <td>2019</td>\n",
       "      <td>12</td>\n",
       "      <td>não</td>\n",
       "      <td>0</td>\n",
       "    </tr>\n",
       "    <tr>\n",
       "      <th>69</th>\n",
       "      <td>data conforme manifestação procuradoria legisl...</td>\n",
       "      <td>acrescenta art 20a lei nº 9953 18 dezembro 199...</td>\n",
       "      <td>Marcelo Silva</td>\n",
       "      <td>2019</td>\n",
       "      <td>11</td>\n",
       "      <td>não</td>\n",
       "      <td>0</td>\n",
       "    </tr>\n",
       "    <tr>\n",
       "      <th>72</th>\n",
       "      <td>art 1º fica denominada praça etelvina ramos pr...</td>\n",
       "      <td>denomina praça etelvina ramos praça pública mu...</td>\n",
       "      <td>Luiz Rossini</td>\n",
       "      <td>2019</td>\n",
       "      <td>9</td>\n",
       "      <td>não</td>\n",
       "      <td>0</td>\n",
       "    </tr>\n",
       "    <tr>\n",
       "      <th>23</th>\n",
       "      <td>art 1 lei objetivo implantar postos coletas to...</td>\n",
       "      <td>dispõe obrigatoriedade implantação postos cole...</td>\n",
       "      <td>Cidão Santos</td>\n",
       "      <td>2019</td>\n",
       "      <td>6</td>\n",
       "      <td>não</td>\n",
       "      <td>0</td>\n",
       "    </tr>\n",
       "    <tr>\n",
       "      <th>10</th>\n",
       "      <td>câmara municipal aprovou prefeito municipal ca...</td>\n",
       "      <td>dispõe concessão desconto imposto propriedade ...</td>\n",
       "      <td>Rubens Gás</td>\n",
       "      <td>2019</td>\n",
       "      <td>7</td>\n",
       "      <td>não</td>\n",
       "      <td>0</td>\n",
       "    </tr>\n",
       "  </tbody>\n",
       "</table>\n",
       "<p>79 rows × 7 columns</p>\n",
       "</div>"
      ],
      "text/plain": [
       "                                                Texto   \n",
       "59  art 10   fica proibido venda comercialização b...  \\\n",
       "30  art i fica assegurada criança adolescente pai ...   \n",
       "62  art 1º fica ins tuído programa municipal popul...   \n",
       "67  art 10 ficam obrigadas escolas rede privada mu...   \n",
       "97  art 1º fica denominado praça cyro baldin recre...   \n",
       "..                                                ...   \n",
       "14  projeto lei ordinária passou tramitar projeto ...   \n",
       "69  data conforme manifestação procuradoria legisl...   \n",
       "72  art 1º fica denominada praça etelvina ramos pr...   \n",
       "23  art 1 lei objetivo implantar postos coletas to...   \n",
       "10  câmara municipal aprovou prefeito municipal ca...   \n",
       "\n",
       "                                               Ementa       Vereador  Data   \n",
       "59  proíbe venda brinquedos constituem réplicas si...     Carmo Luiz  2019  \\\n",
       "30  assegura criança adolescente pai mãe responsáv...     Carmo Luiz  2019   \n",
       "62  institui programa municipal população imigrant...   Carlão do PT  2019   \n",
       "67  dispõe obrigatoriedade escolas rede privada mu...   Gustao Petta  2019   \n",
       "97  denomina praça cyro baldin recreio município c...     Carmo Luiz  2019   \n",
       "..                                                ...            ...   ...   \n",
       "14  institui programa árvores qualidade vida munic...   Luiz Rossini  2019   \n",
       "69  acrescenta art 20a lei nº 9953 18 dezembro 199...  Marcelo Silva  2019   \n",
       "72  denomina praça etelvina ramos praça pública mu...   Luiz Rossini  2019   \n",
       "23  dispõe obrigatoriedade implantação postos cole...   Cidão Santos  2019   \n",
       "10  dispõe concessão desconto imposto propriedade ...     Rubens Gás  2019   \n",
       "\n",
       "    Nota isUtil  Label  \n",
       "59    13    não      0  \n",
       "30     7    não      0  \n",
       "62    12    não      0  \n",
       "67    12    não      0  \n",
       "97     9    não      0  \n",
       "..   ...    ...    ...  \n",
       "14    12    não      0  \n",
       "69    11    não      0  \n",
       "72     9    não      0  \n",
       "23     6    não      0  \n",
       "10     7    não      0  \n",
       "\n",
       "[79 rows x 7 columns]"
      ]
     },
     "execution_count": 31,
     "metadata": {},
     "output_type": "execute_result"
    }
   ],
   "source": [
    "df_train"
   ]
  },
  {
   "cell_type": "code",
   "execution_count": 32,
   "id": "51a06145-9a36-4603-9553-f9a7c787050f",
   "metadata": {
    "scrolled": true
   },
   "outputs": [
    {
     "data": {
      "text/html": [
       "<div>\n",
       "<style scoped>\n",
       "    .dataframe tbody tr th:only-of-type {\n",
       "        vertical-align: middle;\n",
       "    }\n",
       "\n",
       "    .dataframe tbody tr th {\n",
       "        vertical-align: top;\n",
       "    }\n",
       "\n",
       "    .dataframe thead th {\n",
       "        text-align: right;\n",
       "    }\n",
       "</style>\n",
       "<table border=\"1\" class=\"dataframe\">\n",
       "  <thead>\n",
       "    <tr style=\"text-align: right;\">\n",
       "      <th></th>\n",
       "      <th>Texto</th>\n",
       "      <th>Ementa</th>\n",
       "      <th>Vereador</th>\n",
       "      <th>Data</th>\n",
       "      <th>Nota</th>\n",
       "      <th>isUtil</th>\n",
       "      <th>Label</th>\n",
       "    </tr>\n",
       "  </thead>\n",
       "  <tbody>\n",
       "    <tr>\n",
       "      <th>25</th>\n",
       "      <td>art 1 fica declarada órgão utilidade pública m...</td>\n",
       "      <td>declara órgão utilidade pública municipal asso...</td>\n",
       "      <td>Mariana Conti</td>\n",
       "      <td>2019</td>\n",
       "      <td>7</td>\n",
       "      <td>não</td>\n",
       "      <td>0</td>\n",
       "    </tr>\n",
       "    <tr>\n",
       "      <th>19</th>\n",
       "      <td>art 1 fica denominada praça jacira guedes pint...</td>\n",
       "      <td>denomina praça jacira guedes pinto alberto pra...</td>\n",
       "      <td>Marcos Bernardelli</td>\n",
       "      <td>2019</td>\n",
       "      <td>9</td>\n",
       "      <td>não</td>\n",
       "      <td>0</td>\n",
       "    </tr>\n",
       "    <tr>\n",
       "      <th>92</th>\n",
       "      <td>art 1º fica alterado art 1º lei nº 14045 7 abr...</td>\n",
       "      <td>altera art 1º lei nº 14045 07 abril 2011 inclu...</td>\n",
       "      <td>Professor Alberto</td>\n",
       "      <td>2019</td>\n",
       "      <td>10</td>\n",
       "      <td>não</td>\n",
       "      <td>0</td>\n",
       "    </tr>\n",
       "    <tr>\n",
       "      <th>95</th>\n",
       "      <td>data conforme manifestação procuradoria legisl...</td>\n",
       "      <td>estabelece possibilidade corte eou poda árvore...</td>\n",
       "      <td>Nelson Hossri</td>\n",
       "      <td>2019</td>\n",
       "      <td>3</td>\n",
       "      <td>sim</td>\n",
       "      <td>1</td>\n",
       "    </tr>\n",
       "    <tr>\n",
       "      <th>1</th>\n",
       "      <td>art lº ficam proibidos comercialização uso esp...</td>\n",
       "      <td>proíbe comércio uso produtos especifica acondi...</td>\n",
       "      <td>Luiz Rossini</td>\n",
       "      <td>2019</td>\n",
       "      <td>13</td>\n",
       "      <td>não</td>\n",
       "      <td>0</td>\n",
       "    </tr>\n",
       "    <tr>\n",
       "      <th>26</th>\n",
       "      <td>art i encaminharem nome consumidor inadimplent...</td>\n",
       "      <td>dispõe obrigatoriedade empresas credoras notif...</td>\n",
       "      <td>Cidão Santos</td>\n",
       "      <td>2019</td>\n",
       "      <td>6</td>\n",
       "      <td>não</td>\n",
       "      <td>0</td>\n",
       "    </tr>\n",
       "    <tr>\n",
       "      <th>37</th>\n",
       "      <td>art 10 fica declarada órgão utilidade pública ...</td>\n",
       "      <td>declara órgão utilidade pública municipal asso...</td>\n",
       "      <td>Vinicius Gratti</td>\n",
       "      <td>2019</td>\n",
       "      <td>7</td>\n",
       "      <td>não</td>\n",
       "      <td>0</td>\n",
       "    </tr>\n",
       "    <tr>\n",
       "      <th>40</th>\n",
       "      <td>art 1 2 fica acrescido s 5 2 art 3 2 lei n 635...</td>\n",
       "      <td>acrescenta 5º art 3º suprime inciso iii art 5º...</td>\n",
       "      <td>Tenente Santini</td>\n",
       "      <td>2019</td>\n",
       "      <td>5</td>\n",
       "      <td>sim</td>\n",
       "      <td>1</td>\n",
       "    </tr>\n",
       "    <tr>\n",
       "      <th>86</th>\n",
       "      <td>art 1º estabelecimentos situados âmbito municí...</td>\n",
       "      <td>dispõe disponibilização espaços destinados col...</td>\n",
       "      <td>Permínio Monteiro</td>\n",
       "      <td>2019</td>\n",
       "      <td>14</td>\n",
       "      <td>não</td>\n",
       "      <td>0</td>\n",
       "    </tr>\n",
       "    <tr>\n",
       "      <th>79</th>\n",
       "      <td>art 1º fica denominada praça maria souza ruiz ...</td>\n",
       "      <td>denomina praça maria souza ruiz praça pública ...</td>\n",
       "      <td>Carlão do PT</td>\n",
       "      <td>2019</td>\n",
       "      <td>9</td>\n",
       "      <td>não</td>\n",
       "      <td>0</td>\n",
       "    </tr>\n",
       "    <tr>\n",
       "      <th>64</th>\n",
       "      <td>art 1 0 fica denominado praça marcelo xavier s...</td>\n",
       "      <td>denomina praça marcelo xavier souza lazer muni...</td>\n",
       "      <td>Fernando Mendes</td>\n",
       "      <td>2019</td>\n",
       "      <td>9</td>\n",
       "      <td>não</td>\n",
       "      <td>0</td>\n",
       "    </tr>\n",
       "    <tr>\n",
       "      <th>65</th>\n",
       "      <td>art i p ficam estabelecimentos ensino oficiais...</td>\n",
       "      <td>estabelece obrigatoriedade estabelecimentos en...</td>\n",
       "      <td>Nelson Hossri</td>\n",
       "      <td>2019</td>\n",
       "      <td>2</td>\n",
       "      <td>sim</td>\n",
       "      <td>1</td>\n",
       "    </tr>\n",
       "    <tr>\n",
       "      <th>46</th>\n",
       "      <td>projeto lei ordinária passou tramitar projeto ...</td>\n",
       "      <td>dispõe obrigatoriedade empresas transporte mun...</td>\n",
       "      <td>Carlão do PT</td>\n",
       "      <td>2019</td>\n",
       "      <td>11</td>\n",
       "      <td>não</td>\n",
       "      <td>0</td>\n",
       "    </tr>\n",
       "    <tr>\n",
       "      <th>28</th>\n",
       "      <td>art 1 fica denominado praça benedito carlos ma...</td>\n",
       "      <td>denomina praça benedito carlos martins lazer m...</td>\n",
       "      <td>Jorge Schneider</td>\n",
       "      <td>2019</td>\n",
       "      <td>9</td>\n",
       "      <td>não</td>\n",
       "      <td>0</td>\n",
       "    </tr>\n",
       "    <tr>\n",
       "      <th>73</th>\n",
       "      <td>art 1º fica instituída calendário oficial muni...</td>\n",
       "      <td>institui calendário oficial município campinas...</td>\n",
       "      <td>Vinicius Gratti</td>\n",
       "      <td>2019</td>\n",
       "      <td>10</td>\n",
       "      <td>não</td>\n",
       "      <td>0</td>\n",
       "    </tr>\n",
       "    <tr>\n",
       "      <th>74</th>\n",
       "      <td>art 1º sistemas ensino deverão implantar grada...</td>\n",
       "      <td>dispõe obrigatoriedade controle digital acesso...</td>\n",
       "      <td>Cidão Santos</td>\n",
       "      <td>2019</td>\n",
       "      <td>6</td>\n",
       "      <td>não</td>\n",
       "      <td>0</td>\n",
       "    </tr>\n",
       "    <tr>\n",
       "      <th>63</th>\n",
       "      <td>art 1º ficam asseguradas estudantes estabeleci...</td>\n",
       "      <td>dispõe criação organização atuação grêmios est...</td>\n",
       "      <td>Carlão do PT</td>\n",
       "      <td>2019</td>\n",
       "      <td>14</td>\n",
       "      <td>não</td>\n",
       "      <td>0</td>\n",
       "    </tr>\n",
       "    <tr>\n",
       "      <th>3</th>\n",
       "      <td>art 1 fica denominada praça iracema costa praç...</td>\n",
       "      <td>denomina praça iracema costa praça pública mun...</td>\n",
       "      <td>Carlão do PT</td>\n",
       "      <td>2019</td>\n",
       "      <td>9</td>\n",
       "      <td>não</td>\n",
       "      <td>0</td>\n",
       "    </tr>\n",
       "    <tr>\n",
       "      <th>87</th>\n",
       "      <td>art 1º fica proibido reeducandos prestem servi...</td>\n",
       "      <td>dispõe proibição reeducandos prestarem serviço...</td>\n",
       "      <td>Tenente Santini</td>\n",
       "      <td>2019</td>\n",
       "      <td>6</td>\n",
       "      <td>não</td>\n",
       "      <td>0</td>\n",
       "    </tr>\n",
       "    <tr>\n",
       "      <th>90</th>\n",
       "      <td>art 1º   estabelece empresa transporte coletiv...</td>\n",
       "      <td>dispõe revisão temporária transporte coletivo ...</td>\n",
       "      <td>Rubens Gás</td>\n",
       "      <td>2019</td>\n",
       "      <td>11</td>\n",
       "      <td>não</td>\n",
       "      <td>0</td>\n",
       "    </tr>\n",
       "  </tbody>\n",
       "</table>\n",
       "</div>"
      ],
      "text/plain": [
       "                                                Texto   \n",
       "25  art 1 fica declarada órgão utilidade pública m...  \\\n",
       "19  art 1 fica denominada praça jacira guedes pint...   \n",
       "92  art 1º fica alterado art 1º lei nº 14045 7 abr...   \n",
       "95  data conforme manifestação procuradoria legisl...   \n",
       "1   art lº ficam proibidos comercialização uso esp...   \n",
       "26  art i encaminharem nome consumidor inadimplent...   \n",
       "37  art 10 fica declarada órgão utilidade pública ...   \n",
       "40  art 1 2 fica acrescido s 5 2 art 3 2 lei n 635...   \n",
       "86  art 1º estabelecimentos situados âmbito municí...   \n",
       "79  art 1º fica denominada praça maria souza ruiz ...   \n",
       "64  art 1 0 fica denominado praça marcelo xavier s...   \n",
       "65  art i p ficam estabelecimentos ensino oficiais...   \n",
       "46  projeto lei ordinária passou tramitar projeto ...   \n",
       "28  art 1 fica denominado praça benedito carlos ma...   \n",
       "73  art 1º fica instituída calendário oficial muni...   \n",
       "74  art 1º sistemas ensino deverão implantar grada...   \n",
       "63  art 1º ficam asseguradas estudantes estabeleci...   \n",
       "3   art 1 fica denominada praça iracema costa praç...   \n",
       "87  art 1º fica proibido reeducandos prestem servi...   \n",
       "90  art 1º   estabelece empresa transporte coletiv...   \n",
       "\n",
       "                                               Ementa            Vereador   \n",
       "25  declara órgão utilidade pública municipal asso...       Mariana Conti  \\\n",
       "19  denomina praça jacira guedes pinto alberto pra...  Marcos Bernardelli   \n",
       "92  altera art 1º lei nº 14045 07 abril 2011 inclu...   Professor Alberto   \n",
       "95  estabelece possibilidade corte eou poda árvore...       Nelson Hossri   \n",
       "1   proíbe comércio uso produtos especifica acondi...        Luiz Rossini   \n",
       "26  dispõe obrigatoriedade empresas credoras notif...        Cidão Santos   \n",
       "37  declara órgão utilidade pública municipal asso...     Vinicius Gratti   \n",
       "40  acrescenta 5º art 3º suprime inciso iii art 5º...     Tenente Santini   \n",
       "86  dispõe disponibilização espaços destinados col...   Permínio Monteiro   \n",
       "79  denomina praça maria souza ruiz praça pública ...        Carlão do PT   \n",
       "64  denomina praça marcelo xavier souza lazer muni...     Fernando Mendes   \n",
       "65  estabelece obrigatoriedade estabelecimentos en...       Nelson Hossri   \n",
       "46  dispõe obrigatoriedade empresas transporte mun...        Carlão do PT   \n",
       "28  denomina praça benedito carlos martins lazer m...     Jorge Schneider   \n",
       "73  institui calendário oficial município campinas...     Vinicius Gratti   \n",
       "74  dispõe obrigatoriedade controle digital acesso...        Cidão Santos   \n",
       "63  dispõe criação organização atuação grêmios est...        Carlão do PT   \n",
       "3   denomina praça iracema costa praça pública mun...        Carlão do PT   \n",
       "87  dispõe proibição reeducandos prestarem serviço...     Tenente Santini   \n",
       "90  dispõe revisão temporária transporte coletivo ...          Rubens Gás   \n",
       "\n",
       "    Data  Nota isUtil  Label  \n",
       "25  2019     7    não      0  \n",
       "19  2019     9    não      0  \n",
       "92  2019    10    não      0  \n",
       "95  2019     3    sim      1  \n",
       "1   2019    13    não      0  \n",
       "26  2019     6    não      0  \n",
       "37  2019     7    não      0  \n",
       "40  2019     5    sim      1  \n",
       "86  2019    14    não      0  \n",
       "79  2019     9    não      0  \n",
       "64  2019     9    não      0  \n",
       "65  2019     2    sim      1  \n",
       "46  2019    11    não      0  \n",
       "28  2019     9    não      0  \n",
       "73  2019    10    não      0  \n",
       "74  2019     6    não      0  \n",
       "63  2019    14    não      0  \n",
       "3   2019     9    não      0  \n",
       "87  2019     6    não      0  \n",
       "90  2019    11    não      0  "
      ]
     },
     "execution_count": 32,
     "metadata": {},
     "output_type": "execute_result"
    }
   ],
   "source": [
    "df_test"
   ]
  },
  {
   "cell_type": "markdown",
   "id": "2c4890de-15de-4109-a70d-4abbdd2c07ee",
   "metadata": {},
   "source": [
    "##### Nova remoção na coluna 'Texto' usando biblioteca neattext\n",
    "- lowering, expand contractions\n",
    "- remove:\n",
    "  + punctuations, stop words, urls, emails, numbers, emojis, phone numbers, multiple whitespaces, currency symbols, special characters"
   ]
  },
  {
   "cell_type": "code",
   "execution_count": 33,
   "id": "e5893ed8-eff5-4dea-a7f9-39200998fc79",
   "metadata": {},
   "outputs": [],
   "source": [
    "import neattext.functions as ntx\n",
    "\n",
    "def text_preprocessing(text_in: str) -> str:\n",
    "    text = text_in.lower()\n",
    "    text = ntx.fix_contractions(text)\n",
    "    text = ntx.remove_punctuations(text)\n",
    "    text = ntx.remove_stopwords(text)\n",
    "    text = ntx.remove_urls(text)\n",
    "    text = ntx.remove_emails(text)\n",
    "    text = ntx.remove_numbers(text)\n",
    "    text = ntx.remove_emojis(text)\n",
    "    text = ntx.remove_phone_numbers(text)\n",
    "    text = ntx.remove_multiple_spaces(text)\n",
    "    text = ntx.remove_currency_symbols(text)\n",
    "    text = ntx.remove_special_characters(text)\n",
    "    return text"
   ]
  },
  {
   "cell_type": "code",
   "execution_count": 34,
   "id": "b31df326-dacc-4867-ba22-5783e30af2bd",
   "metadata": {},
   "outputs": [],
   "source": [
    "# progress bar in pandas\n",
    "#!pip install tqdm"
   ]
  },
  {
   "cell_type": "code",
   "execution_count": 35,
   "id": "1f003d03-8e70-4791-b67c-c049db369653",
   "metadata": {},
   "outputs": [],
   "source": [
    "from tqdm import tqdm\n",
    "tqdm.pandas()  # it enables some new progress bar functions/methods for pandas"
   ]
  },
  {
   "cell_type": "code",
   "execution_count": 36,
   "id": "1d2834ad-ab56-4e1d-a4de-cfe8201eea2c",
   "metadata": {},
   "outputs": [
    {
     "name": "stderr",
     "output_type": "stream",
     "text": [
      "100%|█████████████████████████████████████████████████████████████████████████████████| 79/79 [00:00<00:00, 346.70it/s]\n"
     ]
    }
   ],
   "source": [
    "# pre-process the training set\n",
    "df_train['Texto-pre'] = df_train['Texto'].progress_apply(lambda text: text_preprocessing(text))"
   ]
  },
  {
   "cell_type": "code",
   "execution_count": 37,
   "id": "530bc134-8ca7-4a06-b240-9603b8428f62",
   "metadata": {
    "scrolled": true
   },
   "outputs": [
    {
     "data": {
      "text/html": [
       "<div>\n",
       "<style scoped>\n",
       "    .dataframe tbody tr th:only-of-type {\n",
       "        vertical-align: middle;\n",
       "    }\n",
       "\n",
       "    .dataframe tbody tr th {\n",
       "        vertical-align: top;\n",
       "    }\n",
       "\n",
       "    .dataframe thead th {\n",
       "        text-align: right;\n",
       "    }\n",
       "</style>\n",
       "<table border=\"1\" class=\"dataframe\">\n",
       "  <thead>\n",
       "    <tr style=\"text-align: right;\">\n",
       "      <th></th>\n",
       "      <th>Texto</th>\n",
       "      <th>Ementa</th>\n",
       "      <th>Vereador</th>\n",
       "      <th>Data</th>\n",
       "      <th>Nota</th>\n",
       "      <th>isUtil</th>\n",
       "      <th>Label</th>\n",
       "      <th>Texto-pre</th>\n",
       "    </tr>\n",
       "  </thead>\n",
       "  <tbody>\n",
       "    <tr>\n",
       "      <th>59</th>\n",
       "      <td>art 10   fica proibido venda comercialização b...</td>\n",
       "      <td>proíbe venda brinquedos constituem réplicas si...</td>\n",
       "      <td>Carmo Luiz</td>\n",
       "      <td>2019</td>\n",
       "      <td>13</td>\n",
       "      <td>não</td>\n",
       "      <td>0</td>\n",
       "      <td>art fica proibido venda comercializao brinqued...</td>\n",
       "    </tr>\n",
       "    <tr>\n",
       "      <th>30</th>\n",
       "      <td>art i fica assegurada criança adolescente pai ...</td>\n",
       "      <td>assegura criança adolescente pai mãe responsáv...</td>\n",
       "      <td>Carmo Luiz</td>\n",
       "      <td>2019</td>\n",
       "      <td>7</td>\n",
       "      <td>não</td>\n",
       "      <td>0</td>\n",
       "      <td>art fica assegurada criana adolescente pai me ...</td>\n",
       "    </tr>\n",
       "    <tr>\n",
       "      <th>62</th>\n",
       "      <td>art 1º fica ins tuído programa municipal popul...</td>\n",
       "      <td>institui programa municipal população imigrant...</td>\n",
       "      <td>Carlão do PT</td>\n",
       "      <td>2019</td>\n",
       "      <td>12</td>\n",
       "      <td>não</td>\n",
       "      <td>0</td>\n",
       "      <td>art  fica ins tudo programa municipal populao ...</td>\n",
       "    </tr>\n",
       "    <tr>\n",
       "      <th>67</th>\n",
       "      <td>art 10 ficam obrigadas escolas rede privada mu...</td>\n",
       "      <td>dispõe obrigatoriedade escolas rede privada mu...</td>\n",
       "      <td>Gustao Petta</td>\n",
       "      <td>2019</td>\n",
       "      <td>12</td>\n",
       "      <td>não</td>\n",
       "      <td>0</td>\n",
       "      <td>art ficam obrigadas escolas rede privada munic...</td>\n",
       "    </tr>\n",
       "    <tr>\n",
       "      <th>97</th>\n",
       "      <td>art 1º fica denominado praça cyro baldin recre...</td>\n",
       "      <td>denomina praça cyro baldin recreio município c...</td>\n",
       "      <td>Carmo Luiz</td>\n",
       "      <td>2019</td>\n",
       "      <td>9</td>\n",
       "      <td>não</td>\n",
       "      <td>0</td>\n",
       "      <td>art  fica denominado praa cyro baldin recreio ...</td>\n",
       "    </tr>\n",
       "  </tbody>\n",
       "</table>\n",
       "</div>"
      ],
      "text/plain": [
       "                                                Texto   \n",
       "59  art 10   fica proibido venda comercialização b...  \\\n",
       "30  art i fica assegurada criança adolescente pai ...   \n",
       "62  art 1º fica ins tuído programa municipal popul...   \n",
       "67  art 10 ficam obrigadas escolas rede privada mu...   \n",
       "97  art 1º fica denominado praça cyro baldin recre...   \n",
       "\n",
       "                                               Ementa      Vereador  Data   \n",
       "59  proíbe venda brinquedos constituem réplicas si...    Carmo Luiz  2019  \\\n",
       "30  assegura criança adolescente pai mãe responsáv...    Carmo Luiz  2019   \n",
       "62  institui programa municipal população imigrant...  Carlão do PT  2019   \n",
       "67  dispõe obrigatoriedade escolas rede privada mu...  Gustao Petta  2019   \n",
       "97  denomina praça cyro baldin recreio município c...    Carmo Luiz  2019   \n",
       "\n",
       "    Nota isUtil  Label                                          Texto-pre  \n",
       "59    13    não      0  art fica proibido venda comercializao brinqued...  \n",
       "30     7    não      0  art fica assegurada criana adolescente pai me ...  \n",
       "62    12    não      0  art  fica ins tudo programa municipal populao ...  \n",
       "67    12    não      0  art ficam obrigadas escolas rede privada munic...  \n",
       "97     9    não      0  art  fica denominado praa cyro baldin recreio ...  "
      ]
     },
     "execution_count": 37,
     "metadata": {},
     "output_type": "execute_result"
    }
   ],
   "source": [
    "df_train.head()"
   ]
  },
  {
   "cell_type": "code",
   "execution_count": 38,
   "id": "ab789a1b-2aa2-4625-8907-7e73f32088aa",
   "metadata": {},
   "outputs": [
    {
     "name": "stderr",
     "output_type": "stream",
     "text": [
      "100%|█████████████████████████████████████████████████████████████████████████████████| 20/20 [00:00<00:00, 465.41it/s]\n"
     ]
    }
   ],
   "source": [
    "# pre-process the training set\n",
    "df_test['Texto-pre'] = df_test['Texto'].progress_apply(lambda text: text_preprocessing(text))"
   ]
  },
  {
   "cell_type": "code",
   "execution_count": 39,
   "id": "d443de0f-a006-484a-8fc8-1bb9075262f5",
   "metadata": {
    "scrolled": true
   },
   "outputs": [
    {
     "data": {
      "text/html": [
       "<div>\n",
       "<style scoped>\n",
       "    .dataframe tbody tr th:only-of-type {\n",
       "        vertical-align: middle;\n",
       "    }\n",
       "\n",
       "    .dataframe tbody tr th {\n",
       "        vertical-align: top;\n",
       "    }\n",
       "\n",
       "    .dataframe thead th {\n",
       "        text-align: right;\n",
       "    }\n",
       "</style>\n",
       "<table border=\"1\" class=\"dataframe\">\n",
       "  <thead>\n",
       "    <tr style=\"text-align: right;\">\n",
       "      <th></th>\n",
       "      <th>Texto</th>\n",
       "      <th>Ementa</th>\n",
       "      <th>Vereador</th>\n",
       "      <th>Data</th>\n",
       "      <th>Nota</th>\n",
       "      <th>isUtil</th>\n",
       "      <th>Label</th>\n",
       "      <th>Texto-pre</th>\n",
       "    </tr>\n",
       "  </thead>\n",
       "  <tbody>\n",
       "    <tr>\n",
       "      <th>25</th>\n",
       "      <td>art 1 fica declarada órgão utilidade pública m...</td>\n",
       "      <td>declara órgão utilidade pública municipal asso...</td>\n",
       "      <td>Mariana Conti</td>\n",
       "      <td>2019</td>\n",
       "      <td>7</td>\n",
       "      <td>não</td>\n",
       "      <td>0</td>\n",
       "      <td>art fica declarada rgo utilidade pblica munici...</td>\n",
       "    </tr>\n",
       "    <tr>\n",
       "      <th>19</th>\n",
       "      <td>art 1 fica denominada praça jacira guedes pint...</td>\n",
       "      <td>denomina praça jacira guedes pinto alberto pra...</td>\n",
       "      <td>Marcos Bernardelli</td>\n",
       "      <td>2019</td>\n",
       "      <td>9</td>\n",
       "      <td>não</td>\n",
       "      <td>0</td>\n",
       "      <td>art fica denominada praa jacira guedes pinto a...</td>\n",
       "    </tr>\n",
       "    <tr>\n",
       "      <th>92</th>\n",
       "      <td>art 1º fica alterado art 1º lei nº 14045 7 abr...</td>\n",
       "      <td>altera art 1º lei nº 14045 07 abril 2011 inclu...</td>\n",
       "      <td>Professor Alberto</td>\n",
       "      <td>2019</td>\n",
       "      <td>10</td>\n",
       "      <td>não</td>\n",
       "      <td>0</td>\n",
       "      <td>art  fica alterado art  lei n abril passa vigo...</td>\n",
       "    </tr>\n",
       "    <tr>\n",
       "      <th>95</th>\n",
       "      <td>data conforme manifestação procuradoria legisl...</td>\n",
       "      <td>estabelece possibilidade corte eou poda árvore...</td>\n",
       "      <td>Nelson Hossri</td>\n",
       "      <td>2019</td>\n",
       "      <td>3</td>\n",
       "      <td>sim</td>\n",
       "      <td>1</td>\n",
       "      <td>data conforme manifestao procuradoria legislat...</td>\n",
       "    </tr>\n",
       "    <tr>\n",
       "      <th>1</th>\n",
       "      <td>art lº ficam proibidos comercialização uso esp...</td>\n",
       "      <td>proíbe comércio uso produtos especifica acondi...</td>\n",
       "      <td>Luiz Rossini</td>\n",
       "      <td>2019</td>\n",
       "      <td>13</td>\n",
       "      <td>não</td>\n",
       "      <td>0</td>\n",
       "      <td>art l ficam proibidos comercializao uso espuma...</td>\n",
       "    </tr>\n",
       "  </tbody>\n",
       "</table>\n",
       "</div>"
      ],
      "text/plain": [
       "                                                Texto   \n",
       "25  art 1 fica declarada órgão utilidade pública m...  \\\n",
       "19  art 1 fica denominada praça jacira guedes pint...   \n",
       "92  art 1º fica alterado art 1º lei nº 14045 7 abr...   \n",
       "95  data conforme manifestação procuradoria legisl...   \n",
       "1   art lº ficam proibidos comercialização uso esp...   \n",
       "\n",
       "                                               Ementa            Vereador   \n",
       "25  declara órgão utilidade pública municipal asso...       Mariana Conti  \\\n",
       "19  denomina praça jacira guedes pinto alberto pra...  Marcos Bernardelli   \n",
       "92  altera art 1º lei nº 14045 07 abril 2011 inclu...   Professor Alberto   \n",
       "95  estabelece possibilidade corte eou poda árvore...       Nelson Hossri   \n",
       "1   proíbe comércio uso produtos especifica acondi...        Luiz Rossini   \n",
       "\n",
       "    Data  Nota isUtil  Label   \n",
       "25  2019     7    não      0  \\\n",
       "19  2019     9    não      0   \n",
       "92  2019    10    não      0   \n",
       "95  2019     3    sim      1   \n",
       "1   2019    13    não      0   \n",
       "\n",
       "                                            Texto-pre  \n",
       "25  art fica declarada rgo utilidade pblica munici...  \n",
       "19  art fica denominada praa jacira guedes pinto a...  \n",
       "92  art  fica alterado art  lei n abril passa vigo...  \n",
       "95  data conforme manifestao procuradoria legislat...  \n",
       "1   art l ficam proibidos comercializao uso espuma...  "
      ]
     },
     "execution_count": 39,
     "metadata": {},
     "output_type": "execute_result"
    }
   ],
   "source": [
    "df_test.head()"
   ]
  },
  {
   "cell_type": "code",
   "execution_count": 40,
   "id": "a3cd0987-cab8-4909-ab42-956eb914105b",
   "metadata": {},
   "outputs": [],
   "source": [
    "# save the preprocessed datasets\n",
    "df_train.to_csv('test_dataset_train_preprocessed.csv', sep=';', index=False)\n",
    "df_test.to_csv('test_dataset_test_preprocessed.csv', sep=';', index=False)"
   ]
  },
  {
   "cell_type": "markdown",
   "id": "285f5c63-4751-425c-978c-98932dea03d5",
   "metadata": {},
   "source": [
    "### 3. Feature Extraction"
   ]
  },
  {
   "cell_type": "code",
   "execution_count": 47,
   "id": "a4ad6136-7938-476c-a93f-47073d2428dd",
   "metadata": {},
   "outputs": [],
   "source": [
    "from sklearn.feature_extraction.text import TfidfVectorizer\n",
    "\n",
    "tfidf = TfidfVectorizer()\n",
    "\n",
    "X_train = tfidf.fit_transform(df_train['Texto-pre'])\n",
    "y_train = df_train['Label']\n",
    "\n",
    "X_test = tfidf.transform(df_test['Texto-pre'])\n",
    "y_test = df_test['Label']"
   ]
  },
  {
   "cell_type": "code",
   "execution_count": 48,
   "id": "4baab7af-1e5e-47b6-9b82-f615701f060d",
   "metadata": {},
   "outputs": [
    {
     "data": {
      "text/plain": [
       "((79, 2124), (20, 2124))"
      ]
     },
     "execution_count": 48,
     "metadata": {},
     "output_type": "execute_result"
    }
   ],
   "source": [
    "X_train.shape, X_test.shape"
   ]
  },
  {
   "cell_type": "code",
   "execution_count": 49,
   "id": "0fe126e6-22fd-4be3-a316-4a2846d15d57",
   "metadata": {},
   "outputs": [
    {
     "name": "stdout",
     "output_type": "stream",
     "text": [
      "Vocabulary size: 2124\n"
     ]
    }
   ],
   "source": [
    "print(f'Vocabulary size: {len(tfidf.vocabulary_)}')"
   ]
  },
  {
   "cell_type": "markdown",
   "id": "de3efbba-3a5e-479b-a9b8-e1334b8376ce",
   "metadata": {},
   "source": [
    "### 4. Treinamento de modelos"
   ]
  },
  {
   "cell_type": "code",
   "execution_count": 50,
   "id": "14bc1a9f-1df6-444b-b720-59bb816c627f",
   "metadata": {},
   "outputs": [
    {
     "data": {
      "text/html": [
       "<style>#sk-container-id-2 {color: black;background-color: white;}#sk-container-id-2 pre{padding: 0;}#sk-container-id-2 div.sk-toggleable {background-color: white;}#sk-container-id-2 label.sk-toggleable__label {cursor: pointer;display: block;width: 100%;margin-bottom: 0;padding: 0.3em;box-sizing: border-box;text-align: center;}#sk-container-id-2 label.sk-toggleable__label-arrow:before {content: \"▸\";float: left;margin-right: 0.25em;color: #696969;}#sk-container-id-2 label.sk-toggleable__label-arrow:hover:before {color: black;}#sk-container-id-2 div.sk-estimator:hover label.sk-toggleable__label-arrow:before {color: black;}#sk-container-id-2 div.sk-toggleable__content {max-height: 0;max-width: 0;overflow: hidden;text-align: left;background-color: #f0f8ff;}#sk-container-id-2 div.sk-toggleable__content pre {margin: 0.2em;color: black;border-radius: 0.25em;background-color: #f0f8ff;}#sk-container-id-2 input.sk-toggleable__control:checked~div.sk-toggleable__content {max-height: 200px;max-width: 100%;overflow: auto;}#sk-container-id-2 input.sk-toggleable__control:checked~label.sk-toggleable__label-arrow:before {content: \"▾\";}#sk-container-id-2 div.sk-estimator input.sk-toggleable__control:checked~label.sk-toggleable__label {background-color: #d4ebff;}#sk-container-id-2 div.sk-label input.sk-toggleable__control:checked~label.sk-toggleable__label {background-color: #d4ebff;}#sk-container-id-2 input.sk-hidden--visually {border: 0;clip: rect(1px 1px 1px 1px);clip: rect(1px, 1px, 1px, 1px);height: 1px;margin: -1px;overflow: hidden;padding: 0;position: absolute;width: 1px;}#sk-container-id-2 div.sk-estimator {font-family: monospace;background-color: #f0f8ff;border: 1px dotted black;border-radius: 0.25em;box-sizing: border-box;margin-bottom: 0.5em;}#sk-container-id-2 div.sk-estimator:hover {background-color: #d4ebff;}#sk-container-id-2 div.sk-parallel-item::after {content: \"\";width: 100%;border-bottom: 1px solid gray;flex-grow: 1;}#sk-container-id-2 div.sk-label:hover label.sk-toggleable__label {background-color: #d4ebff;}#sk-container-id-2 div.sk-serial::before {content: \"\";position: absolute;border-left: 1px solid gray;box-sizing: border-box;top: 0;bottom: 0;left: 50%;z-index: 0;}#sk-container-id-2 div.sk-serial {display: flex;flex-direction: column;align-items: center;background-color: white;padding-right: 0.2em;padding-left: 0.2em;position: relative;}#sk-container-id-2 div.sk-item {position: relative;z-index: 1;}#sk-container-id-2 div.sk-parallel {display: flex;align-items: stretch;justify-content: center;background-color: white;position: relative;}#sk-container-id-2 div.sk-item::before, #sk-container-id-2 div.sk-parallel-item::before {content: \"\";position: absolute;border-left: 1px solid gray;box-sizing: border-box;top: 0;bottom: 0;left: 50%;z-index: -1;}#sk-container-id-2 div.sk-parallel-item {display: flex;flex-direction: column;z-index: 1;position: relative;background-color: white;}#sk-container-id-2 div.sk-parallel-item:first-child::after {align-self: flex-end;width: 50%;}#sk-container-id-2 div.sk-parallel-item:last-child::after {align-self: flex-start;width: 50%;}#sk-container-id-2 div.sk-parallel-item:only-child::after {width: 0;}#sk-container-id-2 div.sk-dashed-wrapped {border: 1px dashed gray;margin: 0 0.4em 0.5em 0.4em;box-sizing: border-box;padding-bottom: 0.4em;background-color: white;}#sk-container-id-2 div.sk-label label {font-family: monospace;font-weight: bold;display: inline-block;line-height: 1.2em;}#sk-container-id-2 div.sk-label-container {text-align: center;}#sk-container-id-2 div.sk-container {/* jupyter's `normalize.less` sets `[hidden] { display: none; }` but bootstrap.min.css set `[hidden] { display: none !important; }` so we also need the `!important` here to be able to override the default hidden behavior on the sphinx rendered scikit-learn.org. See: https://github.com/scikit-learn/scikit-learn/issues/21755 */display: inline-block !important;position: relative;}#sk-container-id-2 div.sk-text-repr-fallback {display: none;}</style><div id=\"sk-container-id-2\" class=\"sk-top-container\"><div class=\"sk-text-repr-fallback\"><pre>LogisticRegression(class_weight=&#x27;balanced&#x27;, n_jobs=-1)</pre><b>In a Jupyter environment, please rerun this cell to show the HTML representation or trust the notebook. <br />On GitHub, the HTML representation is unable to render, please try loading this page with nbviewer.org.</b></div><div class=\"sk-container\" hidden><div class=\"sk-item\"><div class=\"sk-estimator sk-toggleable\"><input class=\"sk-toggleable__control sk-hidden--visually\" id=\"sk-estimator-id-2\" type=\"checkbox\" checked><label for=\"sk-estimator-id-2\" class=\"sk-toggleable__label sk-toggleable__label-arrow\">LogisticRegression</label><div class=\"sk-toggleable__content\"><pre>LogisticRegression(class_weight=&#x27;balanced&#x27;, n_jobs=-1)</pre></div></div></div></div></div>"
      ],
      "text/plain": [
       "LogisticRegression(class_weight='balanced', n_jobs=-1)"
      ]
     },
     "execution_count": 50,
     "metadata": {},
     "output_type": "execute_result"
    }
   ],
   "source": [
    "from sklearn.linear_model import LogisticRegression\n",
    "\n",
    "logreg = LogisticRegression(class_weight='balanced', n_jobs=-1)\n",
    "\n",
    "logreg.fit(X_train, y_train)"
   ]
  },
  {
   "cell_type": "code",
   "execution_count": 51,
   "id": "a4642296-3db2-49b4-a598-dc29924e803a",
   "metadata": {},
   "outputs": [],
   "source": [
    "# prediction on training set\n",
    "y_train_pred = logreg.predict(X_train)"
   ]
  },
  {
   "cell_type": "code",
   "execution_count": 52,
   "id": "a12b857b-af0e-4458-9cf3-f18b90b9006f",
   "metadata": {},
   "outputs": [
    {
     "name": "stdout",
     "output_type": "stream",
     "text": [
      "              precision    recall  f1-score   support\n",
      "\n",
      "           0       1.00      0.95      0.98        65\n",
      "           1       0.82      1.00      0.90        14\n",
      "\n",
      "    accuracy                           0.96        79\n",
      "   macro avg       0.91      0.98      0.94        79\n",
      "weighted avg       0.97      0.96      0.96        79\n",
      "\n"
     ]
    }
   ],
   "source": [
    "from sklearn.metrics import classification_report\n",
    "\n",
    "#print(classification_report(y_train, y_train_pred, target_names=target_names))\n",
    "print(classification_report(y_train, y_train_pred))"
   ]
  },
  {
   "cell_type": "code",
   "execution_count": 53,
   "id": "ac79d2f9-7604-4e54-a1f3-3aaf7abe6cae",
   "metadata": {},
   "outputs": [
    {
     "name": "stdout",
     "output_type": "stream",
     "text": [
      "F1 Train: 0.9398018796037592\n"
     ]
    }
   ],
   "source": [
    "from sklearn.metrics import f1_score\n",
    "\n",
    "f1_train = f1_score(y_train, y_train_pred, average='macro')\n",
    "\n",
    "print(f'F1 Train: {f1_train}')"
   ]
  },
  {
   "cell_type": "code",
   "execution_count": 54,
   "id": "c0f7d9c9-d9b7-4238-a0ea-ddc64b093381",
   "metadata": {},
   "outputs": [
    {
     "name": "stdout",
     "output_type": "stream",
     "text": [
      "Balanced Acc Train: 0.976923076923077\n"
     ]
    }
   ],
   "source": [
    "from sklearn.metrics import balanced_accuracy_score\n",
    "\n",
    "balacc_train = balanced_accuracy_score(y_train, y_train_pred)\n",
    "\n",
    "print(f'Balanced Acc Train: {balacc_train}')"
   ]
  },
  {
   "cell_type": "markdown",
   "id": "6a83797a-fb23-4fb2-b80c-0816b616fe12",
   "metadata": {},
   "source": [
    "#### Evaluate the model on the Test Set"
   ]
  },
  {
   "cell_type": "code",
   "execution_count": 55,
   "id": "da3b5eb3-2ed9-4b27-89af-41c87f1a8b9e",
   "metadata": {},
   "outputs": [],
   "source": [
    "# prediction on testing set\n",
    "y_test_pred = logreg.predict(X_test)"
   ]
  },
  {
   "cell_type": "code",
   "execution_count": 56,
   "id": "62383680-d01b-4924-b638-0d335dc736c3",
   "metadata": {},
   "outputs": [
    {
     "name": "stdout",
     "output_type": "stream",
     "text": [
      "              precision    recall  f1-score   support\n",
      "\n",
      "           0       0.94      0.94      0.94        17\n",
      "           1       0.67      0.67      0.67         3\n",
      "\n",
      "    accuracy                           0.90        20\n",
      "   macro avg       0.80      0.80      0.80        20\n",
      "weighted avg       0.90      0.90      0.90        20\n",
      "\n"
     ]
    }
   ],
   "source": [
    "#from sklearn.metrics import classification_report\n",
    "print(classification_report(y_test, y_test_pred))"
   ]
  },
  {
   "cell_type": "code",
   "execution_count": 57,
   "id": "e835224a-544a-45e7-9761-edf04d24bf68",
   "metadata": {},
   "outputs": [
    {
     "name": "stdout",
     "output_type": "stream",
     "text": [
      "F1 Test: 0.803921568627451\n"
     ]
    }
   ],
   "source": [
    "from sklearn.metrics import f1_score\n",
    "f1_test = f1_score(y_test, y_test_pred, average='macro')\n",
    "print(f'F1 Test: {f1_test}')"
   ]
  },
  {
   "cell_type": "markdown",
   "id": "9c4db7ed-9b32-4f8a-9077-cd08ea5323f8",
   "metadata": {},
   "source": [
    "O resultado **F1 score** melhorou bastante com a remoção de linhas com 'Texto' e 'Vereador' nulos"
   ]
  },
  {
   "cell_type": "code",
   "execution_count": null,
   "id": "a3357c02-b558-4493-afc0-ffa2f705ce5d",
   "metadata": {},
   "outputs": [],
   "source": []
  },
  {
   "cell_type": "code",
   "execution_count": null,
   "id": "ecf5c2bc-3e8a-4242-b472-78ca8a1be0ef",
   "metadata": {},
   "outputs": [],
   "source": []
  },
  {
   "cell_type": "code",
   "execution_count": null,
   "id": "b3c92981-e441-4df1-9703-6c55e2e59a26",
   "metadata": {},
   "outputs": [],
   "source": []
  },
  {
   "cell_type": "code",
   "execution_count": null,
   "id": "3a344d98-6a2c-496b-a1d7-77da739c2f02",
   "metadata": {},
   "outputs": [],
   "source": []
  },
  {
   "cell_type": "code",
   "execution_count": null,
   "id": "57f3c9d0-7b1c-4b5d-bb91-3274b4ec2b4d",
   "metadata": {},
   "outputs": [],
   "source": []
  }
 ],
 "metadata": {
  "kernelspec": {
   "display_name": "Python 3 (ipykernel)",
   "language": "python",
   "name": "python3"
  },
  "language_info": {
   "codemirror_mode": {
    "name": "ipython",
    "version": 3
   },
   "file_extension": ".py",
   "mimetype": "text/x-python",
   "name": "python",
   "nbconvert_exporter": "python",
   "pygments_lexer": "ipython3",
   "version": "3.11.3"
  },
  "widgets": {
   "application/vnd.jupyter.widget-state+json": {
    "state": {},
    "version_major": 2,
    "version_minor": 0
   }
  }
 },
 "nbformat": 4,
 "nbformat_minor": 5
}
