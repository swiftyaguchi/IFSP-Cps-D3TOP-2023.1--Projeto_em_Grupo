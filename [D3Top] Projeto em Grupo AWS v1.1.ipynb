{
 "cells": [
  {
   "cell_type": "markdown",
   "id": "78ffbd83-345d-4502-a4ae-7d094f92c96f",
   "metadata": {
    "tags": []
   },
   "source": [
    "**IFSP - Campus Campinas** <br>\n",
    "**Pós-graduação em Ciência de Dados** <br>\n",
    "**Disciplina D3TOP – Tópicos em Ciência de Dados** <br>\n",
    "\n",
    "Projeto em Grupo - Parte 1\n",
    "\n",
    "v 1.1\n",
    "\n",
    "Professor: Samuel Martins (samuel.martins@ifsp.edu.br)<br>\n",
    "Aluno: Swift Motoo Yaguchi - CP301665X"
   ]
  },
  {
   "cell_type": "markdown",
   "id": "29e47f9a-d68f-4484-aaf3-68077dbd0463",
   "metadata": {},
   "source": [
    "------"
   ]
  },
  {
   "cell_type": "markdown",
   "id": "0a10bd24-bbfc-4242-8a5f-60763210d15c",
   "metadata": {},
   "source": [
    "# Descrição e motivação do problema\n",
    "\n",
    "Apesar de serem representantes eleitos pela população, pouco se sabe sobre a produção legislativa dos vereadores de Campinas, produção esta que a midia noticia esporadicamente, com interesses jornalísticos muitas vezes buscando sensacionalismo, e não avaliando a qualidade das propostas de leis produzidas pelos vereadores em seu conjunto.\n",
    "\n",
    "Campinas tem 33 vereadores, que produzem anualmente centenas de projetos de lei com diversas finalidades, e que são debatidas nas reuniões regulares da Câmara Municipal, sendo que algumas são aprovadas tornando-se leis que irão inflenciar a vida da população da cidade, positiva ou negativamente.\n",
    "\n",
    "É interessante observar que, além dos 33 vereadores, o Prefeito de Campinas envia também dezenas de projetos de lei à Câmara Municipal sendo que o peso destes para influenciar a vida da população é muito maior, positiva ou negativamente.\n",
    "\n",
    "A Câmara Muncipal é o espaço onde estes projetos de lei são debatidos e avaliados pelos vereadores, eleitos democraticamente para serem os representantes da população para esta avaliação de toda produção legislativa, seguindo um processo legislativo inicial de avaliação onde participam dezenas de técnicos especialistas da própria Câmara Municipal e Comissões especiais compostas pelos vereadores com apoio de suas equipes de assessores, bem como audiências públicas onde a população tem oportunidade de se manifestar a favor ou contra.\n",
    "\n",
    "Este processo legislativo é onde o texto dos projetos de lei são avaliados, textos que trazem em seu conteúdo benefícios para a população da cidade, ou não.\n",
    "\n",
    "Este projeto é um exercício de análise dos projetos de leis municipais da Câmara Municipal de Campinas usando técnicas de NLP e ML para tentar identificar se um texto de projeto de lei pode ser benéfico para a população da cidade.\n"
   ]
  },
  {
   "cell_type": "markdown",
   "id": "fde9a8ee-ac5f-4716-869d-64dbe4c03317",
   "metadata": {},
   "source": [
    "# Descrição da base de dados\n",
    "\n",
    "Para este projeto foi montada uma base de dados de projetos de lei da Câmara Municipal de Campinas do ano de 2019, antes da última eleição municipal, e portanto não devendo ter intenção de crítica ou influência à Câmara Municipal em seu mandato corrente.\n",
    "\n",
    "Há vários tipos de projetos de lei, com finalidades diferentes, e para este projeto foi escolhido o conjunto de PLO's (Projetos de Lei Ordinárias), que são as mais comuns e em quantidade maior. Como referência, o Regimento Interno da Câmara Muncipal descreve os vários tipos de projetos de lei (https://www.campinas.sp.leg.br/atividade-legislativa/regimento-interno).\n",
    "\n",
    "A base de dados foi montada num arquivo no fromato csv e contém os seguintes campos:\n",
    "\n",
    "* Texto: texto completo do PLO\n",
    "* Ementa: resumo do PLO\n",
    "* Vereador: autor do PLO\n",
    "* Data: data de apresentação do PLO\n",
    "* Nota: uma avaliação pessoal do texto do PLO\n",
    "* isUtil: se o PLO é útil para a cidade ou não (1 ou 0)\n",
    "\n",
    "O conjunto de Projetos de Leis foi extraído do site da Câmara Muncipal de Campinas\n",
    "(https://www.campinas.sp.leg.br/atividade-legislativa/producao-legislativa), selecionando o período de 01/01/2019 a 31/12/2019 e PLO como tipo de matéria.\n",
    "\n",
    "Os PLOs estão disponíveis no formalto pdf e a extração do texto foi feita manualmente, ora utilizando a ferramenta pdftotext da biblioteca pyhton, ora utlizando conversor de pdf para word.\n",
    "\n",
    "Os critérios pessoais utilizados para avaliar cada PLO foram os seguintes:\n",
    "\n",
    "1. Lei reduz custos para a cidade, fiscaliza executivo, combate corrupção <br>\n",
    "2. Lei melhora a educação, saúde, transporte, segurança, habitação na cidade <br>\n",
    "3. Lei reduz burocracia na cidade, diminui controle do Estado <br>\n",
    "4. Lei permite criar empregos ou incentiva empreendedores <br>\n",
    "5. Lei com benefício real para a cidade de alguma outra forma <br>\n",
    "6. Lei aumenta custos para a cidade, interfere alçada de outro órgão ou legislação anterior <br>\n",
    "7. Lei aumenta privilégios apenas para uma parcela menor da cidade <br>\n",
    "8. Lei prejudica a cidade com aumento de burocracia ou controle do Estado <br>\n",
    "9. Lei de nome de ruas, praças, e homenagens <br>\n",
    "10. Lei de datas comemorativas <br>\n",
    "11. Lei de placas e informativos mas sem atuar na causa e sem benefício real para a cidade <br>\n",
    "12. Lei  de programas e cursos na rede escolar, sem real benefício para a cidade <br>\n",
    "13. Lei  de proibições e penalizações sem interação com órgãos fiscalizadores competentes ou sem real benefício para a cidade <br>\n",
    "14. Lei  sem benefício adicional real para a cidade <br>\n",
    "\n",
    "Para a rotulação da coluna __isUtil__ considerei como 1 os PLOs de avaliação 1 a 5, e como 0 os restantes de avaliação 6 a 14.\n",
    "\n",
    "Convém observar que esta rotulação do isUtil pode ser redefinida de acordo com opiniões de cada pessoa com seus critérios de cidadania responsável, podendo dar resultados diferentes, o que é perfeitamente normal numa democracia.\n",
    "\n"
   ]
  },
  {
   "cell_type": "markdown",
   "id": "4dae1890-a92c-40da-ace8-1f67b0b252be",
   "metadata": {},
   "source": [
    "# Objetivo de negócio ou científico associado ao problema\n",
    "\n",
    "Tendo em vista o processo legislativo descrito acima que envolve muito tempo e uma quantidade grande de pessoas para avaliar um PLO, que essencialmente é um texto em sua grande maioria, o objetivo deste projeto é buscar otimizar este processo legislativo com técnicas de NLP e ML.\n",
    "\n",
    "Basicamente a ideia é:\n",
    "\n",
    "* analisar um conjunto de leis usando técnicas de NLP \n",
    "\n",
    "* treinamento testando e comparando algorítmos de ML\n",
    "\n",
    "* Desenvolver um modelo de avaliaçao de projetos de leis do município de Campinas para identificar se uma lei é útil ou inútil à população\n",
    "\n",
    "\n",
    "Para este projeto utilizei como referências códigos de sala de aula do curso de D3TOP e códigos do curso online de AWS Sagmaker ML\n"
   ]
  },
  {
   "cell_type": "markdown",
   "id": "23816a65-52db-4701-a940-e965b0d20523",
   "metadata": {},
   "source": [
    "# Etapa de limpeza e pré-processamento"
   ]
  },
  {
   "cell_type": "markdown",
   "id": "ad0915ae-a769-42c6-9e11-817e955e8c14",
   "metadata": {},
   "source": [
    "**Instalando bibliotecas**"
   ]
  },
  {
   "cell_type": "code",
   "execution_count": 1,
   "id": "b7b5c3bf-1a95-4c9d-bf87-a2baddf23965",
   "metadata": {
    "tags": []
   },
   "outputs": [],
   "source": [
    "#Upgrade dependencies\n",
    "#!pip install --upgrade pip\n",
    "#!pip install --upgrade scikit-learn\n",
    "#!pip install --upgrade sagemaker"
   ]
  },
  {
   "cell_type": "code",
   "execution_count": 2,
   "id": "912308e6-91f9-4170-be93-aa3c55d9ed41",
   "metadata": {
    "tags": []
   },
   "outputs": [],
   "source": [
    "import pandas as pd"
   ]
  },
  {
   "cell_type": "markdown",
   "id": "8434c626-6403-4e0b-9438-1379dd040ae7",
   "metadata": {},
   "source": [
    "**Leitura da base de dados**"
   ]
  },
  {
   "cell_type": "code",
   "execution_count": 3,
   "id": "34f5db8c-2b91-4d36-9155-0913409ded22",
   "metadata": {
    "tags": []
   },
   "outputs": [
    {
     "data": {
      "text/html": [
       "<div>\n",
       "<style scoped>\n",
       "    .dataframe tbody tr th:only-of-type {\n",
       "        vertical-align: middle;\n",
       "    }\n",
       "\n",
       "    .dataframe tbody tr th {\n",
       "        vertical-align: top;\n",
       "    }\n",
       "\n",
       "    .dataframe thead th {\n",
       "        text-align: right;\n",
       "    }\n",
       "</style>\n",
       "<table border=\"1\" class=\"dataframe\">\n",
       "  <thead>\n",
       "    <tr style=\"text-align: right;\">\n",
       "      <th></th>\n",
       "      <th>Texto</th>\n",
       "      <th>Ementa</th>\n",
       "      <th>Vereador</th>\n",
       "      <th>Data</th>\n",
       "      <th>Nota</th>\n",
       "      <th>isUtil</th>\n",
       "    </tr>\n",
       "  </thead>\n",
       "  <tbody>\n",
       "    <tr>\n",
       "      <th>0</th>\n",
       "      <td>Art. I  Fica denominado Praça Sandra Hitomi Ta...</td>\n",
       "      <td>DENOMINA PRAÇA SANDRA HITOMI TAKAHASHI UM SIST...</td>\n",
       "      <td>Carmo Luiz</td>\n",
       "      <td>43500</td>\n",
       "      <td>9</td>\n",
       "      <td>0</td>\n",
       "    </tr>\n",
       "    <tr>\n",
       "      <th>1</th>\n",
       "      <td>Art. lº  Ficam proibidos a comercialização e o...</td>\n",
       "      <td>PROÍBE O COMÉRCIO E O USO DOS PRODUTOS QUE ESP...</td>\n",
       "      <td>Luiz Rossini</td>\n",
       "      <td>43500</td>\n",
       "      <td>13</td>\n",
       "      <td>0</td>\n",
       "    </tr>\n",
       "    <tr>\n",
       "      <th>2</th>\n",
       "      <td>Art. 1 0 Poder Executivo municipal deverá disp...</td>\n",
       "      <td>DISPÕE SOBRE O ACESSO ÀS INFORMAÇÕES A RESPEIT...</td>\n",
       "      <td>Luiz Cirilo</td>\n",
       "      <td>43500</td>\n",
       "      <td>1</td>\n",
       "      <td>1</td>\n",
       "    </tr>\n",
       "  </tbody>\n",
       "</table>\n",
       "</div>"
      ],
      "text/plain": [
       "                                               Texto  \\\n",
       "0  Art. I  Fica denominado Praça Sandra Hitomi Ta...   \n",
       "1  Art. lº  Ficam proibidos a comercialização e o...   \n",
       "2  Art. 1 0 Poder Executivo municipal deverá disp...   \n",
       "\n",
       "                                              Ementa      Vereador   Data  \\\n",
       "0  DENOMINA PRAÇA SANDRA HITOMI TAKAHASHI UM SIST...    Carmo Luiz  43500   \n",
       "1  PROÍBE O COMÉRCIO E O USO DOS PRODUTOS QUE ESP...  Luiz Rossini  43500   \n",
       "2  DISPÕE SOBRE O ACESSO ÀS INFORMAÇÕES A RESPEIT...   Luiz Cirilo  43500   \n",
       "\n",
       "   Nota  isUtil  \n",
       "0     9       0  \n",
       "1    13       0  \n",
       "2     1       1  "
      ]
     },
     "execution_count": 3,
     "metadata": {},
     "output_type": "execute_result"
    }
   ],
   "source": [
    "df = pd.read_csv('PLO 2019 v1.1.csv', sep=';')\n",
    "df.head(3)"
   ]
  },
  {
   "cell_type": "code",
   "execution_count": 4,
   "id": "ac3a7a63-8728-4483-a0b9-5a865debd249",
   "metadata": {
    "tags": []
   },
   "outputs": [
    {
     "data": {
      "text/html": [
       "<div>\n",
       "<style scoped>\n",
       "    .dataframe tbody tr th:only-of-type {\n",
       "        vertical-align: middle;\n",
       "    }\n",
       "\n",
       "    .dataframe tbody tr th {\n",
       "        vertical-align: top;\n",
       "    }\n",
       "\n",
       "    .dataframe thead th {\n",
       "        text-align: right;\n",
       "    }\n",
       "</style>\n",
       "<table border=\"1\" class=\"dataframe\">\n",
       "  <thead>\n",
       "    <tr style=\"text-align: right;\">\n",
       "      <th></th>\n",
       "      <th>Texto</th>\n",
       "      <th>Ementa</th>\n",
       "      <th>Vereador</th>\n",
       "      <th>Data</th>\n",
       "      <th>Nota</th>\n",
       "      <th>isUtil</th>\n",
       "    </tr>\n",
       "  </thead>\n",
       "  <tbody>\n",
       "    <tr>\n",
       "      <th>0</th>\n",
       "      <td>Art. I  Fica denominado Praça Sandra Hitomi Takahashi o Sistema de Recreio 01 (Quarteirão 740, Código Cartográfica 3234.6105.0001, com área de 168,00m 2 ) do loteamento Cidade Universitária Campineira, distrito Barão Geraldo, situado na Avenida Dr. Romeu Tórtima (Avenida 01) do mesmo loteamento.\\n\\nArt. 2 Esta Lei entra em vigor na data de sua publicação.</td>\n",
       "      <td>DENOMINA PRAÇA SANDRA HITOMI TAKAHASHI UM SISTEMA DE RECREIO DO MUNICÍPIO DE CAMPINAS.</td>\n",
       "      <td>Carmo Luiz</td>\n",
       "      <td>43500</td>\n",
       "      <td>9</td>\n",
       "      <td>0</td>\n",
       "    </tr>\n",
       "    <tr>\n",
       "      <th>1</th>\n",
       "      <td>Art. lº  Ficam proibidos a comercialização e o uso de espumas, serpentinas e produtos similares acondicionados em spray no município de Campinas.\\n\\n§ lº A proibição de que trata o caput abrange os produtos com a denominação \"espuma de Carnaval\", \"neve de Carnaval\", \"neve artificial\", \"serpentina\", \"teia\" ou denominação similar acondicionados em sprê1y que possam entrai- em contato direto com a pele, mucosas ou olhos.\\n\\n§ 2º As espumas E xpansivas de aplicação na indústria, na construção civil e em outras atividades regulamentadas ficam excluídas da proibição de que trata o caput.\\n\\nArt. 2º O Poder Executivo, por meio de seus órgãos competentes, promoverá ações de fiscalização dos estabelecimentos que comercializarem o:s produtos a que se referem o caput e o § lº do art. 1º desta Lei.\\n\\nParágrafo unico. A atuação dos agentes de fiscalização poderá ocorrer independentemente de denúncia ou reclamação.\\n\\nArt. 3º O descumprimento do disposto nesta Lei acarretará ao estabelecimento infrator a aplicação de multa no valor de 500 (quinhentas) Unidades Fiscais de Campinas - UFICs, que será dobrado na primeira reincidência e quadruplicado a partir da segunda reincidência, sem prejuízo das demais penalidades aplicáveis.\\n\\nParágrafo único. Será considerado reincidência o cometimento por mais de uma vez da mesma infração tipificada nesta Lei no mesmo dia ou em até trinta dias contados da primeira expedição do auto de infração.\\n\\nArt. 4º\\tA receita da aplicação das multas será revertida para o Fundo de Recuperação, Manutenção e Preservação do Meio Ambiente - Proamb.\\n\\nArt. 5º Na hipótes,e de o infrator ser vendedor ambulante, ocorrerá apenas a apreensão dos produtos a que se referem o caput e o § lº\\tcio art. lº desta Lei, sem preJuízo de outras sanções que couberem na forma da lei.\\nArt. 6º  Quando em posse de usuário, os produtos referidos no caput e no\\n§ lº\\tdo art. lº\\tserão sumariamente apreendidos, não tendo o infrator direito a qualquer indenização nem à restituição dos produtos.\\n\\nArt. 7º Esta Lei entra em vigor na data de sua publicação.</td>\n",
       "      <td>PROÍBE O COMÉRCIO E O USO DOS PRODUTOS QUE ESPECIFICA ACONDICIONADOS EM SPRAY NO MUNICÍPIO DE CAMPINAS E DÁ OUTRAS PROVIDÊNCIAS.</td>\n",
       "      <td>Luiz Rossini</td>\n",
       "      <td>43500</td>\n",
       "      <td>13</td>\n",
       "      <td>0</td>\n",
       "    </tr>\n",
       "    <tr>\n",
       "      <th>2</th>\n",
       "      <td>Art. 1 0 Poder Executivo municipal deverá disponibilizar, por meio do site oficial da Prefeitura Municipal de Campinas, um espaço em área de fácil acesso denominado Portal de Obras Públicas, obrigatoriamente com as seguintes informações de todas as obras públicas do Município:\\nI\\t- nome da obra,\\nII\\t- classificação da obra,\\nIII\\t- número da licitação correspondente à contratação da empresa responsável pela obra,\\nIV\\t- número do contrato,\\nV\\t- empresa responsável por executar a obra,\\nVI\\t- valor estimado da obra,\\nVII\\t- valor adicional da obra, se houver termo aditivo,\\nVIII\\t- situação em que se encontra a obra,\\nIX\\t- data de início da obra,\\nX\\t- data de término da obra,\\nXI\\t- prazo de prorrogação da obra, se for o caso,\\nXII\\t- especificação e valor da fonte de recursos,\\nXIII\\t- cronograma das ações que serão realizadas durante a obra,\\nXIV\\t- anexos referentes à obra,\\nXV\\t- justificativa de interrupção, paralisação ou cancelamento da obra, se for o caso.\\n\\nParágrafo único. Nos anexos deverão constar a planilha orçamentária, o contrato com a empresa responsável pela obra e os termos aditivos, caso existam.\\n\\nArt. 2 As informações de que trata o art. I P deverão ser disponibilizadas sem prejuízo de outras informações que estiverem organizadas no site oficial da Prefeitura Municipal de Campinas.\\n\\nArt. 3 As despesas decorrentes da execução desta Lei correrão por conta de verbas orçamentárias próprias.\\n\\nArt. 4 Esta Lei entra em vigor após decorridos cento e oitenta dias de sua publicação oficial.\\n \\nArt. Ficam revogadas as disposições em contrário.</td>\n",
       "      <td>DISPÕE SOBRE O ACESSO ÀS INFORMAÇÕES A RESPEITO DE OBRAS PÚBLICAS DO MUNICÍPIO DE CAMPINAS POR MEIO DO SITE DA PREFEITURA MUNICIPAL.</td>\n",
       "      <td>Luiz Cirilo</td>\n",
       "      <td>43500</td>\n",
       "      <td>1</td>\n",
       "      <td>1</td>\n",
       "    </tr>\n",
       "    <tr>\n",
       "      <th>3</th>\n",
       "      <td>Art. 1 Fica denominada Praça Iracema Costa a Praça 4 (Quarteirão 7.508, Código Cartográfico 3334.64.54.0001, com área de 2.370,00m 2) do loteamento Jardim Maracanã, situada na Rua Edson Luiz Rigonatto (Rua 13), ao lado da Quadra B, no mesmo loteamento.\\n\\nArt. 2 Esta Lei entra em vigor na data de sua publicação.</td>\n",
       "      <td>DENOMINA PRAÇA IRACEMA COSTA UMA PRAÇA PÚBLICA DO MUNICÍPIO DE CAMPINAS.</td>\n",
       "      <td>Carlão do PT</td>\n",
       "      <td>43500</td>\n",
       "      <td>9</td>\n",
       "      <td>0</td>\n",
       "    </tr>\n",
       "    <tr>\n",
       "      <th>4</th>\n",
       "      <td>Art. 1 Ficam alterados os SS I P e 3 2 do art. 2 2 da Lei n? 14.789, de 4 de abril de 2014, que passa a vigorar com a seguinte redação:\\n\"Art. 2 2 \\nS 1 2 0 atendimento prioritário de que trata esta Lei será oferecido em quaisquer caixas, guichês ou unidades disponíveis para o atendimento ao público em geral.\\n \\nS 3 2 Os estabelecimentos que tenham pavimentos superiores com caixas de atendimento deverão manter atendimento prioritário em todos os caixas de cada andar,\\n (NR)</td>\n",
       "      <td>ALTERA A REDAÇÃO DOS §§ 1º E 3º DO ART. 2º DA LEI Nº 14.789, DE 4 DE ABRIL DE 2014, QUE DISPÕE SOBRE ATENDIMENTO PRIORITÁRIO NO MUNICÍPIO DE CAMPINAS.</td>\n",
       "      <td>Paulo Galterio</td>\n",
       "      <td>43500</td>\n",
       "      <td>7</td>\n",
       "      <td>0</td>\n",
       "    </tr>\n",
       "  </tbody>\n",
       "</table>\n",
       "</div>"
      ],
      "text/plain": [
       "                                                                                                                                                                                                                                                                                                                                                                                                                                                                                                                                                                                                                                                                                                                                                                                                                                                                                                                                                                                                                                                                                                                                                                                                                                                                                                                                                                                                                                                                                                                                                                                                                                                                                                                                                                                                                                                                                                                                                                                                                                                                                                                                                           Texto  \\\n",
       "0                                                                                                                                                                                                                                                                                                                                                                                                                                                                                                                                                                                                                                                                                                                                                                                                                                                                                                                                                                                                                                                                                                                                                                                                                                                                                                                                                                                                                                                                                                                                                                                                                                                                                                                                                                                          Art. I  Fica denominado Praça Sandra Hitomi Takahashi o Sistema de Recreio 01 (Quarteirão 740, Código Cartográfica 3234.6105.0001, com área de 168,00m 2 ) do loteamento Cidade Universitária Campineira, distrito Barão Geraldo, situado na Avenida Dr. Romeu Tórtima (Avenida 01) do mesmo loteamento.\\n\\nArt. 2 Esta Lei entra em vigor na data de sua publicação.   \n",
       "1  Art. lº  Ficam proibidos a comercialização e o uso de espumas, serpentinas e produtos similares acondicionados em spray no município de Campinas.\\n\\n§ lº A proibição de que trata o caput abrange os produtos com a denominação \"espuma de Carnaval\", \"neve de Carnaval\", \"neve artificial\", \"serpentina\", \"teia\" ou denominação similar acondicionados em sprê1y que possam entrai- em contato direto com a pele, mucosas ou olhos.\\n\\n§ 2º As espumas E xpansivas de aplicação na indústria, na construção civil e em outras atividades regulamentadas ficam excluídas da proibição de que trata o caput.\\n\\nArt. 2º O Poder Executivo, por meio de seus órgãos competentes, promoverá ações de fiscalização dos estabelecimentos que comercializarem o:s produtos a que se referem o caput e o § lº do art. 1º desta Lei.\\n\\nParágrafo unico. A atuação dos agentes de fiscalização poderá ocorrer independentemente de denúncia ou reclamação.\\n\\nArt. 3º O descumprimento do disposto nesta Lei acarretará ao estabelecimento infrator a aplicação de multa no valor de 500 (quinhentas) Unidades Fiscais de Campinas - UFICs, que será dobrado na primeira reincidência e quadruplicado a partir da segunda reincidência, sem prejuízo das demais penalidades aplicáveis.\\n\\nParágrafo único. Será considerado reincidência o cometimento por mais de uma vez da mesma infração tipificada nesta Lei no mesmo dia ou em até trinta dias contados da primeira expedição do auto de infração.\\n\\nArt. 4º\\tA receita da aplicação das multas será revertida para o Fundo de Recuperação, Manutenção e Preservação do Meio Ambiente - Proamb.\\n\\nArt. 5º Na hipótes,e de o infrator ser vendedor ambulante, ocorrerá apenas a apreensão dos produtos a que se referem o caput e o § lº\\tcio art. lº desta Lei, sem preJuízo de outras sanções que couberem na forma da lei.\\nArt. 6º  Quando em posse de usuário, os produtos referidos no caput e no\\n§ lº\\tdo art. lº\\tserão sumariamente apreendidos, não tendo o infrator direito a qualquer indenização nem à restituição dos produtos.\\n\\nArt. 7º Esta Lei entra em vigor na data de sua publicação.   \n",
       "2                                                                                                                                                                                                                                                                                                                                                                                                                                                                                                         Art. 1 0 Poder Executivo municipal deverá disponibilizar, por meio do site oficial da Prefeitura Municipal de Campinas, um espaço em área de fácil acesso denominado Portal de Obras Públicas, obrigatoriamente com as seguintes informações de todas as obras públicas do Município:\\nI\\t- nome da obra,\\nII\\t- classificação da obra,\\nIII\\t- número da licitação correspondente à contratação da empresa responsável pela obra,\\nIV\\t- número do contrato,\\nV\\t- empresa responsável por executar a obra,\\nVI\\t- valor estimado da obra,\\nVII\\t- valor adicional da obra, se houver termo aditivo,\\nVIII\\t- situação em que se encontra a obra,\\nIX\\t- data de início da obra,\\nX\\t- data de término da obra,\\nXI\\t- prazo de prorrogação da obra, se for o caso,\\nXII\\t- especificação e valor da fonte de recursos,\\nXIII\\t- cronograma das ações que serão realizadas durante a obra,\\nXIV\\t- anexos referentes à obra,\\nXV\\t- justificativa de interrupção, paralisação ou cancelamento da obra, se for o caso.\\n\\nParágrafo único. Nos anexos deverão constar a planilha orçamentária, o contrato com a empresa responsável pela obra e os termos aditivos, caso existam.\\n\\nArt. 2 As informações de que trata o art. I P deverão ser disponibilizadas sem prejuízo de outras informações que estiverem organizadas no site oficial da Prefeitura Municipal de Campinas.\\n\\nArt. 3 As despesas decorrentes da execução desta Lei correrão por conta de verbas orçamentárias próprias.\\n\\nArt. 4 Esta Lei entra em vigor após decorridos cento e oitenta dias de sua publicação oficial.\\n \\nArt. Ficam revogadas as disposições em contrário.   \n",
       "3                                                                                                                                                                                                                                                                                                                                                                                                                                                                                                                                                                                                                                                                                                                                                                                                                                                                                                                                                                                                                                                                                                                                                                                                                                                                                                                                                                                                                                                                                                                                                                                                                                                                                                                                                                                                                                      Art. 1 Fica denominada Praça Iracema Costa a Praça 4 (Quarteirão 7.508, Código Cartográfico 3334.64.54.0001, com área de 2.370,00m 2) do loteamento Jardim Maracanã, situada na Rua Edson Luiz Rigonatto (Rua 13), ao lado da Quadra B, no mesmo loteamento.\\n\\nArt. 2 Esta Lei entra em vigor na data de sua publicação.   \n",
       "4                                                                                                                                                                                                                                                                                                                                                                                                                                                                                                                                                                                                                                                                                                                                                                                                                                                                                                                                                                                                                                                                                                                                                                                                                                                                                                                                                                                                                                                                                                                                                                                                                                                                Art. 1 Ficam alterados os SS I P e 3 2 do art. 2 2 da Lei n? 14.789, de 4 de abril de 2014, que passa a vigorar com a seguinte redação:\\n\"Art. 2 2 \\nS 1 2 0 atendimento prioritário de que trata esta Lei será oferecido em quaisquer caixas, guichês ou unidades disponíveis para o atendimento ao público em geral.\\n \\nS 3 2 Os estabelecimentos que tenham pavimentos superiores com caixas de atendimento deverão manter atendimento prioritário em todos os caixas de cada andar,\\n (NR)   \n",
       "\n",
       "                                                                                                                                                   Ementa  \\\n",
       "0                                                                  DENOMINA PRAÇA SANDRA HITOMI TAKAHASHI UM SISTEMA DE RECREIO DO MUNICÍPIO DE CAMPINAS.   \n",
       "1                        PROÍBE O COMÉRCIO E O USO DOS PRODUTOS QUE ESPECIFICA ACONDICIONADOS EM SPRAY NO MUNICÍPIO DE CAMPINAS E DÁ OUTRAS PROVIDÊNCIAS.   \n",
       "2                    DISPÕE SOBRE O ACESSO ÀS INFORMAÇÕES A RESPEITO DE OBRAS PÚBLICAS DO MUNICÍPIO DE CAMPINAS POR MEIO DO SITE DA PREFEITURA MUNICIPAL.   \n",
       "3                                                                                DENOMINA PRAÇA IRACEMA COSTA UMA PRAÇA PÚBLICA DO MUNICÍPIO DE CAMPINAS.   \n",
       "4  ALTERA A REDAÇÃO DOS §§ 1º E 3º DO ART. 2º DA LEI Nº 14.789, DE 4 DE ABRIL DE 2014, QUE DISPÕE SOBRE ATENDIMENTO PRIORITÁRIO NO MUNICÍPIO DE CAMPINAS.   \n",
       "\n",
       "         Vereador   Data  Nota  isUtil  \n",
       "0      Carmo Luiz  43500     9       0  \n",
       "1    Luiz Rossini  43500    13       0  \n",
       "2     Luiz Cirilo  43500     1       1  \n",
       "3    Carlão do PT  43500     9       0  \n",
       "4  Paulo Galterio  43500     7       0  "
      ]
     },
     "execution_count": 4,
     "metadata": {},
     "output_type": "execute_result"
    }
   ],
   "source": [
    "# É possível alterar as opções na atividade para exibir mais dados de texto.\n",
    "pd.options.display.max_rows\n",
    "pd.set_option('display.max_colwidth', None)\n",
    "df.head()\n"
   ]
  },
  {
   "cell_type": "markdown",
   "id": "dd1df822-41db-451b-a9fb-a3ab6b3619a3",
   "metadata": {},
   "source": [
    "## Realização da análise exploratória de dados"
   ]
  },
  {
   "cell_type": "code",
   "execution_count": 5,
   "id": "67af3d27-53b4-4ece-a2d0-748140010de3",
   "metadata": {
    "tags": []
   },
   "outputs": [
    {
     "data": {
      "text/plain": [
       "Texto       object\n",
       "Ementa      object\n",
       "Vereador    object\n",
       "Data         int64\n",
       "Nota         int64\n",
       "isUtil       int64\n",
       "dtype: object"
      ]
     },
     "execution_count": 5,
     "metadata": {},
     "output_type": "execute_result"
    }
   ],
   "source": [
    "df.dtypes"
   ]
  },
  {
   "cell_type": "code",
   "execution_count": 6,
   "id": "09bbbde4-e762-4f6b-82f3-832835d09212",
   "metadata": {
    "tags": []
   },
   "outputs": [
    {
     "name": "stdout",
     "output_type": "stream",
     "text": [
      "O tamanho do dataset é: (52, 6)\n"
     ]
    }
   ],
   "source": [
    "print('O tamanho do dataset é:', df.shape)"
   ]
  },
  {
   "cell_type": "code",
   "execution_count": 7,
   "id": "7a67754c-52b0-45e0-8d14-5949ad4079c2",
   "metadata": {
    "tags": []
   },
   "outputs": [
    {
     "data": {
      "text/plain": [
       "0    41\n",
       "1    11\n",
       "Name: isUtil, dtype: int64"
      ]
     },
     "execution_count": 7,
     "metadata": {},
     "output_type": "execute_result"
    }
   ],
   "source": [
    "df['isUtil'].value_counts()"
   ]
  },
  {
   "cell_type": "markdown",
   "id": "402da03c-afbf-44ce-aeb4-dda74273f5ea",
   "metadata": {},
   "source": [
    "Nota-se que o resultado é desbalanceado"
   ]
  },
  {
   "cell_type": "code",
   "execution_count": 8,
   "id": "138cbc06-70f7-4393-8ba4-afb6d012c5b7",
   "metadata": {
    "tags": []
   },
   "outputs": [
    {
     "data": {
      "text/plain": [
       "Texto       0\n",
       "Ementa      0\n",
       "Vereador    0\n",
       "Data        0\n",
       "Nota        0\n",
       "isUtil      0\n",
       "dtype: int64"
      ]
     },
     "execution_count": 8,
     "metadata": {},
     "output_type": "execute_result"
    }
   ],
   "source": [
    "# Verificando se base de dados tem valores ausentes\n",
    "df.isna().sum()"
   ]
  },
  {
   "cell_type": "markdown",
   "id": "81f9abda-1477-4d3d-9407-0172382e427c",
   "metadata": {},
   "source": [
    "## Processamento de texto: remoção de palavras irrelevantes e stemming\n",
    "\n",
    "Remoção de algumas das palavras irrelevantes, stemming nos dados de texto.<br>\n",
    "Normalização dos dados para reduzir a quantidade de informações diferentes com as quais é preciso lidar.\n",
    "\n",
    "Bilioteca utilizada é o [nltk](https://www.nltk.org/)\n",
    "\n",
    "- **punkt** é um tokenizador de frases.\n",
    "- **stopwords** apresenta uma lista de palavras irrelevantes que você pode usar."
   ]
  },
  {
   "cell_type": "code",
   "execution_count": 9,
   "id": "8ca554f6-068f-47a5-8705-285098e7cd1a",
   "metadata": {
    "tags": []
   },
   "outputs": [],
   "source": [
    "#!pip install --upgrade nltk"
   ]
  },
  {
   "cell_type": "code",
   "execution_count": 10,
   "id": "e5516712-d9db-4e04-8fc3-a327f94b655c",
   "metadata": {
    "tags": []
   },
   "outputs": [
    {
     "name": "stderr",
     "output_type": "stream",
     "text": [
      "[nltk_data] Downloading package punkt to /home/ec2-user/nltk_data...\n",
      "[nltk_data]   Unzipping tokenizers/punkt.zip.\n",
      "[nltk_data] Downloading package stopwords to\n",
      "[nltk_data]     /home/ec2-user/nltk_data...\n",
      "[nltk_data]   Unzipping corpora/stopwords.zip.\n"
     ]
    },
    {
     "data": {
      "text/plain": [
       "True"
      ]
     },
     "execution_count": 10,
     "metadata": {},
     "output_type": "execute_result"
    }
   ],
   "source": [
    "# Install the library and functions\n",
    "import nltk\n",
    "nltk.download('punkt')\n",
    "nltk.download('stopwords')"
   ]
  },
  {
   "cell_type": "markdown",
   "id": "f76d003b-099c-4bf3-9209-d5e6e529eb67",
   "metadata": {},
   "source": [
    "Na seção a seguir, você criará os processos para remover as palavras irrelevantes e limpar o texto. A biblioteca Natural Language Toolkit (NLTK) oferece uma lista de palavras irrelevantes comuns. Você usará a lista, mas primeiro removerá algumas palavras dela. As palavras irrelevantes mantidas no texto são úteis para identificar o sentimento."
   ]
  },
  {
   "cell_type": "code",
   "execution_count": 11,
   "id": "e56fb012-51c5-4e5e-9452-1ab883cddb74",
   "metadata": {
    "tags": []
   },
   "outputs": [],
   "source": [
    "import nltk, re\n",
    "from nltk.corpus import stopwords\n",
    "from nltk.stem import SnowballStemmer\n",
    "from nltk.tokenize import word_tokenize\n",
    "\n",
    "# Get a list of stopwords from the NLTK library\n",
    "stop = stopwords.words('portuguese')\n",
    "\n",
    "# New stopword list\n",
    "# stopwords = [word for word in stop if word not in excluding]\n",
    "stopwords = [word for word in stop]\n",
    "# stopwords = stopwords.append(\"Art\")\n"
   ]
  },
  {
   "cell_type": "code",
   "execution_count": 12,
   "id": "e1a3b80e-095f-4cf0-b022-70664d1a35da",
   "metadata": {
    "tags": []
   },
   "outputs": [
    {
     "data": {
      "text/plain": [
       "['a',\n",
       " 'à',\n",
       " 'ao',\n",
       " 'aos',\n",
       " 'aquela',\n",
       " 'aquelas',\n",
       " 'aquele',\n",
       " 'aqueles',\n",
       " 'aquilo',\n",
       " 'as',\n",
       " 'às',\n",
       " 'até',\n",
       " 'com',\n",
       " 'como',\n",
       " 'da',\n",
       " 'das',\n",
       " 'de',\n",
       " 'dela',\n",
       " 'delas',\n",
       " 'dele',\n",
       " 'deles',\n",
       " 'depois',\n",
       " 'do',\n",
       " 'dos',\n",
       " 'e',\n",
       " 'é',\n",
       " 'ela',\n",
       " 'elas',\n",
       " 'ele',\n",
       " 'eles',\n",
       " 'em',\n",
       " 'entre',\n",
       " 'era',\n",
       " 'eram',\n",
       " 'éramos',\n",
       " 'essa',\n",
       " 'essas',\n",
       " 'esse',\n",
       " 'esses',\n",
       " 'esta',\n",
       " 'está',\n",
       " 'estamos',\n",
       " 'estão',\n",
       " 'estar',\n",
       " 'estas',\n",
       " 'estava',\n",
       " 'estavam',\n",
       " 'estávamos',\n",
       " 'este',\n",
       " 'esteja',\n",
       " 'estejam',\n",
       " 'estejamos',\n",
       " 'estes',\n",
       " 'esteve',\n",
       " 'estive',\n",
       " 'estivemos',\n",
       " 'estiver',\n",
       " 'estivera',\n",
       " 'estiveram',\n",
       " 'estivéramos',\n",
       " 'estiverem',\n",
       " 'estivermos',\n",
       " 'estivesse',\n",
       " 'estivessem',\n",
       " 'estivéssemos',\n",
       " 'estou',\n",
       " 'eu',\n",
       " 'foi',\n",
       " 'fomos',\n",
       " 'for',\n",
       " 'fora',\n",
       " 'foram',\n",
       " 'fôramos',\n",
       " 'forem',\n",
       " 'formos',\n",
       " 'fosse',\n",
       " 'fossem',\n",
       " 'fôssemos',\n",
       " 'fui',\n",
       " 'há',\n",
       " 'haja',\n",
       " 'hajam',\n",
       " 'hajamos',\n",
       " 'hão',\n",
       " 'havemos',\n",
       " 'haver',\n",
       " 'hei',\n",
       " 'houve',\n",
       " 'houvemos',\n",
       " 'houver',\n",
       " 'houvera',\n",
       " 'houverá',\n",
       " 'houveram',\n",
       " 'houvéramos',\n",
       " 'houverão',\n",
       " 'houverei',\n",
       " 'houverem',\n",
       " 'houveremos',\n",
       " 'houveria',\n",
       " 'houveriam',\n",
       " 'houveríamos',\n",
       " 'houvermos',\n",
       " 'houvesse',\n",
       " 'houvessem',\n",
       " 'houvéssemos',\n",
       " 'isso',\n",
       " 'isto',\n",
       " 'já',\n",
       " 'lhe',\n",
       " 'lhes',\n",
       " 'mais',\n",
       " 'mas',\n",
       " 'me',\n",
       " 'mesmo',\n",
       " 'meu',\n",
       " 'meus',\n",
       " 'minha',\n",
       " 'minhas',\n",
       " 'muito',\n",
       " 'na',\n",
       " 'não',\n",
       " 'nas',\n",
       " 'nem',\n",
       " 'no',\n",
       " 'nos',\n",
       " 'nós',\n",
       " 'nossa',\n",
       " 'nossas',\n",
       " 'nosso',\n",
       " 'nossos',\n",
       " 'num',\n",
       " 'numa',\n",
       " 'o',\n",
       " 'os',\n",
       " 'ou',\n",
       " 'para',\n",
       " 'pela',\n",
       " 'pelas',\n",
       " 'pelo',\n",
       " 'pelos',\n",
       " 'por',\n",
       " 'qual',\n",
       " 'quando',\n",
       " 'que',\n",
       " 'quem',\n",
       " 'são',\n",
       " 'se',\n",
       " 'seja',\n",
       " 'sejam',\n",
       " 'sejamos',\n",
       " 'sem',\n",
       " 'ser',\n",
       " 'será',\n",
       " 'serão',\n",
       " 'serei',\n",
       " 'seremos',\n",
       " 'seria',\n",
       " 'seriam',\n",
       " 'seríamos',\n",
       " 'seu',\n",
       " 'seus',\n",
       " 'só',\n",
       " 'somos',\n",
       " 'sou',\n",
       " 'sua',\n",
       " 'suas',\n",
       " 'também',\n",
       " 'te',\n",
       " 'tem',\n",
       " 'tém',\n",
       " 'temos',\n",
       " 'tenha',\n",
       " 'tenham',\n",
       " 'tenhamos',\n",
       " 'tenho',\n",
       " 'terá',\n",
       " 'terão',\n",
       " 'terei',\n",
       " 'teremos',\n",
       " 'teria',\n",
       " 'teriam',\n",
       " 'teríamos',\n",
       " 'teu',\n",
       " 'teus',\n",
       " 'teve',\n",
       " 'tinha',\n",
       " 'tinham',\n",
       " 'tínhamos',\n",
       " 'tive',\n",
       " 'tivemos',\n",
       " 'tiver',\n",
       " 'tivera',\n",
       " 'tiveram',\n",
       " 'tivéramos',\n",
       " 'tiverem',\n",
       " 'tivermos',\n",
       " 'tivesse',\n",
       " 'tivessem',\n",
       " 'tivéssemos',\n",
       " 'tu',\n",
       " 'tua',\n",
       " 'tuas',\n",
       " 'um',\n",
       " 'uma',\n",
       " 'você',\n",
       " 'vocês',\n",
       " 'vos']"
      ]
     },
     "execution_count": 12,
     "metadata": {},
     "output_type": "execute_result"
    }
   ],
   "source": [
    "stopwords"
   ]
  },
  {
   "cell_type": "markdown",
   "id": "8b39670e-4059-4d19-905c-0bd717bfed3d",
   "metadata": {},
   "source": [
    "O stemizador snowball stemiza as palavras. Por exemplo, o verbo “caminhando” será transformado em “caminh”."
   ]
  },
  {
   "cell_type": "code",
   "execution_count": 13,
   "id": "6165484f-e418-4213-869c-729119936cdc",
   "metadata": {
    "tags": []
   },
   "outputs": [],
   "source": [
    "snow = SnowballStemmer('portuguese')"
   ]
  },
  {
   "cell_type": "markdown",
   "id": "632f92d5-7b09-4c9f-a63e-c879f3564e79",
   "metadata": {},
   "source": [
    "É preciso realizar outras tarefas de normalização nos dados. A seguinte função:\n",
    "\n",
    "- Substitui todos os valores ausentes por uma string vazia\n",
    "- Converte o texto em letras minúsculas\n",
    "- Remove espaços em branco à esquerda ou à direita\n",
    "- Remove espaços e recuos extras\n",
    "- Remove marcações HTML\n",
    "\n",
    "No loop  `for`, todas as palavras que __NOT__ são numéricas, têm mais de dois caracteres e não estão na lista de palavras irrelevantes são mantidas e retornadas."
   ]
  },
  {
   "cell_type": "code",
   "execution_count": 14,
   "id": "c548983b-4a58-4d7d-8ce6-f91b1f23dcf0",
   "metadata": {
    "tags": []
   },
   "outputs": [],
   "source": [
    "def process_text(texts):\n",
    "    final_text_list=[]\n",
    "    for sent in texts:\n",
    "\n",
    "        # Check if the sentence is a missing value\n",
    "        if isinstance(sent, str) == False:\n",
    "            sent = ''\n",
    "  \n",
    "        filtered_sentence=[]\n",
    "        \n",
    "        sent = sent.lower() # Lowercase \n",
    "        sent = sent.strip() # Remove leading/trailing whitespace\n",
    "        sent = re.sub('\\s+', ' ', sent) # Remove extra space and tabs\n",
    "        sent = re.compile('<.*?>').sub('', sent) # Remove HTML tags/markups:\n",
    "        \n",
    "        for w in word_tokenize(sent):\n",
    "            # Applying some custom filtering here, feel free to try different things\n",
    "            # Check if it is not numeric and its length>2 and not in stopwords\n",
    "            if(not w.isnumeric()) and (len(w)>2) and (w not in stopwords) :  \n",
    "                # Stem and add to filtered list\n",
    "                filtered_sentence.append(snow.stem(w))\n",
    "        final_string = \" \".join(filtered_sentence) # Final string of cleaned words\n",
    " \n",
    "        final_text_list.append(final_string)\n",
    "        \n",
    "    return final_text_list"
   ]
  },
  {
   "cell_type": "code",
   "execution_count": 15,
   "id": "18cacd21-61ea-4a7c-ab66-5ac182ecbbcf",
   "metadata": {
    "tags": []
   },
   "outputs": [],
   "source": [
    "# print('Processando a coluna Texto')\n",
    "# df['Texto'] = process_text(df['Texto'].tolist())\n",
    "# df['Texto']"
   ]
  },
  {
   "cell_type": "code",
   "execution_count": 16,
   "id": "4c0aafe9-1ddb-4761-b152-c3c01aeebb8e",
   "metadata": {
    "tags": []
   },
   "outputs": [],
   "source": [
    "# print('Processando a coluna Ementa')\n",
    "# df['Ementa'] = process_text(df['Ementa'].tolist())\n",
    "# df['Ementa']"
   ]
  },
  {
   "cell_type": "code",
   "execution_count": 17,
   "id": "7c466aef-881c-49e9-a849-03ed3b52babf",
   "metadata": {
    "tags": []
   },
   "outputs": [],
   "source": [
    "# df.head(5)"
   ]
  },
  {
   "cell_type": "markdown",
   "id": "ac5dfb91-74f8-434c-8ffe-44f8ade4e317",
   "metadata": {},
   "source": [
    "## Divisão dos dados para treinamento, validação e teste\n",
    "\n",
    "\n",
    "Utilizando a função sklearn [__train_test_split()__](https://scikit-learn.org/stable/modules/generated/sklearn.model_selection.train_test_split.html) a fim de dividir o conjunto de dados para treinamento (80%), validação (10%) e teste (10%).\n"
   ]
  },
  {
   "cell_type": "code",
   "execution_count": 18,
   "id": "f43b2fdd-ac20-41ed-8985-9d8cbc795767",
   "metadata": {
    "tags": []
   },
   "outputs": [],
   "source": [
    "from sklearn.model_selection import train_test_split\n",
    "\n",
    "X_train, X_val, y_train, y_val = train_test_split(df[['Texto', 'Ementa', 'Data', 'Nota']],\n",
    "                                                  df['isUtil'],\n",
    "                                                  test_size=0.20,\n",
    "                                                  shuffle=True,\n",
    "                                                  random_state=324\n",
    "                                                 )\n",
    "\n",
    "X_val, X_test, y_val, y_test = train_test_split(X_val,\n",
    "                                                y_val,\n",
    "                                                test_size=0.5,\n",
    "                                                shuffle=True,\n",
    "                                                random_state=324)"
   ]
  },
  {
   "cell_type": "markdown",
   "id": "39ee9e33-23b8-41d0-b19a-a8902cf9fc28",
   "metadata": {},
   "source": [
    "Com o conjunto de dados dividido, a função  `process_text` definida acima em cada um dos recursos de texto nos conjuntos de treinamento, teste e validação será executada"
   ]
  },
  {
   "cell_type": "code",
   "execution_count": 19,
   "id": "1f4d0704-2cc7-4d30-a7fd-d8e60a2d0bbc",
   "metadata": {
    "tags": []
   },
   "outputs": [
    {
     "name": "stdout",
     "output_type": "stream",
     "text": [
      "Processand a coluna Texto\n",
      "Processando a coluna Ementa\n"
     ]
    }
   ],
   "source": [
    "print('Processand a coluna Texto')\n",
    "X_train['Texto'] = process_text(X_train['Texto'].tolist())\n",
    "X_val['Texto'] = process_text(X_val['Texto'].tolist())\n",
    "X_test['Texto'] = process_text(X_test['Texto'].tolist())\n",
    "\n",
    "print('Processando a coluna Ementa')\n",
    "X_train['Ementa'] = process_text(X_train['Ementa'].tolist())\n",
    "X_val['Ementa'] = process_text(X_val['Ementa'].tolist())\n",
    "X_test['Ementa'] = process_text(X_test['Ementa'].tolist())"
   ]
  },
  {
   "cell_type": "code",
   "execution_count": 20,
   "id": "8b421c55-beda-4de4-a92a-8e5336c56dc6",
   "metadata": {
    "tags": []
   },
   "outputs": [
    {
     "data": {
      "text/html": [
       "<div>\n",
       "<style scoped>\n",
       "    .dataframe tbody tr th:only-of-type {\n",
       "        vertical-align: middle;\n",
       "    }\n",
       "\n",
       "    .dataframe tbody tr th {\n",
       "        vertical-align: top;\n",
       "    }\n",
       "\n",
       "    .dataframe thead th {\n",
       "        text-align: right;\n",
       "    }\n",
       "</style>\n",
       "<table border=\"1\" class=\"dataframe\">\n",
       "  <thead>\n",
       "    <tr style=\"text-align: right;\">\n",
       "      <th></th>\n",
       "      <th>Texto</th>\n",
       "      <th>Ementa</th>\n",
       "      <th>Data</th>\n",
       "      <th>Nota</th>\n",
       "    </tr>\n",
       "  </thead>\n",
       "  <tbody>\n",
       "    <tr>\n",
       "      <th>23</th>\n",
       "      <td>art lei objet implant post colet totens lix toxic supermerc hipermerc campin art denomina-s lix toxic domicili óle orig animal vegetal parágraf unic permit entreg produt garraf pet art remoçã destin material colet fic sob respons prefeitur municipal campin pod autoriz remoçã através ongs cooper empres especializ estatut tal final especif devid cadastr junt secret mei ambient art cumpriment dest lei sujeit infrator seguint penal mult quinhent mil ufic unidad fisc municípi campin mult diár duzent ufic unidad fisc municípi campin adequ lei art pod execut municipal regulament lei praz sessent dias cont part dat public revog disposiçõ contrári</td>\n",
       "      <td>dispõ sobr obrigatoriedad implant post colet óle cozinh supermerc hipermerc municípi campin outr provident</td>\n",
       "      <td>43500</td>\n",
       "      <td>6</td>\n",
       "    </tr>\n",
       "    <tr>\n",
       "      <th>10</th>\n",
       "      <td>câm municipal aprov prefeit municipal campin sancion promulg seguint lei art fic estabelec descont cinquent cent valor impost sobr propriedad predial territorial urban ipt imóv edific ating enchent inund alag caus chuv municípi campin art considera-s imóv ating enchent inund elou alag edific sofr dan físic instal elétr hidrául decorrent invasã irresist águ cerc direit vir morador além dan caus móv eletrodomést resident ating art benefíci acord propost val imóv legaliz construíd dentr parâmetr leg respeit norm exig arta descont conced relaçã impost dev ano/exercíci seguint ocorrent prejuíz decorrent enchent inund elou alag descont apen sobr impost sobr acessóri descont ipt acumul dem descont isençõ conced lei 11.111 dezembr 2001. art descont iptu conced mediant requer interess devid instruíd prov confirm dan dirig secret municipal financ efet avali consider prov instruçã ped laud defes civil fot dat comprov ambient boletim ocorrent notíc veicul mei impress eletrôn declar express dan dem document faz necessári requer trat present lei dev respond decisã concess denegatór bas fundament probatóri apresent iii requer individual cad situaçã respeit praz sessent dias protocol após event danos hipótes event danos ocorr vez durant ano descont cumul art despes decorrent execu dest lei corr cont dotaçõ orçamentár própr suplement necessári art lei entra vigor exercíci seguint dat public</td>\n",
       "      <td>dispõ sobr concessã descont valor impost sobr propriedad predial territorial urban -iptu imóv edific ating enchent inund alag caus chuv municípi campin</td>\n",
       "      <td>43500</td>\n",
       "      <td>7</td>\n",
       "    </tr>\n",
       "  </tbody>\n",
       "</table>\n",
       "</div>"
      ],
      "text/plain": [
       "                                                                                                                                                                                                                                                                                                                                                                                                                                                                                                                                                                                                                                                                                                                                                                                                                                                                                                                                                                                                                                                                                                                                                                                                                                                                                                                                                                                                                                                   Texto  \\\n",
       "23                                                                                                                                                                                                                                                                                                                                                                                                                                                                                                                                                                                                                                                                                                                                                                                art lei objet implant post colet totens lix toxic supermerc hipermerc campin art denomina-s lix toxic domicili óle orig animal vegetal parágraf unic permit entreg produt garraf pet art remoçã destin material colet fic sob respons prefeitur municipal campin pod autoriz remoçã através ongs cooper empres especializ estatut tal final especif devid cadastr junt secret mei ambient art cumpriment dest lei sujeit infrator seguint penal mult quinhent mil ufic unidad fisc municípi campin mult diár duzent ufic unidad fisc municípi campin adequ lei art pod execut municipal regulament lei praz sessent dias cont part dat public revog disposiçõ contrári   \n",
       "10  câm municipal aprov prefeit municipal campin sancion promulg seguint lei art fic estabelec descont cinquent cent valor impost sobr propriedad predial territorial urban ipt imóv edific ating enchent inund alag caus chuv municípi campin art considera-s imóv ating enchent inund elou alag edific sofr dan físic instal elétr hidrául decorrent invasã irresist águ cerc direit vir morador além dan caus móv eletrodomést resident ating art benefíci acord propost val imóv legaliz construíd dentr parâmetr leg respeit norm exig arta descont conced relaçã impost dev ano/exercíci seguint ocorrent prejuíz decorrent enchent inund elou alag descont apen sobr impost sobr acessóri descont ipt acumul dem descont isençõ conced lei 11.111 dezembr 2001. art descont iptu conced mediant requer interess devid instruíd prov confirm dan dirig secret municipal financ efet avali consider prov instruçã ped laud defes civil fot dat comprov ambient boletim ocorrent notíc veicul mei impress eletrôn declar express dan dem document faz necessári requer trat present lei dev respond decisã concess denegatór bas fundament probatóri apresent iii requer individual cad situaçã respeit praz sessent dias protocol após event danos hipótes event danos ocorr vez durant ano descont cumul art despes decorrent execu dest lei corr cont dotaçõ orçamentár própr suplement necessári art lei entra vigor exercíci seguint dat public   \n",
       "\n",
       "                                                                                                                                                     Ementa  \\\n",
       "23                                               dispõ sobr obrigatoriedad implant post colet óle cozinh supermerc hipermerc municípi campin outr provident   \n",
       "10  dispõ sobr concessã descont valor impost sobr propriedad predial territorial urban -iptu imóv edific ating enchent inund alag caus chuv municípi campin   \n",
       "\n",
       "     Data  Nota  \n",
       "23  43500     6  \n",
       "10  43500     7  "
      ]
     },
     "execution_count": 20,
     "metadata": {},
     "output_type": "execute_result"
    }
   ],
   "source": [
    "X_train.head(2)"
   ]
  },
  {
   "cell_type": "code",
   "execution_count": 21,
   "id": "e69baf3b-7273-4229-b796-fb5120f45410",
   "metadata": {
    "tags": []
   },
   "outputs": [
    {
     "data": {
      "text/html": [
       "<div>\n",
       "<style scoped>\n",
       "    .dataframe tbody tr th:only-of-type {\n",
       "        vertical-align: middle;\n",
       "    }\n",
       "\n",
       "    .dataframe tbody tr th {\n",
       "        vertical-align: top;\n",
       "    }\n",
       "\n",
       "    .dataframe thead th {\n",
       "        text-align: right;\n",
       "    }\n",
       "</style>\n",
       "<table border=\"1\" class=\"dataframe\">\n",
       "  <thead>\n",
       "    <tr style=\"text-align: right;\">\n",
       "      <th></th>\n",
       "      <th>Texto</th>\n",
       "      <th>Ementa</th>\n",
       "      <th>Data</th>\n",
       "      <th>Nota</th>\n",
       "    </tr>\n",
       "  </thead>\n",
       "  <tbody>\n",
       "    <tr>\n",
       "      <th>43</th>\n",
       "      <td>art fic instituíd municípi campin mês fevereir violet dedic realiz campanh erradic analfabet campin art mês fevereir violet realiz busc ativ pesso oportun frequent sal aul temp propíci art lei entra vigor dat public</td>\n",
       "      <td>institu mês fevereir violet dedic realiz campanh erradic analfabet campin</td>\n",
       "      <td>43516</td>\n",
       "      <td>10</td>\n",
       "    </tr>\n",
       "    <tr>\n",
       "      <th>36</th>\n",
       "      <td>art fic denomin centr educ infantil pastor billy grah centr educ infantil situ rua juvenal oliveir bairr jardim doming art lei entra vigor dat public</td>\n",
       "      <td>denomin centr educ infantil pastor billy grah centr educ infantil municípi campin</td>\n",
       "      <td>43509</td>\n",
       "      <td>9</td>\n",
       "    </tr>\n",
       "  </tbody>\n",
       "</table>\n",
       "</div>"
      ],
      "text/plain": [
       "                                                                                                                                                                                                                      Texto  \\\n",
       "43  art fic instituíd municípi campin mês fevereir violet dedic realiz campanh erradic analfabet campin art mês fevereir violet realiz busc ativ pesso oportun frequent sal aul temp propíci art lei entra vigor dat public   \n",
       "36                                                                    art fic denomin centr educ infantil pastor billy grah centr educ infantil situ rua juvenal oliveir bairr jardim doming art lei entra vigor dat public   \n",
       "\n",
       "                                                                               Ementa  \\\n",
       "43          institu mês fevereir violet dedic realiz campanh erradic analfabet campin   \n",
       "36  denomin centr educ infantil pastor billy grah centr educ infantil municípi campin   \n",
       "\n",
       "     Data  Nota  \n",
       "43  43516    10  \n",
       "36  43509     9  "
      ]
     },
     "execution_count": 21,
     "metadata": {},
     "output_type": "execute_result"
    }
   ],
   "source": [
    "X_val.head(2)"
   ]
  },
  {
   "cell_type": "code",
   "execution_count": 22,
   "id": "12aec93b-7e8a-446b-86fc-a260889dbca6",
   "metadata": {
    "tags": []
   },
   "outputs": [
    {
     "data": {
      "text/html": [
       "<div>\n",
       "<style scoped>\n",
       "    .dataframe tbody tr th:only-of-type {\n",
       "        vertical-align: middle;\n",
       "    }\n",
       "\n",
       "    .dataframe tbody tr th {\n",
       "        vertical-align: top;\n",
       "    }\n",
       "\n",
       "    .dataframe thead th {\n",
       "        text-align: right;\n",
       "    }\n",
       "</style>\n",
       "<table border=\"1\" class=\"dataframe\">\n",
       "  <thead>\n",
       "    <tr style=\"text-align: right;\">\n",
       "      <th></th>\n",
       "      <th>Texto</th>\n",
       "      <th>Ementa</th>\n",
       "      <th>Data</th>\n",
       "      <th>Nota</th>\n",
       "    </tr>\n",
       "  </thead>\n",
       "  <tbody>\n",
       "    <tr>\n",
       "      <th>0</th>\n",
       "      <td>art fic denomin prac sandr hitom takahash sistem recrei quart códig cartográf 3234.6105.0001 áre 168,00m loteament cidad universitár campineir distrit barã gerald situ aven dr. rom tórtim aven loteament art lei entra vigor dat public</td>\n",
       "      <td>denomin prac sandr hitom takahash sistem recrei municípi campin</td>\n",
       "      <td>43500</td>\n",
       "      <td>9</td>\n",
       "    </tr>\n",
       "    <tr>\n",
       "      <th>30</th>\n",
       "      <td>art fic assegur crianc adolescent cuj pai mã respons pesso deficient idad igual superior sessent anos prioridad vag unidad red públic municipal ensin próxim resident fim dispost caput dest artig pesso deficient idad igual superior sessent anos dev solicit cadastr diret unidad red públic municipal ensin inter famíl mediant apresent document identific crianc adolescent document pai mã respons atest condiçã pesso deficient idad superior sessent anos iii comprov resident cas respons pais crianc adolescent necessári apresent certidã comprov guard art despes decorrent implant dest lei corr cont dotaçõ orçamentár própr suplement necessári art lei entra vigor dat public</td>\n",
       "      <td>assegur crianc adolescent cuj pai mã respons pesso deficient idad igual superior sessent anos prioridad vag unidad red públic municipal ensin próxim resident</td>\n",
       "      <td>43502</td>\n",
       "      <td>7</td>\n",
       "    </tr>\n",
       "  </tbody>\n",
       "</table>\n",
       "</div>"
      ],
      "text/plain": [
       "                                                                                                                                                                                                                                                                                                                                                                                                                                                                                                                                                                                                                                                                                             Texto  \\\n",
       "0                                                                                                                                                                                                                                                                                                                                                                                                                                                        art fic denomin prac sandr hitom takahash sistem recrei quart códig cartográf 3234.6105.0001 áre 168,00m loteament cidad universitár campineir distrit barã gerald situ aven dr. rom tórtim aven loteament art lei entra vigor dat public   \n",
       "30  art fic assegur crianc adolescent cuj pai mã respons pesso deficient idad igual superior sessent anos prioridad vag unidad red públic municipal ensin próxim resident fim dispost caput dest artig pesso deficient idad igual superior sessent anos dev solicit cadastr diret unidad red públic municipal ensin inter famíl mediant apresent document identific crianc adolescent document pai mã respons atest condiçã pesso deficient idad superior sessent anos iii comprov resident cas respons pais crianc adolescent necessári apresent certidã comprov guard art despes decorrent implant dest lei corr cont dotaçõ orçamentár própr suplement necessári art lei entra vigor dat public   \n",
       "\n",
       "                                                                                                                                                           Ementa  \\\n",
       "0                                                                                                 denomin prac sandr hitom takahash sistem recrei municípi campin   \n",
       "30  assegur crianc adolescent cuj pai mã respons pesso deficient idad igual superior sessent anos prioridad vag unidad red públic municipal ensin próxim resident   \n",
       "\n",
       "     Data  Nota  \n",
       "0   43500     9  \n",
       "30  43502     7  "
      ]
     },
     "execution_count": 22,
     "metadata": {},
     "output_type": "execute_result"
    }
   ],
   "source": [
    "X_test.head(2)"
   ]
  },
  {
   "cell_type": "markdown",
   "id": "b1c1fad3-c097-4316-acc5-c528ee6756aa",
   "metadata": {},
   "source": [
    "## Processamento de dados com pipelines e um ColumnTransformer\n",
    "\n",
    "Geralmente, você precisa realizar muitas tarefas nos dados antes de usá-los para treinar um modelo. Essas etapas também devem ser feitas em todos os dados usados para inferência após a implementação do modelo. Uma boa forma de organizar as etapas é definir um _pipeline_. Um pipeline é uma coleção de tarefas de processamento que serão realizadas nos dados. É possível criar pipelines diferentes para processar campos diferentes. Como você está trabalhando com dados numéricos e de texto, defina os seguintes pipelines:\n",
    "\n",
    "   * Para o pipeline de recursos numéricos, o __numerical_processor__ usa um MinMaxScaler. (Não é necessário dimensionar os recursos ao usar árvores de decisão, mas é importante fazer isso para saber como usar mais transformações de dados.) Caso você queira realizar diferentes tipos de processamento em diferentes recursos numéricos, crie pipelines diferentes, como os que são mostrados para os dois recursos de texto.\n",
    "   * Para o pipeline de recursos de texto, o __text_processor__ usa  `CountVectorizer()` nos campos de texto.\n",
    "   \n",
    "As preparações seletivas dos recursos do conjunto de dados são reunidas em um ColumnTransformer coletivo, que será usado em um pipeline com um estimador. Esse processo garante que as transformações sejam realizadas automaticamente nos dados brutos quando você ajusta o modelo ou faz previsões. (Por exemplo, ao avaliar o modelo em um conjunto de dados de validação por meio da validação cruzada ou ao fazer previsões em um conjunto de dados de teste no futuro.)"
   ]
  },
  {
   "cell_type": "code",
   "execution_count": 23,
   "id": "6de53b06-5310-4563-bfe3-5c9ee7396030",
   "metadata": {
    "tags": []
   },
   "outputs": [],
   "source": [
    "# Grab model features/inputs and target/output\n",
    "numerical_features = ['Data',\n",
    "                      'Nota']\n",
    "\n",
    "text_features = ['Ementa',\n",
    "                 'Texto']\n",
    "\n",
    "model_features = numerical_features + text_features\n",
    "model_target = 'isUtil'"
   ]
  },
  {
   "cell_type": "code",
   "execution_count": 24,
   "id": "8b93d89d-3b6e-4a73-b300-13abd331cf82",
   "metadata": {
    "tags": []
   },
   "outputs": [
    {
     "name": "stdout",
     "output_type": "stream",
     "text": [
      "Datasets shapes before processing:  (41, 4) (5, 4) (6, 4)\n",
      "Datasets shapes after processing:  (41, 302) (5, 302) (6, 302)\n"
     ]
    }
   ],
   "source": [
    "from sklearn.impute import SimpleImputer\n",
    "from sklearn.preprocessing import MinMaxScaler\n",
    "from sklearn.feature_extraction.text import CountVectorizer\n",
    "from sklearn.pipeline import Pipeline\n",
    "from sklearn.compose import ColumnTransformer\n",
    "\n",
    "### COLUMN_TRANSFORMER ###\n",
    "##########################\n",
    "\n",
    "# Preprocess the numerical features\n",
    "numerical_processor = Pipeline([\n",
    "    ('num_imputer', SimpleImputer(strategy='mean')),\n",
    "    ('num_scaler', MinMaxScaler()) \n",
    "                                ])\n",
    "# Preprocess 1st text feature (larger vocabulary)\n",
    "text_processor_0 = Pipeline([\n",
    "    ('text_vect_0', CountVectorizer(binary=True, max_features=250))\n",
    "                                ])\n",
    "\n",
    "# Preprocess 2nd text feature \n",
    "text_precessor_1 = Pipeline([\n",
    "    ('text_vect_1', CountVectorizer(binary=True, max_features=50))\n",
    "                                ])\n",
    "\n",
    "# Combine all data preprocessors from above (add more, if you choose to define more!)\n",
    "# For each processor/step specify: a name, the actual process, and finally the features to be processed\n",
    "data_preprocessor = ColumnTransformer([\n",
    "    ('numerical_pre', numerical_processor, numerical_features),\n",
    "    ('text_pre_0', text_processor_0, text_features[0]),\n",
    "    ('text_pre_1', text_precessor_1, text_features[1])\n",
    "                                    ]) \n",
    "\n",
    "### DATA PREPROCESSING ###\n",
    "##########################\n",
    "\n",
    "print('Datasets shapes before processing: ', X_train.shape, X_val.shape, X_test.shape)\n",
    "\n",
    "X_train = data_preprocessor.fit_transform(X_train).toarray()\n",
    "X_val = data_preprocessor.transform(X_val).toarray()\n",
    "X_test = data_preprocessor.transform(X_test).toarray()\n",
    "\n",
    "print('Datasets shapes after processing: ', X_train.shape, X_val.shape, X_test.shape)"
   ]
  },
  {
   "cell_type": "markdown",
   "id": "9a285f67-ebd3-4920-bdef-ead457738d48",
   "metadata": {},
   "source": [
    "Observe que o número de recursos nos conjuntos de dados passou de 4 para 302."
   ]
  },
  {
   "cell_type": "code",
   "execution_count": 25,
   "id": "a5664885-91d1-414c-bb99-27e46e553ec2",
   "metadata": {
    "tags": []
   },
   "outputs": [
    {
     "name": "stdout",
     "output_type": "stream",
     "text": [
      "[0.         0.46153846 0.         0.         0.         0.\n",
      " 0.         0.         0.         0.         0.         0.\n",
      " 0.         0.         0.         0.         0.         0.\n",
      " 0.         0.         1.         0.         0.         0.\n",
      " 0.         0.         0.         0.         0.         0.\n",
      " 0.         0.         0.         0.         0.         0.\n",
      " 0.         0.         1.         0.         0.         0.\n",
      " 0.         0.         0.         0.         0.         0.\n",
      " 1.         0.         0.         0.         0.         0.\n",
      " 0.         0.         1.         0.         0.         1.\n",
      " 0.         0.         0.         0.         0.         0.\n",
      " 0.         0.         1.         0.         0.         0.\n",
      " 0.         0.         0.         0.         0.         0.\n",
      " 0.         0.         0.         0.         0.         0.\n",
      " 0.         0.         0.         0.         0.         0.\n",
      " 1.         0.         0.         0.         0.         0.\n",
      " 0.         0.         0.         0.         1.         0.\n",
      " 0.         0.         1.         0.         0.         1.\n",
      " 0.         0.         0.         0.         0.         1.\n",
      " 1.         0.         0.         0.         0.         0.\n",
      " 0.         0.         0.         1.         1.         0.\n",
      " 0.         0.         0.         0.         0.         0.\n",
      " 0.         0.         0.         0.         0.         0.\n",
      " 0.         0.         0.         0.         0.         0.\n",
      " 0.         1.         0.         0.         0.         0.\n",
      " 0.         0.         0.         0.         0.         0.\n",
      " 0.         0.         0.         0.         0.         0.\n",
      " 0.         0.         0.         0.         0.         0.\n",
      " 0.         0.         0.         0.         1.         0.\n",
      " 0.         0.         0.         0.         0.         0.\n",
      " 1.         0.         0.         0.         0.         0.\n",
      " 0.         0.         0.         0.         0.         0.\n",
      " 0.         0.         0.         0.         0.         0.\n",
      " 0.         0.         0.         0.         0.         0.\n",
      " 0.         0.         0.         0.         1.         0.\n",
      " 0.         0.         0.         0.         0.         0.\n",
      " 0.         0.         0.         1.         0.         0.\n",
      " 0.         0.         0.         0.         0.         0.\n",
      " 0.         1.         0.         0.         0.         0.\n",
      " 0.         1.         0.         0.         0.         0.\n",
      " 0.         0.         0.         0.         0.         0.\n",
      " 0.         0.         0.         0.         0.         0.\n",
      " 0.         1.         1.         0.         0.         1.\n",
      " 0.         1.         1.         1.         0.         1.\n",
      " 1.         1.         0.         0.         1.         1.\n",
      " 1.         0.         1.         0.         1.         0.\n",
      " 0.         0.         1.         1.         1.         0.\n",
      " 1.         0.         0.         0.         0.         0.\n",
      " 1.         1.         0.         0.         0.         1.\n",
      " 0.         1.         0.         0.         1.         1.\n",
      " 0.         0.        ]\n"
     ]
    }
   ],
   "source": [
    "print(X_train[1])"
   ]
  },
  {
   "cell_type": "code",
   "execution_count": 26,
   "id": "fb8cfc4a-ab35-45c2-b9d2-23c8d563448a",
   "metadata": {
    "tags": []
   },
   "outputs": [
    {
     "name": "stdout",
     "output_type": "stream",
     "text": [
      "[0.3        0.61538462 0.         0.         0.         0.\n",
      " 0.         0.         0.         0.         0.         0.\n",
      " 0.         0.         0.         0.         0.         0.\n",
      " 0.         0.         0.         0.         0.         0.\n",
      " 0.         0.         0.         0.         0.         0.\n",
      " 0.         0.         0.         0.         0.         0.\n",
      " 0.         0.         0.         0.         0.         0.\n",
      " 0.         0.         0.         0.         0.         0.\n",
      " 1.         0.         0.         0.         0.         0.\n",
      " 0.         0.         0.         0.         1.         0.\n",
      " 0.         0.         0.         0.         0.         0.\n",
      " 0.         0.         0.         0.         0.         0.\n",
      " 0.         0.         0.         0.         0.         0.\n",
      " 0.         0.         0.         0.         0.         0.\n",
      " 0.         0.         0.         0.         0.         1.\n",
      " 0.         0.         0.         0.         0.         0.\n",
      " 0.         0.         0.         0.         0.         0.\n",
      " 0.         0.         0.         0.         0.         0.\n",
      " 0.         0.         0.         0.         0.         0.\n",
      " 0.         0.         0.         0.         0.         0.\n",
      " 0.         0.         0.         0.         0.         0.\n",
      " 0.         0.         0.         0.         0.         0.\n",
      " 0.         0.         0.         0.         0.         0.\n",
      " 0.         0.         0.         0.         0.         0.\n",
      " 0.         1.         0.         0.         0.         0.\n",
      " 0.         0.         0.         0.         0.         0.\n",
      " 0.         0.         0.         0.         0.         0.\n",
      " 0.         0.         0.         0.         0.         0.\n",
      " 0.         0.         0.         0.         0.         0.\n",
      " 0.         0.         0.         0.         0.         0.\n",
      " 0.         0.         0.         0.         0.         0.\n",
      " 0.         0.         0.         0.         0.         0.\n",
      " 0.         0.         0.         0.         0.         0.\n",
      " 0.         0.         0.         0.         0.         0.\n",
      " 0.         0.         0.         0.         0.         0.\n",
      " 0.         0.         0.         0.         0.         0.\n",
      " 0.         0.         0.         0.         0.         0.\n",
      " 0.         0.         0.         0.         0.         0.\n",
      " 0.         0.         0.         0.         0.         0.\n",
      " 0.         0.         0.         0.         0.         0.\n",
      " 0.         0.         0.         0.         0.         0.\n",
      " 0.         0.         0.         0.         0.         0.\n",
      " 0.         1.         0.         0.         0.         0.\n",
      " 0.         0.         1.         0.         1.         0.\n",
      " 0.         0.         0.         0.         0.         1.\n",
      " 0.         0.         1.         0.         1.         0.\n",
      " 0.         0.         0.         0.         0.         0.\n",
      " 0.         0.         0.         0.         0.         0.\n",
      " 0.         1.         0.         0.         1.         0.\n",
      " 0.         0.         0.         0.         0.         1.\n",
      " 0.         0.        ]\n"
     ]
    }
   ],
   "source": [
    "print(X_val[1])"
   ]
  },
  {
   "cell_type": "code",
   "execution_count": 27,
   "id": "d948c73d-bdc0-4666-92a8-ca651f366fc3",
   "metadata": {
    "tags": []
   },
   "outputs": [
    {
     "name": "stdout",
     "output_type": "stream",
     "text": [
      "[0.06666667 0.46153846 0.         0.         0.         0.\n",
      " 0.         0.         0.         0.         0.         0.\n",
      " 0.         0.         0.         0.         0.         0.\n",
      " 0.         0.         0.         0.         0.         0.\n",
      " 0.         0.         0.         0.         0.         0.\n",
      " 0.         0.         0.         0.         0.         0.\n",
      " 0.         0.         0.         0.         0.         0.\n",
      " 0.         0.         0.         0.         0.         0.\n",
      " 0.         0.         0.         0.         0.         0.\n",
      " 0.         0.         0.         0.         0.         0.\n",
      " 0.         0.         0.         0.         0.         0.\n",
      " 0.         0.         0.         0.         0.         0.\n",
      " 0.         0.         0.         0.         0.         0.\n",
      " 0.         0.         1.         0.         0.         0.\n",
      " 0.         0.         0.         0.         0.         0.\n",
      " 0.         0.         0.         0.         0.         0.\n",
      " 0.         0.         0.         0.         0.         0.\n",
      " 0.         0.         0.         0.         0.         0.\n",
      " 0.         0.         0.         0.         0.         0.\n",
      " 0.         0.         0.         0.         0.         0.\n",
      " 0.         0.         0.         0.         0.         0.\n",
      " 0.         0.         0.         0.         0.         0.\n",
      " 0.         0.         0.         0.         0.         0.\n",
      " 0.         0.         0.         0.         0.         0.\n",
      " 1.         0.         0.         0.         0.         0.\n",
      " 0.         0.         0.         0.         0.         0.\n",
      " 0.         0.         0.         0.         0.         0.\n",
      " 0.         0.         0.         0.         0.         0.\n",
      " 0.         0.         0.         0.         0.         0.\n",
      " 0.         0.         0.         0.         0.         0.\n",
      " 0.         0.         0.         0.         0.         0.\n",
      " 1.         0.         0.         0.         0.         0.\n",
      " 0.         0.         0.         0.         0.         0.\n",
      " 0.         0.         0.         0.         0.         0.\n",
      " 0.         0.         0.         0.         0.         0.\n",
      " 0.         0.         0.         0.         0.         0.\n",
      " 0.         0.         0.         0.         0.         0.\n",
      " 0.         0.         0.         0.         0.         0.\n",
      " 1.         0.         0.         0.         0.         0.\n",
      " 0.         0.         0.         0.         0.         0.\n",
      " 0.         0.         0.         0.         0.         0.\n",
      " 0.         0.         0.         0.         0.         0.\n",
      " 0.         1.         0.         1.         1.         1.\n",
      " 0.         1.         1.         1.         0.         1.\n",
      " 1.         1.         0.         1.         1.         1.\n",
      " 0.         0.         1.         0.         1.         0.\n",
      " 0.         0.         1.         0.         1.         0.\n",
      " 1.         0.         0.         0.         0.         0.\n",
      " 1.         1.         1.         0.         0.         0.\n",
      " 0.         0.         0.         1.         0.         1.\n",
      " 0.         0.        ]\n"
     ]
    }
   ],
   "source": [
    "print(X_test[1])"
   ]
  },
  {
   "cell_type": "markdown",
   "id": "5ddbec2d-4fcd-40bd-8d1a-9984036eecab",
   "metadata": {},
   "source": [
    "## Treinamento de um classificador com um algoritmo integrado ao SageMaker\n",
    "\n",
    "Nesta etapa, você chamará o algoritmo  `LinearLearner()` do SageMaker com as seguintes opções:\n",
    "* __Permissions -__  `role` está configurado como a role do AWS Identity and Access Management (IAM) do ambiente atual.\n",
    "* __Compute power -__ Você usará os parâmetros  `train_instance_count` e  `train_instance_type`. Este exemplo usa um recurso  `ml.m4.xlarge` para o treinamento. É possível alterar o tipo de instância dependendo de suas necessidades. (Por exemplo, você pode usar GPUs para redes neurais.) \n",
    "* __Model type -__  `predictor_type` está configurado como __`binary_classifier`__, porque você está lidando com um problema de classificação binária. É possível usar __`multiclass_classifier`__ se há três ou mais classes envolvidas ou usar __`regressor`__ para um problema de regressão.\n"
   ]
  },
  {
   "cell_type": "code",
   "execution_count": 28,
   "id": "61b010b6-93f3-4300-8ecf-c5354eea7331",
   "metadata": {
    "tags": []
   },
   "outputs": [],
   "source": [
    "import sagemaker\n",
    "\n",
    "# Call the LinearLearner estimator object\n",
    "linear_classifier = sagemaker.LinearLearner(role=sagemaker.get_execution_role(),\n",
    "                                           instance_count=1,\n",
    "                                           instance_type='ml.m4.xlarge',\n",
    "                                           predictor_type='binary_classifier')"
   ]
  },
  {
   "cell_type": "markdown",
   "id": "6c78df13-679f-400d-ab73-ad5eadf7ceca",
   "metadata": {},
   "source": [
    "Para definir as partes de treinamento, validação e teste do estimador, use a função  `record_set()` do  `binary_estimator`. "
   ]
  },
  {
   "cell_type": "code",
   "execution_count": 29,
   "id": "13e92a7f-db52-4499-b37b-9f1a5874c09f",
   "metadata": {
    "tags": []
   },
   "outputs": [],
   "source": [
    "train_records = linear_classifier.record_set(X_train.astype('float32'),\n",
    "                                            y_train.values.astype('float32'),\n",
    "                                            channel='train')\n",
    "val_records = linear_classifier.record_set(X_val.astype('float32'),\n",
    "                                          y_val.values.astype('float32'),\n",
    "                                          channel='validation')\n",
    "test_records = linear_classifier.record_set(X_test.astype('float32'),\n",
    "                                           y_test.values.astype('float32'),\n",
    "                                           channel='test')"
   ]
  },
  {
   "cell_type": "markdown",
   "id": "53ba3d24-5805-4119-9420-d089ccf04daa",
   "metadata": {},
   "source": [
    "A função  `fit()` aplica uma versão distribuída do algoritmo Stochastic Gradient Descent (SGD), e você envia os dados para ele. Os registros foram desabilitados com  `logs=False`. É possível remover esse parâmetro para ver mais detalhes sobre o processo. __Esse processo leva cerca de 3 a 4 minutos em uma instância ml.m4.xlarge.__"
   ]
  },
  {
   "cell_type": "code",
   "execution_count": 30,
   "id": "41aa9db5-6154-4ec9-a962-0b6046fe4858",
   "metadata": {
    "tags": []
   },
   "outputs": [
    {
     "name": "stderr",
     "output_type": "stream",
     "text": [
      "INFO:sagemaker.image_uris:Same images used for training and inference. Defaulting to image scope: inference.\n",
      "INFO:sagemaker.image_uris:Ignoring unnecessary instance type: None.\n",
      "INFO:sagemaker:Creating training-job with name: linear-learner-2023-04-30-16-55-06-020\n"
     ]
    },
    {
     "name": "stdout",
     "output_type": "stream",
     "text": [
      "\n",
      "2023-04-30 16:55:06 Starting - Starting the training job....\n",
      "2023-04-30 16:55:31 Starting - Preparing the instances for training.............\n",
      "2023-04-30 16:56:44 Downloading - Downloading input data....\n",
      "2023-04-30 16:57:09 Training - Downloading the training image.............\n",
      "2023-04-30 16:58:20 Training - Training image download completed. Training in progress......\n",
      "2023-04-30 16:58:50 Uploading - Uploading generated training model.\n",
      "2023-04-30 16:59:02 Completed - Training job completed\n"
     ]
    }
   ],
   "source": [
    "linear_classifier.fit([train_records,\n",
    "                       val_records,\n",
    "                       test_records],\n",
    "                       logs=False)"
   ]
  },
  {
   "cell_type": "markdown",
   "id": "cdf0bdca-3b29-4c36-ab59-9e67f7a60381",
   "metadata": {},
   "source": [
    "## Avaliação do modelo\n",
    "\n",
    "Use a análise do SageMaker para ver métricas de performance (de sua escolha) do conjunto de testes. Esse processo não exige a implementação do modelo. \n",
    "\n",
    "O linear learner apresenta métricas que são calculadas durante o treinamento. É possível usar essas métricas ao ajustar o modelo. As métricas disponíveis para o conjunto de validação são:\n",
    "\n",
    "- objective_loss - No caso de um problema de classificação binária, será o valor médio da perda logística para cada época\n",
    "- binary_classification_accuracy - A precisão do modelo final no conjunto de dados, ou seja, quantas previsões o modelo acertou\n",
    "- precision - Quantifica o número de previsões de classes positivas que são de fato positivas\n",
    "- recall - Quantifica o número de previsões de classes positivas\n",
    "- binary_f_beta - A média harmônica das métricas de precisão e recall\n",
    "\n",
    "Neste exemplo, é importante observar quantas previsões estavam corretas. O uso da métrica **binary_classification_accuracy** é apropriado."
   ]
  },
  {
   "cell_type": "code",
   "execution_count": 31,
   "id": "94f9bb8f-e9d1-4f05-994e-ef16f3283852",
   "metadata": {
    "tags": []
   },
   "outputs": [
    {
     "name": "stderr",
     "output_type": "stream",
     "text": [
      "INFO:botocore.credentials:Found credentials from IAM Role: BaseNotebookInstanceEc2InstanceRole\n"
     ]
    },
    {
     "data": {
      "text/html": [
       "<div>\n",
       "<style scoped>\n",
       "    .dataframe tbody tr th:only-of-type {\n",
       "        vertical-align: middle;\n",
       "    }\n",
       "\n",
       "    .dataframe tbody tr th {\n",
       "        vertical-align: top;\n",
       "    }\n",
       "\n",
       "    .dataframe thead th {\n",
       "        text-align: right;\n",
       "    }\n",
       "</style>\n",
       "<table border=\"1\" class=\"dataframe\">\n",
       "  <thead>\n",
       "    <tr style=\"text-align: right;\">\n",
       "      <th></th>\n",
       "      <th>timestamp</th>\n",
       "      <th>metric_name</th>\n",
       "      <th>value</th>\n",
       "    </tr>\n",
       "  </thead>\n",
       "  <tbody>\n",
       "    <tr>\n",
       "      <th>0</th>\n",
       "      <td>0.0</td>\n",
       "      <td>test:binary_classification_accuracy</td>\n",
       "      <td>0.833333</td>\n",
       "    </tr>\n",
       "  </tbody>\n",
       "</table>\n",
       "</div>"
      ],
      "text/plain": [
       "   timestamp                          metric_name     value\n",
       "0        0.0  test:binary_classification_accuracy  0.833333"
      ]
     },
     "execution_count": 31,
     "metadata": {},
     "output_type": "execute_result"
    }
   ],
   "source": [
    "sagemaker.analytics.TrainingJobAnalytics(linear_classifier._current_job_name, \n",
    "                                         metric_names = ['test:binary_classification_accuracy']\n",
    "                                        ).dataframe()"
   ]
  },
  {
   "cell_type": "code",
   "execution_count": 32,
   "id": "247a6636-de28-4da6-bf5b-b9311c4472a4",
   "metadata": {
    "tags": []
   },
   "outputs": [
    {
     "name": "stderr",
     "output_type": "stream",
     "text": [
      "INFO:botocore.credentials:Found credentials from IAM Role: BaseNotebookInstanceEc2InstanceRole\n",
      "WARNING:sagemaker.analytics:Warning: No metrics called train:binary_f_beta found\n",
      "WARNING:sagemaker.analytics:Warning: No metrics called validation:binary_log_loss found\n",
      "WARNING:sagemaker.analytics:Warning: No metrics called validation:binary_balanced_accuracy found\n",
      "WARNING:sagemaker.analytics:Warning: No metrics called train:binary_classification_accuracy found\n",
      "WARNING:sagemaker.analytics:Warning: No metrics called train:recall found\n",
      "WARNING:sagemaker.analytics:Warning: No metrics called train:precision found\n",
      "WARNING:sagemaker.analytics:Warning: No metrics called train:objective_loss:final found\n"
     ]
    },
    {
     "data": {
      "text/html": [
       "<div>\n",
       "<style scoped>\n",
       "    .dataframe tbody tr th:only-of-type {\n",
       "        vertical-align: middle;\n",
       "    }\n",
       "\n",
       "    .dataframe tbody tr th {\n",
       "        vertical-align: top;\n",
       "    }\n",
       "\n",
       "    .dataframe thead th {\n",
       "        text-align: right;\n",
       "    }\n",
       "</style>\n",
       "<table border=\"1\" class=\"dataframe\">\n",
       "  <thead>\n",
       "    <tr style=\"text-align: right;\">\n",
       "      <th></th>\n",
       "      <th>timestamp</th>\n",
       "      <th>metric_name</th>\n",
       "      <th>value</th>\n",
       "    </tr>\n",
       "  </thead>\n",
       "  <tbody>\n",
       "    <tr>\n",
       "      <th>0</th>\n",
       "      <td>0.0</td>\n",
       "      <td>train:progress</td>\n",
       "      <td>66.666667</td>\n",
       "    </tr>\n",
       "    <tr>\n",
       "      <th>1</th>\n",
       "      <td>0.0</td>\n",
       "      <td>test:binary_f_beta</td>\n",
       "      <td>0.666667</td>\n",
       "    </tr>\n",
       "    <tr>\n",
       "      <th>2</th>\n",
       "      <td>0.0</td>\n",
       "      <td>test:recall</td>\n",
       "      <td>1.000000</td>\n",
       "    </tr>\n",
       "    <tr>\n",
       "      <th>3</th>\n",
       "      <td>0.0</td>\n",
       "      <td>train:objective_loss</td>\n",
       "      <td>0.249677</td>\n",
       "    </tr>\n",
       "    <tr>\n",
       "      <th>4</th>\n",
       "      <td>0.0</td>\n",
       "      <td>test:objective_loss</td>\n",
       "      <td>0.470651</td>\n",
       "    </tr>\n",
       "    <tr>\n",
       "      <th>5</th>\n",
       "      <td>0.0</td>\n",
       "      <td>validation:binary_f_beta</td>\n",
       "      <td>0.666667</td>\n",
       "    </tr>\n",
       "    <tr>\n",
       "      <th>6</th>\n",
       "      <td>0.0</td>\n",
       "      <td>validation:objective_loss</td>\n",
       "      <td>0.648490</td>\n",
       "    </tr>\n",
       "    <tr>\n",
       "      <th>7</th>\n",
       "      <td>0.0</td>\n",
       "      <td>validation:objective_loss:final</td>\n",
       "      <td>0.499667</td>\n",
       "    </tr>\n",
       "    <tr>\n",
       "      <th>8</th>\n",
       "      <td>0.0</td>\n",
       "      <td>test:precision</td>\n",
       "      <td>0.500000</td>\n",
       "    </tr>\n",
       "    <tr>\n",
       "      <th>9</th>\n",
       "      <td>0.0</td>\n",
       "      <td>validation:binary_classification_accuracy</td>\n",
       "      <td>0.800000</td>\n",
       "    </tr>\n",
       "    <tr>\n",
       "      <th>10</th>\n",
       "      <td>0.0</td>\n",
       "      <td>validation:roc_auc_score</td>\n",
       "      <td>1.000000</td>\n",
       "    </tr>\n",
       "    <tr>\n",
       "      <th>11</th>\n",
       "      <td>0.0</td>\n",
       "      <td>validation:recall</td>\n",
       "      <td>1.000000</td>\n",
       "    </tr>\n",
       "    <tr>\n",
       "      <th>12</th>\n",
       "      <td>0.0</td>\n",
       "      <td>validation:precision</td>\n",
       "      <td>0.500000</td>\n",
       "    </tr>\n",
       "    <tr>\n",
       "      <th>13</th>\n",
       "      <td>0.0</td>\n",
       "      <td>train:throughput</td>\n",
       "      <td>159.444325</td>\n",
       "    </tr>\n",
       "    <tr>\n",
       "      <th>14</th>\n",
       "      <td>0.0</td>\n",
       "      <td>test:binary_classification_accuracy</td>\n",
       "      <td>0.833333</td>\n",
       "    </tr>\n",
       "    <tr>\n",
       "      <th>15</th>\n",
       "      <td>0.0</td>\n",
       "      <td>test:roc_auc_score</td>\n",
       "      <td>0.800000</td>\n",
       "    </tr>\n",
       "  </tbody>\n",
       "</table>\n",
       "</div>"
      ],
      "text/plain": [
       "    timestamp                                metric_name       value\n",
       "0         0.0                             train:progress   66.666667\n",
       "1         0.0                         test:binary_f_beta    0.666667\n",
       "2         0.0                                test:recall    1.000000\n",
       "3         0.0                       train:objective_loss    0.249677\n",
       "4         0.0                        test:objective_loss    0.470651\n",
       "5         0.0                   validation:binary_f_beta    0.666667\n",
       "6         0.0                  validation:objective_loss    0.648490\n",
       "7         0.0            validation:objective_loss:final    0.499667\n",
       "8         0.0                             test:precision    0.500000\n",
       "9         0.0  validation:binary_classification_accuracy    0.800000\n",
       "10        0.0                   validation:roc_auc_score    1.000000\n",
       "11        0.0                          validation:recall    1.000000\n",
       "12        0.0                       validation:precision    0.500000\n",
       "13        0.0                           train:throughput  159.444325\n",
       "14        0.0        test:binary_classification_accuracy    0.833333\n",
       "15        0.0                         test:roc_auc_score    0.800000"
      ]
     },
     "execution_count": 32,
     "metadata": {},
     "output_type": "execute_result"
    }
   ],
   "source": [
    "sagemaker.analytics.TrainingJobAnalytics(linear_classifier._current_job_name).dataframe()"
   ]
  },
  {
   "cell_type": "markdown",
   "id": "21d0e3d0-1ade-41b0-9dae-f7d32488b3fd",
   "metadata": {},
   "source": [
    "O valor aproximado de 0,85 deve aparecer. O número pode ser diferente, mas deve estar em torno desse valor. Isso quer dizer que o modelo prevê, com precisão, a resposta correta em 85% do tempo. Dependendo do caso de negócios, talvez seja necessário ajustar os hiperparâmetros para melhorar o modelo ainda mais ou fazer engenharia de recursos."
   ]
  },
  {
   "cell_type": "markdown",
   "id": "4f9392d0-8431-4643-8c5d-5c15e2a58439",
   "metadata": {},
   "source": [
    "## Implementação do modelo em um endpoint\n",
    "\n",
    "Nesta última parte do exercício, você implementará o modelo em outra instância de sua escolha. É possível usar esse modelo em um ambiente de produção. Os endpoints implementados podem ser usados com outros serviços da AWS, como o AWS Lambda e o Amazon API Gateway. Para saber mais, veja a seguinte demonstração: [Chamar um endpoint de modelo do Amazon SageMaker usando o Amazon API Gateway e o AWS Lambda] (https://aws.amazon.com/blogs/machine-learning/call-an-amazon-sagemaker-model-endpoint-using-amazon-api-gateway-and-aws-lambda/).\n",
    "\n",
    "Para implementar o modelo, execute a seguinte célula: É possível usar diferentes tipos de instância, como: _ml.t2.medium_, _ml.c4.xlarge_), entre outras. __Esse processo levará de 7 a 8 minutos.__"
   ]
  },
  {
   "cell_type": "code",
   "execution_count": 33,
   "id": "b9c88a56-e408-4933-8127-7b4ad1cd7009",
   "metadata": {
    "tags": []
   },
   "outputs": [
    {
     "name": "stderr",
     "output_type": "stream",
     "text": [
      "INFO:sagemaker.image_uris:Same images used for training and inference. Defaulting to image scope: inference.\n",
      "INFO:sagemaker.image_uris:Ignoring unnecessary instance type: None.\n",
      "INFO:sagemaker:Creating model with name: linear-learner-2023-04-30-16-59-05-654\n",
      "INFO:sagemaker:Creating endpoint-config with name linear-learner-2023-04-30-16-59-05-654\n",
      "INFO:sagemaker:Creating endpoint with name linear-learner-2023-04-30-16-59-05-654\n"
     ]
    },
    {
     "name": "stdout",
     "output_type": "stream",
     "text": [
      "----------!"
     ]
    }
   ],
   "source": [
    "\n",
    "linear_classifier_predictor = linear_classifier.deploy(initial_instance_count = 1,\n",
    "                                                       instance_type = 'ml.c5.large'\n",
    "                                                      )"
   ]
  },
  {
   "cell_type": "markdown",
   "id": "623f27b9-f791-408f-8193-cd89697031e6",
   "metadata": {},
   "source": [
    "## Teste do endpoint\n",
    "\n",
    "Agora que o endpoint está implementado, você enviará os dados de teste para ele e verá previsões dos dados."
   ]
  },
  {
   "cell_type": "code",
   "execution_count": 34,
   "id": "df13d4e0-8a90-49c7-8e43-8523991ce164",
   "metadata": {
    "tags": []
   },
   "outputs": [
    {
     "name": "stdout",
     "output_type": "stream",
     "text": [
      "[0.20470072329044342, 0.7531663179397583, 0.6881096959114075, 0.2775072455406189, 0.2640203535556793, 0.17339107394218445]\n",
      "[0.0, 1.0, 1.0, 0.0, 0.0, 0.0]\n"
     ]
    }
   ],
   "source": [
    "import numpy as np\n",
    "\n",
    "# Get test data in batch size of 1 and make predictions.\n",
    "prediction_batches = [linear_classifier_predictor.predict(batch)\n",
    "                      for batch in np.array_split(X_test.astype('float32'), 1)\n",
    "                     ]\n",
    "\n",
    "# Get a list of predictions\n",
    "print([pred.label['score'].float32_tensor.values[0] for pred in prediction_batches[0]])\n",
    "print([pred.label['predicted_label'].float32_tensor.values[0] for pred in prediction_batches[0]])"
   ]
  },
  {
   "cell_type": "code",
   "execution_count": 35,
   "id": "49fe20b2-648c-4a0b-a2fe-3d4236018b10",
   "metadata": {
    "tags": []
   },
   "outputs": [
    {
     "name": "stdout",
     "output_type": "stream",
     "text": [
      "[0.7531663179397583]\n",
      "[1.0]\n"
     ]
    }
   ],
   "source": [
    "prediction = [linear_classifier_predictor.predict(X_test.astype('float32')[1])]\n",
    "\n",
    "# Get a list of predictions\n",
    "print([pred.label['score'].float32_tensor.values[0] for pred in prediction[0]])\n",
    "print([pred.label['predicted_label'].float32_tensor.values[0] for pred in prediction[0]])"
   ]
  },
  {
   "cell_type": "code",
   "execution_count": 36,
   "id": "89f778fb-38ea-46ba-9f70-7b505f9aa398",
   "metadata": {
    "tags": []
   },
   "outputs": [
    {
     "data": {
      "text/plain": [
       "array([0.06666667, 0.46153846, 0.        , 0.        , 0.        ,\n",
       "       0.        , 0.        , 0.        , 0.        , 0.        ,\n",
       "       0.        , 0.        , 0.        , 0.        , 0.        ,\n",
       "       0.        , 0.        , 0.        , 0.        , 0.        ,\n",
       "       0.        , 0.        , 0.        , 0.        , 0.        ,\n",
       "       0.        , 0.        , 0.        , 0.        , 0.        ,\n",
       "       0.        , 0.        , 0.        , 0.        , 0.        ,\n",
       "       0.        , 0.        , 0.        , 0.        , 0.        ,\n",
       "       0.        , 0.        , 0.        , 0.        , 0.        ,\n",
       "       0.        , 0.        , 0.        , 0.        , 0.        ,\n",
       "       0.        , 0.        , 0.        , 0.        , 0.        ,\n",
       "       0.        , 0.        , 0.        , 0.        , 0.        ,\n",
       "       0.        , 0.        , 0.        , 0.        , 0.        ,\n",
       "       0.        , 0.        , 0.        , 0.        , 0.        ,\n",
       "       0.        , 0.        , 0.        , 0.        , 0.        ,\n",
       "       0.        , 0.        , 0.        , 0.        , 0.        ,\n",
       "       1.        , 0.        , 0.        , 0.        , 0.        ,\n",
       "       0.        , 0.        , 0.        , 0.        , 0.        ,\n",
       "       0.        , 0.        , 0.        , 0.        , 0.        ,\n",
       "       0.        , 0.        , 0.        , 0.        , 0.        ,\n",
       "       0.        , 0.        , 0.        , 0.        , 0.        ,\n",
       "       0.        , 0.        , 0.        , 0.        , 0.        ,\n",
       "       0.        , 0.        , 0.        , 0.        , 0.        ,\n",
       "       0.        , 0.        , 0.        , 0.        , 0.        ,\n",
       "       0.        , 0.        , 0.        , 0.        , 0.        ,\n",
       "       0.        , 0.        , 0.        , 0.        , 0.        ,\n",
       "       0.        , 0.        , 0.        , 0.        , 0.        ,\n",
       "       0.        , 0.        , 0.        , 0.        , 0.        ,\n",
       "       0.        , 0.        , 0.        , 0.        , 1.        ,\n",
       "       0.        , 0.        , 0.        , 0.        , 0.        ,\n",
       "       0.        , 0.        , 0.        , 0.        , 0.        ,\n",
       "       0.        , 0.        , 0.        , 0.        , 0.        ,\n",
       "       0.        , 0.        , 0.        , 0.        , 0.        ,\n",
       "       0.        , 0.        , 0.        , 0.        , 0.        ,\n",
       "       0.        , 0.        , 0.        , 0.        , 0.        ,\n",
       "       0.        , 0.        , 0.        , 0.        , 0.        ,\n",
       "       0.        , 0.        , 0.        , 0.        , 0.        ,\n",
       "       0.        , 1.        , 0.        , 0.        , 0.        ,\n",
       "       0.        , 0.        , 0.        , 0.        , 0.        ,\n",
       "       0.        , 0.        , 0.        , 0.        , 0.        ,\n",
       "       0.        , 0.        , 0.        , 0.        , 0.        ,\n",
       "       0.        , 0.        , 0.        , 0.        , 0.        ,\n",
       "       0.        , 0.        , 0.        , 0.        , 0.        ,\n",
       "       0.        , 0.        , 0.        , 0.        , 0.        ,\n",
       "       0.        , 0.        , 0.        , 0.        , 0.        ,\n",
       "       0.        , 0.        , 0.        , 1.        , 0.        ,\n",
       "       0.        , 0.        , 0.        , 0.        , 0.        ,\n",
       "       0.        , 0.        , 0.        , 0.        , 0.        ,\n",
       "       0.        , 0.        , 0.        , 0.        , 0.        ,\n",
       "       0.        , 0.        , 0.        , 0.        , 0.        ,\n",
       "       0.        , 0.        , 0.        , 1.        , 0.        ,\n",
       "       1.        , 1.        , 1.        , 0.        , 1.        ,\n",
       "       1.        , 1.        , 0.        , 1.        , 1.        ,\n",
       "       1.        , 0.        , 1.        , 1.        , 1.        ,\n",
       "       0.        , 0.        , 1.        , 0.        , 1.        ,\n",
       "       0.        , 0.        , 0.        , 1.        , 0.        ,\n",
       "       1.        , 0.        , 1.        , 0.        , 0.        ,\n",
       "       0.        , 0.        , 0.        , 1.        , 1.        ,\n",
       "       1.        , 0.        , 0.        , 0.        , 0.        ,\n",
       "       0.        , 0.        , 1.        , 0.        , 1.        ,\n",
       "       0.        , 0.        ], dtype=float32)"
      ]
     },
     "execution_count": 36,
     "metadata": {},
     "output_type": "execute_result"
    }
   ],
   "source": [
    "X_test.astype('float32')[1]"
   ]
  },
  {
   "cell_type": "code",
   "execution_count": 37,
   "id": "f6555ebc-d495-4de9-a7af-691a584c727b",
   "metadata": {
    "tags": []
   },
   "outputs": [
    {
     "name": "stdout",
     "output_type": "stream",
     "text": [
      "[float32_tensor {\n",
      "  values: 0.7531663179397583\n",
      "}\n",
      "]\n",
      "[float32_tensor {\n",
      "  values: 1.0\n",
      "}\n",
      "]\n"
     ]
    }
   ],
   "source": [
    "prediction = [linear_classifier_predictor.predict(X_test.astype('float32')[1])]\n",
    "print([pred.label['score'] for pred in prediction[0]])\n",
    "print([pred.label['predicted_label'] for pred in prediction[0]])"
   ]
  },
  {
   "cell_type": "code",
   "execution_count": 38,
   "id": "b80c3157-1b41-454f-a40b-1cd74351e649",
   "metadata": {
    "tags": []
   },
   "outputs": [
    {
     "data": {
      "text/plain": [
       "[[label {\n",
       "    key: \"predicted_label\"\n",
       "    value {\n",
       "      float32_tensor {\n",
       "        values: 1.0\n",
       "      }\n",
       "    }\n",
       "  }\n",
       "  label {\n",
       "    key: \"score\"\n",
       "    value {\n",
       "      float32_tensor {\n",
       "        values: 0.7531663179397583\n",
       "      }\n",
       "    }\n",
       "  }]]"
      ]
     },
     "execution_count": 38,
     "metadata": {},
     "output_type": "execute_result"
    }
   ],
   "source": [
    "prediction"
   ]
  },
  {
   "cell_type": "code",
   "execution_count": 39,
   "id": "b605382c-fdb4-41a2-bfa4-4142adb4aabc",
   "metadata": {
    "tags": []
   },
   "outputs": [],
   "source": [
    "test_data = X_test.astype('float32')[1]"
   ]
  },
  {
   "cell_type": "code",
   "execution_count": 47,
   "id": "b00a2a3d-3205-4da3-8ba3-bdca9364da7e",
   "metadata": {
    "tags": []
   },
   "outputs": [
    {
     "data": {
      "text/plain": [
       "array([0.06666667, 0.46153846, 0.        , 0.        , 0.        ,\n",
       "       0.        , 0.        , 0.        , 0.        , 0.        ,\n",
       "       0.        , 0.        , 0.        , 0.        , 0.        ,\n",
       "       0.        , 0.        , 0.        , 0.        , 0.        ,\n",
       "       0.        , 0.        , 0.        , 0.        , 0.        ,\n",
       "       0.        , 0.        , 0.        , 0.        , 0.        ,\n",
       "       0.        , 0.        , 0.        , 0.        , 0.        ,\n",
       "       0.        , 0.        , 0.        , 0.        , 0.        ,\n",
       "       0.        , 0.        , 0.        , 0.        , 0.        ,\n",
       "       0.        , 0.        , 0.        , 0.        , 0.        ,\n",
       "       0.        , 0.        , 0.        , 0.        , 0.        ,\n",
       "       0.        , 0.        , 0.        , 0.        , 0.        ,\n",
       "       0.        , 0.        , 0.        , 0.        , 0.        ,\n",
       "       0.        , 0.        , 0.        , 0.        , 0.        ,\n",
       "       0.        , 0.        , 0.        , 0.        , 0.        ,\n",
       "       0.        , 0.        , 0.        , 0.        , 0.        ,\n",
       "       1.        , 0.        , 0.        , 0.        , 0.        ,\n",
       "       0.        , 0.        , 0.        , 0.        , 0.        ,\n",
       "       0.        , 0.        , 0.        , 0.        , 0.        ,\n",
       "       0.        , 0.        , 0.        , 0.        , 0.        ,\n",
       "       0.        , 0.        , 0.        , 0.        , 0.        ,\n",
       "       0.        , 0.        , 0.        , 0.        , 0.        ,\n",
       "       0.        , 0.        , 0.        , 0.        , 0.        ,\n",
       "       0.        , 0.        , 0.        , 0.        , 0.        ,\n",
       "       0.        , 0.        , 0.        , 0.        , 0.        ,\n",
       "       0.        , 0.        , 0.        , 0.        , 0.        ,\n",
       "       0.        , 0.        , 0.        , 0.        , 0.        ,\n",
       "       0.        , 0.        , 0.        , 0.        , 0.        ,\n",
       "       0.        , 0.        , 0.        , 0.        , 1.        ,\n",
       "       0.        , 0.        , 0.        , 0.        , 0.        ,\n",
       "       0.        , 0.        , 0.        , 0.        , 0.        ,\n",
       "       0.        , 0.        , 0.        , 0.        , 0.        ,\n",
       "       0.        , 0.        , 0.        , 0.        , 0.        ,\n",
       "       0.        , 0.        , 0.        , 0.        , 0.        ,\n",
       "       0.        , 0.        , 0.        , 0.        , 0.        ,\n",
       "       0.        , 0.        , 0.        , 0.        , 0.        ,\n",
       "       0.        , 0.        , 0.        , 0.        , 0.        ,\n",
       "       0.        , 1.        , 0.        , 0.        , 0.        ,\n",
       "       0.        , 0.        , 0.        , 0.        , 0.        ,\n",
       "       0.        , 0.        , 0.        , 0.        , 0.        ,\n",
       "       0.        , 0.        , 0.        , 0.        , 0.        ,\n",
       "       0.        , 0.        , 0.        , 0.        , 0.        ,\n",
       "       0.        , 0.        , 0.        , 0.        , 0.        ,\n",
       "       0.        , 0.        , 0.        , 0.        , 0.        ,\n",
       "       0.        , 0.        , 0.        , 0.        , 0.        ,\n",
       "       0.        , 0.        , 0.        , 1.        , 0.        ,\n",
       "       0.        , 0.        , 0.        , 0.        , 0.        ,\n",
       "       0.        , 0.        , 0.        , 0.        , 0.        ,\n",
       "       0.        , 0.        , 0.        , 0.        , 0.        ,\n",
       "       0.        , 0.        , 0.        , 0.        , 0.        ,\n",
       "       0.        , 0.        , 0.        , 1.        , 0.        ,\n",
       "       1.        , 1.        , 1.        , 0.        , 1.        ,\n",
       "       1.        , 1.        , 0.        , 1.        , 1.        ,\n",
       "       1.        , 0.        , 1.        , 1.        , 1.        ,\n",
       "       0.        , 0.        , 1.        , 0.        , 1.        ,\n",
       "       0.        , 0.        , 0.        , 1.        , 0.        ,\n",
       "       1.        , 0.        , 1.        , 0.        , 0.        ,\n",
       "       0.        , 0.        , 0.        , 1.        , 1.        ,\n",
       "       1.        , 0.        , 0.        , 0.        , 0.        ,\n",
       "       0.        , 0.        , 1.        , 0.        , 1.        ,\n",
       "       0.        , 0.        ], dtype=float32)"
      ]
     },
     "execution_count": 47,
     "metadata": {},
     "output_type": "execute_result"
    }
   ],
   "source": [
    "test_data"
   ]
  },
  {
   "cell_type": "code",
   "execution_count": 41,
   "id": "26e5f50c-4b74-4f01-a3a5-e9970b0b3154",
   "metadata": {
    "tags": []
   },
   "outputs": [
    {
     "name": "stdout",
     "output_type": "stream",
     "text": [
      "[0.7531663179397583]\n",
      "[1.0]\n"
     ]
    }
   ],
   "source": [
    "prediction = [linear_classifier_predictor.predict(test_data)]\n",
    "\n",
    "# Get a list of predictions\n",
    "print([pred.label['score'].float32_tensor.values[0] for pred in prediction[0]])\n",
    "print([pred.label['predicted_label'].float32_tensor.values[0] for pred in prediction[0]])"
   ]
  },
  {
   "cell_type": "code",
   "execution_count": 42,
   "id": "d282e7d4-dc2b-4960-b80b-d9ed7b661304",
   "metadata": {
    "tags": []
   },
   "outputs": [
    {
     "data": {
      "text/plain": [
       "[[label {\n",
       "    key: \"predicted_label\"\n",
       "    value {\n",
       "      float32_tensor {\n",
       "        values: 1.0\n",
       "      }\n",
       "    }\n",
       "  }\n",
       "  label {\n",
       "    key: \"score\"\n",
       "    value {\n",
       "      float32_tensor {\n",
       "        values: 0.7531663179397583\n",
       "      }\n",
       "    }\n",
       "  }]]"
      ]
     },
     "execution_count": 42,
     "metadata": {},
     "output_type": "execute_result"
    }
   ],
   "source": [
    "prediction"
   ]
  },
  {
   "cell_type": "code",
   "execution_count": null,
   "id": "29339091-0dfd-45f3-95b5-9c2813241746",
   "metadata": {},
   "outputs": [],
   "source": []
  },
  {
   "cell_type": "code",
   "execution_count": null,
   "id": "251d5058-05c9-4345-b725-f3eda1247e33",
   "metadata": {},
   "outputs": [],
   "source": []
  },
  {
   "cell_type": "code",
   "execution_count": null,
   "id": "7c0929cb-50f7-414e-8823-11caafb5a948",
   "metadata": {},
   "outputs": [],
   "source": []
  },
  {
   "cell_type": "code",
   "execution_count": null,
   "id": "7d295174-55f1-4e44-bae4-a1efeffc3d7e",
   "metadata": {},
   "outputs": [],
   "source": []
  },
  {
   "cell_type": "markdown",
   "id": "ef25a2b9-5298-4669-84e7-7661f9ab6b28",
   "metadata": {},
   "source": [
    "## Remoção de artefatos do modelo\n",
    "\n",
    "Siga as etapas abaixo para excluir o endpoint depois que terminar de usá-lo. \n",
    "\n",
    "**Dica:** lembre-se de que, se você usar sua própria conta, serão registradas cobranças caso você não exclua o endpoint e outros recursos."
   ]
  },
  {
   "cell_type": "code",
   "execution_count": 48,
   "id": "497b5dab-bf3f-4f39-a9a0-3e0568986d33",
   "metadata": {
    "tags": []
   },
   "outputs": [
    {
     "name": "stderr",
     "output_type": "stream",
     "text": [
      "INFO:sagemaker:Deleting endpoint configuration with name: linear-learner-2023-04-30-16-59-05-654\n",
      "INFO:sagemaker:Deleting endpoint with name: linear-learner-2023-04-30-16-59-05-654\n"
     ]
    }
   ],
   "source": [
    "linear_classifier_predictor.delete_endpoint()"
   ]
  },
  {
   "cell_type": "markdown",
   "id": "84cf4b4b-4d34-4cb9-9a3e-9b5bafd50b36",
   "metadata": {},
   "source": [
    "# Final\n",
    "\n",
    "Neste laboratório, você acompanhou um problema de PLN muito simples. Com um conjunto de dados classificado, você usou um tokenizador e um codificador simples para gerar os dados necessários para treinar um modelo de linear learner. Depois, você implementou o modelo e fez algumas previsões. Se você estivesse realizando esse processo de verdade, provavelmente precisaria obter os dados e identificá-los para o treinamento. Uma opção é usar um algoritmo pré-treinado ou um serviço gerenciado. Também provavelmente seria necessário ajustar os hiperparâmetros para melhorar o modelo ainda mais.\n",
    "\n"
   ]
  },
  {
   "cell_type": "code",
   "execution_count": null,
   "id": "f2b79709-a24f-4101-a691-290642774e91",
   "metadata": {},
   "outputs": [],
   "source": []
  },
  {
   "cell_type": "code",
   "execution_count": null,
   "id": "97ca2f80-179c-45a0-9ae3-4714d3d60ad6",
   "metadata": {},
   "outputs": [],
   "source": []
  },
  {
   "cell_type": "code",
   "execution_count": null,
   "id": "b35c1eee-dc89-48a4-821a-50615c79b96f",
   "metadata": {},
   "outputs": [],
   "source": []
  },
  {
   "cell_type": "code",
   "execution_count": null,
   "id": "a0a76281-6125-4c80-a4ac-293b00e6f401",
   "metadata": {},
   "outputs": [],
   "source": []
  },
  {
   "cell_type": "code",
   "execution_count": null,
   "id": "6f2eef60-01fa-459f-9a55-93b3410cab35",
   "metadata": {},
   "outputs": [],
   "source": []
  },
  {
   "cell_type": "code",
   "execution_count": null,
   "id": "d4992b0e-5381-4c44-88ba-cfe8b42268d0",
   "metadata": {},
   "outputs": [],
   "source": []
  },
  {
   "cell_type": "code",
   "execution_count": null,
   "id": "c8be0e72-7eb6-44cd-bb85-a4bfef08fe96",
   "metadata": {},
   "outputs": [],
   "source": []
  },
  {
   "cell_type": "code",
   "execution_count": null,
   "id": "820ba3ad-71c5-46b0-b6d2-cdb540f8b45a",
   "metadata": {},
   "outputs": [],
   "source": []
  },
  {
   "cell_type": "code",
   "execution_count": null,
   "id": "a59c349f-1f87-4fcf-836b-02ca046b5780",
   "metadata": {},
   "outputs": [],
   "source": []
  }
 ],
 "metadata": {
  "kernelspec": {
   "display_name": "conda_python3",
   "language": "python",
   "name": "conda_python3"
  },
  "language_info": {
   "codemirror_mode": {
    "name": "ipython",
    "version": 3
   },
   "file_extension": ".py",
   "mimetype": "text/x-python",
   "name": "python",
   "nbconvert_exporter": "python",
   "pygments_lexer": "ipython3",
   "version": "3.10.8"
  },
  "widgets": {
   "application/vnd.jupyter.widget-state+json": {
    "state": {},
    "version_major": 2,
    "version_minor": 0
   }
  }
 },
 "nbformat": 4,
 "nbformat_minor": 5
}
